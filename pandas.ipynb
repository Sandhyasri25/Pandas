{
 "cells": [
  {
   "cell_type": "code",
   "execution_count": 7,
   "id": "2e4ef96b-ec0a-4498-8eb3-8482fa74d8bc",
   "metadata": {},
   "outputs": [
    {
     "name": "stdout",
     "output_type": "stream",
     "text": [
      "A    10\n",
      "B    20\n",
      "C    30\n",
      "D    40\n",
      "dtype: int64\n"
     ]
    }
   ],
   "source": [
    "import pandas as pd\n",
    "data=[10,20,30,40]\n",
    "series=pd.Series(data,index=['A','B','C','D'])\n",
    "print(series)"
   ]
  },
  {
   "cell_type": "code",
   "execution_count": 9,
   "id": "394bfb83-3d84-40be-8d21-e3a1c90cbe23",
   "metadata": {},
   "outputs": [
    {
     "name": "stdout",
     "output_type": "stream",
     "text": [
      "     Name  Age      city\n",
      "0   Kiran   25  Hydrebad\n",
      "1    Amar   30   Chennai\n",
      "2  Suresh   35  Banglore\n"
     ]
    }
   ],
   "source": [
    "import pandas as pd\n",
    "data={\n",
    "     'Name':['Kiran','Amar','Suresh'],\n",
    "     'Age':[25,30,35],\n",
    "     'city':['Hydrebad','Chennai','Banglore']\n",
    "     }\n",
    "df=pd.DataFrame(data)\n",
    "print(df)"
   ]
  },
  {
   "cell_type": "code",
   "execution_count": 11,
   "id": "8eccc930-b205-4534-93f0-35836ded32eb",
   "metadata": {},
   "outputs": [
    {
     "name": "stdout",
     "output_type": "stream",
     "text": [
      "0    10\n",
      "1    20\n",
      "2    30\n",
      "3    40\n",
      "dtype: int64\n",
      "a    1\n",
      "b    2\n",
      "c    3\n",
      "dtype: int64\n",
      "x    100\n",
      "y    200\n",
      "z    300\n",
      "dtype: int64\n",
      "0    11\n",
      "1    22\n",
      "2    33\n",
      "3    44\n",
      "dtype: int32\n"
     ]
    }
   ],
   "source": [
    "import pandas as pd\n",
    "import numpy as np\n",
    "data=[10,20,30,40]\n",
    "series=pd.Series(data)\n",
    "print(series)\n",
    "data_dict={'a':1,'b':2,'c':3}\n",
    "series_dict=pd.Series(data_dict)\n",
    "print(series_dict)\n",
    "data_custom=[100,200,300]\n",
    "index_custom=['x','y','z']\n",
    "series_custom=pd.Series(data_custom,index_custom)\n",
    "print(series_custom)\n",
    "data=np.array([11,22,33,44])\n",
    "series_numpy=pd.Series(data)\n",
    "print(series_numpy)"
   ]
  },
  {
   "cell_type": "code",
   "execution_count": 13,
   "id": "6c5f3c87-4c8b-4d47-86c0-112e211aca9f",
   "metadata": {},
   "outputs": [
    {
     "name": "stdout",
     "output_type": "stream",
     "text": [
      "Requirement already satisfied: openpyxl in c:\\users\\anb\\anaconda3\\lib\\site-packages (3.1.5)\n",
      "Requirement already satisfied: et-xmlfile in c:\\users\\anb\\anaconda3\\lib\\site-packages (from openpyxl) (1.1.0)\n",
      "Note: you may need to restart the kernel to use updated packages.\n"
     ]
    }
   ],
   "source": [
    "pip install openpyxl\n"
   ]
  },
  {
   "cell_type": "code",
   "execution_count": 15,
   "id": "2bcfba85-7511-4d5e-8a3e-bcc6ad0533a7",
   "metadata": {},
   "outputs": [
    {
     "name": "stdout",
     "output_type": "stream",
     "text": [
      "   Name    Id\n",
      "0    Sam  123\n",
      "1   Ravi   11\n",
      "2  Kiran  145\n",
      "3   Hari  167\n",
      "   Name    Id\n",
      "0    Sam  123\n",
      "1   Ravi   11\n",
      "2  Kiran  145\n",
      "3   Hari  167\n",
      "A    [1, 2]\n",
      "B    [3, 4]\n",
      "dtype: object\n",
      "   A  B\n",
      "0  1  3\n",
      "1  2  4\n"
     ]
    }
   ],
   "source": [
    "import pandas as pd\n",
    "data={\"A\":[1,2],\"B\":[3,4]}\n",
    "df=pd.DataFrame(data)\n",
    "df1=pd.Series(data)\n",
    "df2 = pd.read_csv(\"C:\\\\Users\\\\ANB\\\\Documents\\\\Book1.csv\")\n",
    "df3=pd.read_excel(\"E:\\\\pythonprogs\\\\Book2.xlsx\")\n",
    "print(df3)\n",
    "print(df2)\n",
    "print(df1)\n",
    "print(df)\n",
    "                     "
   ]
  },
  {
   "cell_type": "code",
   "execution_count": 17,
   "id": "f400cbed-ab7b-42ac-87fd-085a67b9cd5c",
   "metadata": {},
   "outputs": [
    {
     "name": "stdout",
     "output_type": "stream",
     "text": [
      "     empno   ename        job     mgr    hiredate      sal    comm  deptno\n",
      "0   7369.0   SMITH      CLERK  7902.0  1980-12-17    800.0     NaN    20.0\n",
      "1   7499.0   ALLEN   SALESMAN  7698.0  1981-02-20   1600.0   300.0    30.0\n",
      "2   7521.0    WARD   SALESMAN  7698.0  1981-02-22   1250.0   500.0    30.0\n",
      "3   7566.0   JONES    MANAGER  7839.0  1981-04-02   2975.0     NaN    20.0\n",
      "4   7654.0  MARTIN   SALESMAN  7698.0  1981-09-28   1250.0  1400.0    30.0\n",
      "5   7698.0   BLAKE    MANAGER  7839.0  1981-05-01   2850.0     NaN    30.0\n",
      "6   7782.0   CLARK    MANAGER  7839.0  1981-06-09   2450.0     NaN    10.0\n",
      "7   7788.0   SCOTT    ANALYST  7566.0  1987-07-13   3000.0     NaN    20.0\n",
      "8   7789.0  somesh  accoutant  7788.0  2022-11-11  45000.0  2000.0    75.0\n",
      "9   7839.0    KING  PRESIDENT     NaN  1981-11-17   5000.0     NaN    10.0\n",
      "10  7844.0  TURNER   SALESMAN  7698.0  1981-09-08   1500.0     0.0    30.0\n",
      "11  7876.0   ADAMS      CLERK  7788.0  1987-07-13   1100.0     NaN    20.0\n",
      "12  7900.0   JAMES      CLERK  7698.0  1981-12-03    950.0     NaN    30.0\n",
      "13  7902.0    FORD    ANALYST  7566.0  1981-12-03   3000.0     NaN    20.0\n",
      "14  7934.0  MILLER      CLERK  7782.0  1982-01-23   1300.0     NaN    10.0\n"
     ]
    },
    {
     "name": "stderr",
     "output_type": "stream",
     "text": [
      "C:\\Users\\ANB\\AppData\\Local\\Temp\\ipykernel_2108\\2908838368.py:12: UserWarning: pandas only supports SQLAlchemy connectable (engine/connection) or database string URI or sqlite3 DBAPI2 connection. Other DBAPI2 objects are not tested. Please consider using SQLAlchemy.\n",
      "  df4=pd.read_sql(query,conn)\n"
     ]
    }
   ],
   "source": [
    "import pandas as pd\n",
    "import pymysql\n",
    "db_name=\"employee\"\n",
    "db_host=\"localhost\"\n",
    "db_username=\"root\"\n",
    "db_password=\"sanMS123@\"\n",
    "conn=pymysql.connect(host=db_host,\n",
    "                     user=\"root\",\n",
    "                     password=\"sanMS123@\",\n",
    "                     db=db_name)\n",
    "query=\"select * from emp\"\n",
    "df4=pd.read_sql(query,conn)\n",
    "conn.close()\n",
    "print(df4)\n",
    "                     "
   ]
  },
  {
   "cell_type": "code",
   "execution_count": 19,
   "id": "fe451bd6-ccf1-4834-bef7-bccb6700af3f",
   "metadata": {},
   "outputs": [
    {
     "name": "stdout",
     "output_type": "stream",
     "text": [
      "    empno   ename       job     mgr    hiredate     sal    comm  deptno\n",
      "0  7369.0   SMITH     CLERK  7902.0  1980-12-17   800.0     NaN    20.0\n",
      "1  7499.0   ALLEN  SALESMAN  7698.0  1981-02-20  1600.0   300.0    30.0\n",
      "2  7521.0    WARD  SALESMAN  7698.0  1981-02-22  1250.0   500.0    30.0\n",
      "3  7566.0   JONES   MANAGER  7839.0  1981-04-02  2975.0     NaN    20.0\n",
      "4  7654.0  MARTIN  SALESMAN  7698.0  1981-09-28  1250.0  1400.0    30.0\n"
     ]
    }
   ],
   "source": [
    "print(df4.head())"
   ]
  },
  {
   "cell_type": "code",
   "execution_count": 21,
   "id": "d1871215-8164-48fc-b713-c5caece25480",
   "metadata": {},
   "outputs": [
    {
     "name": "stdout",
     "output_type": "stream",
     "text": [
      "     empno   ename       job     mgr    hiredate     sal  comm  deptno\n",
      "10  7844.0  TURNER  SALESMAN  7698.0  1981-09-08  1500.0   0.0    30.0\n",
      "11  7876.0   ADAMS     CLERK  7788.0  1987-07-13  1100.0   NaN    20.0\n",
      "12  7900.0   JAMES     CLERK  7698.0  1981-12-03   950.0   NaN    30.0\n",
      "13  7902.0    FORD   ANALYST  7566.0  1981-12-03  3000.0   NaN    20.0\n",
      "14  7934.0  MILLER     CLERK  7782.0  1982-01-23  1300.0   NaN    10.0\n"
     ]
    }
   ],
   "source": [
    "print(df4.tail())"
   ]
  },
  {
   "cell_type": "code",
   "execution_count": 23,
   "id": "95bfbf1a-884f-4ba6-b968-a56e47415e1e",
   "metadata": {},
   "outputs": [
    {
     "name": "stdout",
     "output_type": "stream",
     "text": [
      "<class 'pandas.core.frame.DataFrame'>\n",
      "RangeIndex: 15 entries, 0 to 14\n",
      "Data columns (total 8 columns):\n",
      " #   Column    Non-Null Count  Dtype  \n",
      "---  ------    --------------  -----  \n",
      " 0   empno     15 non-null     float64\n",
      " 1   ename     15 non-null     object \n",
      " 2   job       15 non-null     object \n",
      " 3   mgr       14 non-null     float64\n",
      " 4   hiredate  15 non-null     object \n",
      " 5   sal       15 non-null     float64\n",
      " 6   comm      5 non-null      float64\n",
      " 7   deptno    15 non-null     float64\n",
      "dtypes: float64(5), object(3)\n",
      "memory usage: 1.1+ KB\n",
      "None\n"
     ]
    }
   ],
   "source": [
    "print(df4.info())"
   ]
  },
  {
   "cell_type": "code",
   "execution_count": 25,
   "id": "1651d60e-66ee-4d14-9005-a8e98e23a86c",
   "metadata": {},
   "outputs": [
    {
     "name": "stdout",
     "output_type": "stream",
     "text": [
      "             empno          mgr           sal         comm     deptno\n",
      "count    15.000000    14.000000     15.000000     5.000000  15.000000\n",
      "mean   7730.733333  7742.785714   4935.000000   840.000000  25.666667\n",
      "std     172.563225   100.492004  11142.068768   832.466216  15.682869\n",
      "min    7369.000000  7566.000000    800.000000     0.000000  10.000000\n",
      "25%    7610.000000  7698.000000   1250.000000   300.000000  20.000000\n",
      "50%    7788.000000  7740.000000   1600.000000   500.000000  20.000000\n",
      "75%    7860.000000  7826.250000   2987.500000  1400.000000  30.000000\n",
      "max    7934.000000  7902.000000  45000.000000  2000.000000  75.000000\n"
     ]
    }
   ],
   "source": [
    "print(df4.describe())"
   ]
  },
  {
   "cell_type": "code",
   "execution_count": 27,
   "id": "6ac3871a-8f0e-4aa4-be06-8a7dc9902d46",
   "metadata": {},
   "outputs": [
    {
     "name": "stdout",
     "output_type": "stream",
     "text": [
      "(15, 8)\n",
      "(4, 2)\n"
     ]
    }
   ],
   "source": [
    "print(df4.shape)\n",
    "print(df3.shape)"
   ]
  },
  {
   "cell_type": "code",
   "execution_count": 29,
   "id": "96ef921c-90d5-4e2e-b777-421001852c1f",
   "metadata": {},
   "outputs": [
    {
     "name": "stdout",
     "output_type": "stream",
     "text": [
      "Index(['empno', 'ename', 'job', 'mgr', 'hiredate', 'sal', 'comm', 'deptno'], dtype='object')\n",
      "Index(['Name ', 'Id'], dtype='object')\n"
     ]
    }
   ],
   "source": [
    "print(df4.columns)\n",
    "print(df3.columns)"
   ]
  },
  {
   "cell_type": "code",
   "execution_count": 31,
   "id": "2933f951-242e-4563-b146-6d2bfb230ff6",
   "metadata": {},
   "outputs": [
    {
     "name": "stdout",
     "output_type": "stream",
     "text": [
      "RangeIndex(start=0, stop=15, step=1)\n",
      "RangeIndex(start=0, stop=4, step=1)\n"
     ]
    }
   ],
   "source": [
    "print(df4.index)\n",
    "print(df3.index)"
   ]
  },
  {
   "cell_type": "code",
   "execution_count": 33,
   "id": "dbd05954-ca56-40cc-b3e2-1d3fbd9d07d4",
   "metadata": {},
   "outputs": [
    {
     "name": "stdout",
     "output_type": "stream",
     "text": [
      "7499.0\n",
      "ALLEN\n"
     ]
    }
   ],
   "source": [
    "print(df4.loc[1,\"empno\"])\n",
    "print(df4.loc[1,\"ename\"])"
   ]
  },
  {
   "cell_type": "code",
   "execution_count": 35,
   "id": "7c05132e-ae25-4a4e-baf9-8a60ba334772",
   "metadata": {},
   "outputs": [
    {
     "name": "stdout",
     "output_type": "stream",
     "text": [
      "3\n",
      "CLERK\n"
     ]
    }
   ],
   "source": [
    "print(df.iloc[0,1])\n",
    "print(df4.iloc[0,2])\n"
   ]
  },
  {
   "cell_type": "code",
   "execution_count": 37,
   "id": "15a3c0e5-e94a-4e7d-9abb-78225d441a8b",
   "metadata": {},
   "outputs": [
    {
     "name": "stdout",
     "output_type": "stream",
     "text": [
      "1\n",
      "BLAKE\n"
     ]
    }
   ],
   "source": [
    "print(df.at[0,\"A\"])\n",
    "print(df4.at[5,\"ename\"])\n"
   ]
  },
  {
   "cell_type": "code",
   "execution_count": 39,
   "id": "a70ea136-dd41-40ff-8515-9ae72f6d27c9",
   "metadata": {},
   "outputs": [
    {
     "name": "stdout",
     "output_type": "stream",
     "text": [
      "3\n",
      "MANAGER\n"
     ]
    }
   ],
   "source": [
    "print(df.iat[0,1])\n",
    "print(df4.iat[5,2])"
   ]
  },
  {
   "cell_type": "code",
   "execution_count": 41,
   "id": "9d4847f7-916a-41d2-b62a-6bafb5acbd7b",
   "metadata": {},
   "outputs": [
    {
     "name": "stdout",
     "output_type": "stream",
     "text": [
      "Empty DataFrame\n",
      "Columns: []\n",
      "Index: [0, 1, 2, 3, 4, 5, 6, 7, 8, 9, 10, 11, 12, 13, 14]\n",
      "     ename        job\n",
      "0    SMITH      CLERK\n",
      "1    ALLEN   SALESMAN\n",
      "2     WARD   SALESMAN\n",
      "3    JONES    MANAGER\n",
      "4   MARTIN   SALESMAN\n",
      "5    BLAKE    MANAGER\n",
      "6    CLARK    MANAGER\n",
      "7    SCOTT    ANALYST\n",
      "8   somesh  accoutant\n",
      "9     KING  PRESIDENT\n",
      "10  TURNER   SALESMAN\n",
      "11   ADAMS      CLERK\n",
      "12   JAMES      CLERK\n",
      "13    FORD    ANALYST\n",
      "14  MILLER      CLERK\n"
     ]
    }
   ],
   "source": [
    "print(df4.filter(items=[\"A\",\"B\"]))\n",
    "print(df4.filter(items=[\"ename\",\"job\"]))"
   ]
  },
  {
   "cell_type": "code",
   "execution_count": 43,
   "id": "b48e745a-586d-4ff6-9e6b-f60227ba7a1f",
   "metadata": {},
   "outputs": [
    {
     "name": "stdout",
     "output_type": "stream",
     "text": [
      "   A  B  c\n",
      "0  1  3  5\n",
      "1  2  4  6\n"
     ]
    }
   ],
   "source": [
    "df=df.assign(c=[5,6])\n",
    "print(df)"
   ]
  },
  {
   "cell_type": "code",
   "execution_count": 45,
   "id": "fbb8ccef-f88f-40e4-88f1-a04777e8ff72",
   "metadata": {},
   "outputs": [
    {
     "name": "stdout",
     "output_type": "stream",
     "text": [
      "   B  c\n",
      "A      \n",
      "1  3  5\n",
      "2  4  6\n"
     ]
    }
   ],
   "source": [
    "df=df.set_index('A')\n",
    "print(df)"
   ]
  },
  {
   "cell_type": "code",
   "execution_count": 47,
   "id": "0e49d1ed-35d8-4238-86d0-a886ed514acf",
   "metadata": {},
   "outputs": [
    {
     "name": "stdout",
     "output_type": "stream",
     "text": [
      "   A  B  c\n",
      "0  1  3  5\n",
      "1  2  4  6\n"
     ]
    }
   ],
   "source": [
    "df=df.reset_index()\n",
    "print(df)"
   ]
  },
  {
   "cell_type": "code",
   "execution_count": 49,
   "id": "4afa91cc-2f46-4ad8-8b12-dad8e6775748",
   "metadata": {},
   "outputs": [
    {
     "name": "stdout",
     "output_type": "stream",
     "text": [
      "   A  B  c\n",
      "0  1  3  5\n",
      "1  2  4  6\n"
     ]
    }
   ],
   "source": [
    "df=df.sort_index()\n",
    "print(df)"
   ]
  },
  {
   "cell_type": "code",
   "execution_count": 51,
   "id": "c0ac36ed-f29f-487d-8f81-22e75af8b9ce",
   "metadata": {},
   "outputs": [
    {
     "name": "stdout",
     "output_type": "stream",
     "text": [
      "   A  B\n",
      "0  1  3\n",
      "1  2  4\n"
     ]
    }
   ],
   "source": [
    "df=df.drop(columns=['c'])\n",
    "print(df)"
   ]
  },
  {
   "cell_type": "code",
   "execution_count": 65,
   "id": "d9ca3952-0583-49cd-8533-954c01d18e11",
   "metadata": {},
   "outputs": [
    {
     "name": "stdout",
     "output_type": "stream",
     "text": [
      "   Alpha  B\n",
      "0      1  3\n",
      "1      2  4\n"
     ]
    }
   ],
   "source": [
    "df=df.rename(columns={'A':'Alpha'})\n",
    "print(df)"
   ]
  },
  {
   "cell_type": "code",
   "execution_count": 67,
   "id": "eecbe32b-aa8a-41d2-930e-18bcbb9164c4",
   "metadata": {},
   "outputs": [
    {
     "name": "stdout",
     "output_type": "stream",
     "text": [
      "0    6\n",
      "1    8\n",
      "Name: B, dtype: int64\n"
     ]
    }
   ],
   "source": [
    "df['B']=df['B'].apply(lambda x:x*2)\n",
    "print(df['B'])"
   ]
  },
  {
   "cell_type": "code",
   "execution_count": 69,
   "id": "72ca37a9-13bb-46e1-ae1a-d40d54149aff",
   "metadata": {},
   "outputs": [
    {
     "name": "stdout",
     "output_type": "stream",
     "text": [
      "0  Alpha    1\n",
      "   B        6\n",
      "1  Alpha    2\n",
      "   B        8\n",
      "dtype: int64\n"
     ]
    }
   ],
   "source": [
    "df_stacked=df.stack()\n",
    "print(df_stacked)"
   ]
  },
  {
   "cell_type": "code",
   "execution_count": 71,
   "id": "fce7964d-8e64-4a0f-810c-5d0735a88f86",
   "metadata": {},
   "outputs": [
    {
     "name": "stdout",
     "output_type": "stream",
     "text": [
      "   Alpha  B\n",
      "0      1  6\n",
      "1      2  8\n"
     ]
    }
   ],
   "source": [
    "df_unstacked=df_stacked.unstack()\n",
    "print(df_unstacked)"
   ]
  },
  {
   "cell_type": "code",
   "execution_count": 81,
   "id": "8c84b751-6898-4399-b136-a1dbc1804f90",
   "metadata": {},
   "outputs": [
    {
     "name": "stdout",
     "output_type": "stream",
     "text": [
      "   Alpha variable  value\n",
      "0      1        B      6\n",
      "1      2        B      8\n"
     ]
    }
   ],
   "source": [
    "df_melted=pd.DataFrame. melt(df,id_vars=['Alpha'],value_vars=['B'])\n",
    "print(df_melted)"
   ]
  },
  {
   "cell_type": "code",
   "execution_count": 83,
   "id": "81c5747e-7e44-4d3f-a326-856fd2c6497c",
   "metadata": {},
   "outputs": [
    {
     "name": "stdout",
     "output_type": "stream",
     "text": [
      "   Alpha  B\n",
      "0      1  6\n",
      "1      2  8\n"
     ]
    }
   ],
   "source": [
    "df=df.sort_values(by='B')\n",
    "print(df)"
   ]
  },
  {
   "cell_type": "code",
   "execution_count": 85,
   "id": "6d985b51-d4f8-440e-b26d-bcedf2faeed9",
   "metadata": {},
   "outputs": [
    {
     "name": "stdout",
     "output_type": "stream",
     "text": [
      "   Alpha  B\n",
      "1      2  8\n"
     ]
    }
   ],
   "source": [
    "df_filtered=df[df['Alpha']>1]\n",
    "print(df_filtered)"
   ]
  },
  {
   "cell_type": "code",
   "execution_count": 87,
   "id": "ba9651a8-b569-46f6-8dba-b4aa023213ce",
   "metadata": {},
   "outputs": [
    {
     "name": "stdout",
     "output_type": "stream",
     "text": [
      "   Alpha  B\n",
      "0      1  6\n"
     ]
    }
   ],
   "source": [
    "df_filtered=df[df['B'].isin([4,6])]\n",
    "print(df_filtered)"
   ]
  },
  {
   "cell_type": "code",
   "execution_count": 89,
   "id": "f09e6512-a798-45a6-9fb8-6c54282fcdc1",
   "metadata": {},
   "outputs": [
    {
     "name": "stdout",
     "output_type": "stream",
     "text": [
      "       B\n",
      "Alpha   \n",
      "1      6\n",
      "2      8\n"
     ]
    }
   ],
   "source": [
    "grouped=df.groupby('Alpha')\n",
    "print(grouped.sum())"
   ]
  },
  {
   "cell_type": "code",
   "execution_count": 91,
   "id": "6bea8142-c954-4590-a9b9-4a2ad5bbf1ac",
   "metadata": {},
   "outputs": [
    {
     "name": "stdout",
     "output_type": "stream",
     "text": [
      "         B\n",
      "sum   14.0\n",
      "mean   7.0\n"
     ]
    }
   ],
   "source": [
    "df_agg=df.agg({'B':['sum','mean']})\n",
    "print(df_agg)"
   ]
  },
  {
   "cell_type": "code",
   "execution_count": 93,
   "id": "5fef0c4e-5f2c-4f14-b345-fc247a14c3df",
   "metadata": {},
   "outputs": [
    {
     "name": "stdout",
     "output_type": "stream",
     "text": [
      "0    6\n",
      "1    8\n",
      "Name: c, dtype: int64\n"
     ]
    }
   ],
   "source": [
    "df['c']=df.groupby('Alpha')['B'].transform('sum')\n",
    "print(df['c'])"
   ]
  },
  {
   "cell_type": "code",
   "execution_count": 95,
   "id": "97f72069-ab84-419b-ac3b-e3b2ec4e05b4",
   "metadata": {},
   "outputs": [
    {
     "name": "stdout",
     "output_type": "stream",
     "text": [
      "0     6\n",
      "1    14\n",
      "Name: c, dtype: int64\n"
     ]
    }
   ],
   "source": [
    "df['c']=df['B'].cumsum()\n",
    "print(df['c'])"
   ]
  },
  {
   "cell_type": "code",
   "execution_count": 97,
   "id": "ec436dd9-2a2b-41bc-bf54-6677e0be74d6",
   "metadata": {},
   "outputs": [
    {
     "name": "stdout",
     "output_type": "stream",
     "text": [
      "   Alpha  B   c\n",
      "0      1  6   6\n",
      "1      2  8  14\n"
     ]
    }
   ],
   "source": [
    "df_filtered=df[df['B']>3]\n",
    "print(df_filtered)"
   ]
  },
  {
   "cell_type": "code",
   "execution_count": 99,
   "id": "8168cd5a-becc-4625-8dee-98c53fad40c8",
   "metadata": {},
   "outputs": [
    {
     "name": "stdout",
     "output_type": "stream",
     "text": [
      "   Alpha      B      c\n",
      "0  False  False  False\n",
      "1  False  False  False\n"
     ]
    }
   ],
   "source": [
    "print(df.isna())"
   ]
  },
  {
   "cell_type": "code",
   "execution_count": 101,
   "id": "84fae40a-97ad-4f8b-898a-8cfcbf467cab",
   "metadata": {},
   "outputs": [
    {
     "name": "stdout",
     "output_type": "stream",
     "text": [
      "0    6\n",
      "1    8\n",
      "Name: B, dtype: int64\n"
     ]
    }
   ],
   "source": [
    "df['B']=df['B'].fillna(0)\n",
    "print(df['B'])"
   ]
  },
  {
   "cell_type": "code",
   "execution_count": 103,
   "id": "c8c3e0aa-e125-432f-95dc-8f48ef7d0dec",
   "metadata": {},
   "outputs": [
    {
     "name": "stdout",
     "output_type": "stream",
     "text": [
      "0    6\n",
      "1    8\n",
      "Name: B, dtype: int64\n"
     ]
    }
   ],
   "source": [
    "df['B']=df['B'].interpolate()\n",
    "print(df['B'])"
   ]
  },
  {
   "cell_type": "code",
   "execution_count": 105,
   "id": "85365230-0ae8-4eb1-980f-c662ab4ea2d0",
   "metadata": {},
   "outputs": [
    {
     "name": "stdout",
     "output_type": "stream",
     "text": [
      "7.0\n"
     ]
    }
   ],
   "source": [
    "print(df['B'].mean())"
   ]
  },
  {
   "cell_type": "code",
   "execution_count": 107,
   "id": "aa201f70-d074-47e5-8ffc-e37e164d3966",
   "metadata": {},
   "outputs": [
    {
     "name": "stdout",
     "output_type": "stream",
     "text": [
      "       Alpha    B    c\n",
      "Alpha    1.0  1.0  1.0\n",
      "B        1.0  1.0  1.0\n",
      "c        1.0  1.0  1.0\n"
     ]
    }
   ],
   "source": [
    "print(df.corr())"
   ]
  },
  {
   "cell_type": "code",
   "execution_count": 109,
   "id": "6eb1a7e3-64ae-44af-906d-b254ab42a203",
   "metadata": {},
   "outputs": [
    {
     "name": "stdout",
     "output_type": "stream",
     "text": [
      "6\n"
     ]
    }
   ],
   "source": [
    "print(df['B'].min())"
   ]
  },
  {
   "cell_type": "code",
   "execution_count": 111,
   "id": "29232c0e-f66e-4d6b-9d1f-442ed9fd9fcd",
   "metadata": {},
   "outputs": [
    {
     "name": "stdout",
     "output_type": "stream",
     "text": [
      "8\n"
     ]
    }
   ],
   "source": [
    "print(df['B'].max())"
   ]
  },
  {
   "cell_type": "code",
   "execution_count": 113,
   "id": "b9ca605b-7752-43f0-b626-060a0db5c2c1",
   "metadata": {},
   "outputs": [
    {
     "name": "stdout",
     "output_type": "stream",
     "text": [
      "0     6\n",
      "1    14\n",
      "Name: c, dtype: int64\n"
     ]
    }
   ],
   "source": [
    "df['c']=df['c'].abs().round()\n",
    "print(df['c'])"
   ]
  },
  {
   "cell_type": "code",
   "execution_count": 115,
   "id": "2e5e0db7-1498-466e-9efc-7794c554aaf3",
   "metadata": {},
   "outputs": [
    {
     "name": "stdout",
     "output_type": "stream",
     "text": [
      "   Unnamed: 0  Alpha  B   c\n",
      "0           0      1  6   6\n",
      "1           1      2  8  14\n"
     ]
    }
   ],
   "source": [
    "df.to_csv('output.csv')\n",
    "df=pd.read_csv('output.csv')\n",
    "print(df)"
   ]
  },
  {
   "cell_type": "code",
   "execution_count": 117,
   "id": "3ae88d6b-f9f0-4828-b6cd-f53c345426c5",
   "metadata": {},
   "outputs": [
    {
     "name": "stderr",
     "output_type": "stream",
     "text": [
      "C:\\Users\\ANB\\AppData\\Local\\Temp\\ipykernel_2108\\2144415020.py:13: UserWarning: pandas only supports SQLAlchemy connectable (engine/connection) or database string URI or sqlite3 DBAPI2 connection. Other DBAPI2 objects are not tested. Please consider using SQLAlchemy.\n",
      "  emp_df=pd.read_sql(equery,conn)\n",
      "C:\\Users\\ANB\\AppData\\Local\\Temp\\ipykernel_2108\\2144415020.py:14: UserWarning: pandas only supports SQLAlchemy connectable (engine/connection) or database string URI or sqlite3 DBAPI2 connection. Other DBAPI2 objects are not tested. Please consider using SQLAlchemy.\n",
      "  dept_df=pd.read_sql(dquery,conn)\n"
     ]
    }
   ],
   "source": [
    "import pandas as pd\n",
    "import pymysql\n",
    "db_name=\"employee\"\n",
    "db_host=\"localhost\"\n",
    "db_username=\"root\"\n",
    "db_password=\"sanMS123@\"\n",
    "conn=pymysql.connect(host=db_host,\n",
    "                     user=\"root\",\n",
    "                     password=\"sanMS123@\",\n",
    "                     db=db_name)\n",
    "equery=\"select * from emp\"\n",
    "dquery=\"select * from dept\"\n",
    "emp_df=pd.read_sql(equery,conn)\n",
    "dept_df=pd.read_sql(dquery,conn)\n",
    "conn.close()\n",
    "with pd.ExcelWriter(\"company.xlsx\") as writer:\n",
    "     emp_df.to_excel(writer,index=False,sheet_name=\"employee\")\n",
    "     dept_df.to_excel(writer,index=False,sheet_name=\"department\")\n"
   ]
  },
  {
   "cell_type": "code",
   "execution_count": 129,
   "id": "2b137fb2-31eb-4f3d-ab11-9647606a6619",
   "metadata": {},
   "outputs": [
    {
     "name": "stdout",
     "output_type": "stream",
     "text": [
      "0         CLERK\n",
      "1      SALESMAN\n",
      "2      SALESMAN\n",
      "3       MANAGER\n",
      "4      SALESMAN\n",
      "5       MANAGER\n",
      "6       MANAGER\n",
      "7       ANALYST\n",
      "8     accoutant\n",
      "9     PRESIDENT\n",
      "10     SALESMAN\n",
      "11        CLERK\n",
      "12        CLERK\n",
      "13      ANALYST\n",
      "14        CLERK\n",
      "Name: job, dtype: object\n",
      "     empno   ename        job     mgr    hiredate      sal    comm  deptno\n",
      "0   7369.0   SMITH      CLERK  7902.0  1980-12-17    800.0     NaN    20.0\n",
      "1   7499.0   ALLEN   SALESMAN  7698.0  1981-02-20   1600.0   300.0    30.0\n",
      "2   7521.0    WARD   SALESMAN  7698.0  1981-02-22   1250.0   500.0    30.0\n",
      "3   7566.0   JONES    MANAGER  7839.0  1981-04-02   2975.0     NaN    20.0\n",
      "4   7654.0  MARTIN   SALESMAN  7698.0  1981-09-28   1250.0  1400.0    30.0\n",
      "5   7698.0   BLAKE    MANAGER  7839.0  1981-05-01   2850.0     NaN    30.0\n",
      "6   7782.0   CLARK    MANAGER  7839.0  1981-06-09   2450.0     NaN    10.0\n",
      "7   7788.0   SCOTT    ANALYST  7566.0  1987-07-13   3000.0     NaN    20.0\n",
      "8   7789.0  somesh  accoutant  7788.0  2022-11-11  45000.0  2000.0    75.0\n",
      "9   7839.0    KING  PRESIDENT     NaN  1981-11-17   5000.0     NaN    10.0\n",
      "10  7844.0  TURNER   SALESMAN  7698.0  1981-09-08   1500.0     0.0    30.0\n",
      "11  7876.0   ADAMS      CLERK  7788.0  1987-07-13   1100.0     NaN    20.0\n",
      "12  7900.0   JAMES      CLERK  7698.0  1981-12-03    950.0     NaN    30.0\n",
      "13  7902.0    FORD    ANALYST  7566.0  1981-12-03   3000.0     NaN    20.0\n",
      "14  7934.0  MILLER      CLERK  7782.0  1982-01-23   1300.0     NaN    10.0\n",
      "1981-02-20\n",
      "15\n",
      "      empno   ename        job     mgr    hiredate      sal    comm  deptno\n",
      "A0   7369.0   SMITH      CLERK  7902.0  1980-12-17    800.0     NaN    20.0\n",
      "A1   7499.0   ALLEN   SALESMAN  7698.0  1981-02-20   1600.0   300.0    30.0\n",
      "A2   7521.0    WARD   SALESMAN  7698.0  1981-02-22   1250.0   500.0    30.0\n",
      "A3   7566.0   JONES    MANAGER  7839.0  1981-04-02   2975.0     NaN    20.0\n",
      "A4   7654.0  MARTIN   SALESMAN  7698.0  1981-09-28   1250.0  1400.0    30.0\n",
      "A5   7698.0   BLAKE    MANAGER  7839.0  1981-05-01   2850.0     NaN    30.0\n",
      "A6   7782.0   CLARK    MANAGER  7839.0  1981-06-09   2450.0     NaN    10.0\n",
      "A7   7788.0   SCOTT    ANALYST  7566.0  1987-07-13   3000.0     NaN    20.0\n",
      "A8   7789.0  somesh  accoutant  7788.0  2022-11-11  45000.0  2000.0    75.0\n",
      "A9   7839.0    KING  PRESIDENT     NaN  1981-11-17   5000.0     NaN    10.0\n",
      "A10  7844.0  TURNER   SALESMAN  7698.0  1981-09-08   1500.0     0.0    30.0\n",
      "A11  7876.0   ADAMS      CLERK  7788.0  1987-07-13   1100.0     NaN    20.0\n",
      "A12  7900.0   JAMES      CLERK  7698.0  1981-12-03    950.0     NaN    30.0\n",
      "A13  7902.0    FORD    ANALYST  7566.0  1981-12-03   3000.0     NaN    20.0\n",
      "A14  7934.0  MILLER      CLERK  7782.0  1982-01-23   1300.0     NaN    10.0\n",
      "empno           7499.0\n",
      "ename            ALLEN\n",
      "job           SALESMAN\n",
      "mgr             7698.0\n",
      "hiredate    1981-02-20\n",
      "sal             1600.0\n",
      "comm             300.0\n",
      "deptno            30.0\n",
      "Name: A1, dtype: object\n"
     ]
    },
    {
     "name": "stderr",
     "output_type": "stream",
     "text": [
      "C:\\Users\\ANB\\AppData\\Local\\Temp\\ipykernel_2108\\3217733896.py:13: UserWarning: pandas only supports SQLAlchemy connectable (engine/connection) or database string URI or sqlite3 DBAPI2 connection. Other DBAPI2 objects are not tested. Please consider using SQLAlchemy.\n",
      "  emp_df=pd.read_sql(equery,connection)\n",
      "C:\\Users\\ANB\\AppData\\Local\\Temp\\ipykernel_2108\\3217733896.py:14: UserWarning: pandas only supports SQLAlchemy connectable (engine/connection) or database string URI or sqlite3 DBAPI2 connection. Other DBAPI2 objects are not tested. Please consider using SQLAlchemy.\n",
      "  dept_df=pd.read_sql(dquery,connection)\n"
     ]
    }
   ],
   "source": [
    "import pandas as pd\n",
    "import pymysql\n",
    "db_name=\"employee\"\n",
    "db_host=\"localhost\"\n",
    "db_username=\"root\"\n",
    "db_password=\"sanMS123@\"\n",
    "connection=pymysql.connect(host=db_host,\n",
    "                     user=\"root\",\n",
    "                     password=\"sanMS123@\",\n",
    "                     db=db_name)\n",
    "equery=\"select * from emp\"\n",
    "dquery=\"select * from dept\"\n",
    "emp_df=pd.read_sql(equery,connection)\n",
    "dept_df=pd.read_sql(dquery,connection)\n",
    "connection.close()\n",
    "print(emp_df['job'])\n",
    "print(emp_df.loc[:'job'])\n",
    "print(emp_df.iloc[1,4])\n",
    "ci=[]\n",
    "print(len(emp_df))\n",
    "for i in range(len(emp_df)):\n",
    "    ci.append('A'+str(i))\n",
    "emp_df.index=ci\n",
    "print(emp_df)\n",
    "print(emp_df.loc['A1'])\n"
   ]
  },
  {
   "cell_type": "code",
   "execution_count": 135,
   "id": "846cc43a-104e-47a5-aa9a-92b4ba606f72",
   "metadata": {},
   "outputs": [
    {
     "name": "stdout",
     "output_type": "stream",
     "text": [
      "A B C D E F G H I J K L M N O P G R S T U V W X Y Z \n",
      "AAA AAB AAC AAD AAE AAF AAG AAH AAI AAJ AAK AAL AAM AAN AAO AAP AAG AAR AAS AAT AAU AAV AAW AAX AAY AAZ ABA ABB ABC ABD ABE ABF ABG ABH ABI ABJ ABK ABL ABM ABN ABO ABP ABG ABR ABS ABT ABU ABV ABW ABX ABY ABZ ACA ACB ACC ACD ACE ACF ACG ACH ACI ACJ ACK ACL ACM ACN ACO ACP ACG ACR ACS ACT ACU ACV ACW ACX ACY ACZ ADA ADB ADC ADD ADE ADF ADG ADH ADI ADJ ADK ADL ADM ADN ADO ADP ADG ADR ADS ADT ADU ADV ADW ADX ADY ADZ AEA AEB AEC AED AEE AEF AEG AEH AEI AEJ AEK AEL AEM AEN AEO AEP AEG AER AES AET AEU AEV AEW AEX AEY AEZ AFA AFB AFC AFD AFE AFF AFG AFH AFI AFJ AFK AFL AFM AFN AFO AFP AFG AFR AFS AFT AFU AFV AFW AFX AFY AFZ AGA AGB AGC AGD AGE AGF AGG AGH AGI AGJ AGK AGL AGM AGN AGO AGP AGG AGR AGS AGT AGU AGV AGW AGX AGY AGZ AHA AHB AHC AHD AHE AHF AHG AHH AHI AHJ AHK AHL AHM AHN AHO AHP AHG AHR AHS AHT AHU AHV AHW AHX AHY AHZ AIA AIB AIC AID AIE AIF AIG AIH AII AIJ AIK AIL AIM AIN AIO AIP AIG AIR AIS AIT AIU AIV AIW AIX AIY AIZ AJA AJB AJC AJD AJE AJF AJG AJH AJI AJJ AJK AJL AJM AJN AJO AJP AJG AJR AJS AJT AJU AJV AJW AJX AJY AJZ AKA AKB AKC AKD AKE AKF AKG AKH AKI AKJ AKK AKL AKM AKN AKO AKP AKG AKR AKS AKT AKU AKV AKW AKX AKY AKZ ALA ALB ALC ALD ALE ALF ALG ALH ALI ALJ ALK ALL ALM ALN ALO ALP ALG ALR ALS ALT ALU ALV ALW ALX ALY ALZ AMA AMB AMC AMD AME AMF AMG AMH AMI AMJ AMK AML AMM AMN AMO AMP AMG AMR AMS AMT AMU AMV AMW AMX AMY AMZ ANA ANB ANC AND ANE ANF ANG ANH ANI ANJ ANK ANL ANM ANN ANO ANP ANG ANR ANS ANT ANU ANV ANW ANX ANY ANZ AOA AOB AOC AOD AOE AOF AOG AOH AOI AOJ AOK AOL AOM AON AOO AOP AOG AOR AOS AOT AOU AOV AOW AOX AOY AOZ APA APB APC APD APE APF APG APH API APJ APK APL APM APN APO APP APG APR APS APT APU APV APW APX APY APZ AGA AGB AGC AGD AGE AGF AGG AGH AGI AGJ AGK AGL AGM AGN AGO AGP AGG AGR AGS AGT AGU AGV AGW AGX AGY AGZ ARA ARB ARC ARD ARE ARF ARG ARH ARI ARJ ARK ARL ARM ARN ARO ARP ARG ARR ARS ART ARU ARV ARW ARX ARY ARZ ASA ASB ASC ASD ASE ASF ASG ASH ASI ASJ ASK ASL ASM ASN ASO ASP ASG ASR ASS AST ASU ASV ASW ASX ASY ASZ ATA ATB ATC ATD ATE ATF ATG ATH ATI ATJ ATK ATL ATM ATN ATO ATP ATG ATR ATS ATT ATU ATV ATW ATX ATY ATZ AUA AUB AUC AUD AUE AUF AUG AUH AUI AUJ AUK AUL AUM AUN AUO AUP AUG AUR AUS AUT AUU AUV AUW AUX AUY AUZ AVA AVB AVC AVD AVE AVF AVG AVH AVI AVJ AVK AVL AVM AVN AVO AVP AVG AVR AVS AVT AVU AVV AVW AVX AVY AVZ AWA AWB AWC AWD AWE AWF AWG AWH AWI AWJ AWK AWL AWM AWN AWO AWP AWG AWR AWS AWT AWU AWV AWW AWX AWY AWZ AXA AXB AXC AXD AXE AXF AXG AXH AXI AXJ AXK AXL AXM AXN AXO AXP AXG AXR AXS AXT AXU AXV AXW AXX AXY AXZ AYA AYB AYC AYD AYE AYF AYG AYH AYI AYJ AYK AYL AYM AYN AYO AYP AYG AYR AYS AYT AYU AYV AYW AYX AYY AYZ AZA AZB AZC AZD AZE AZF AZG AZH AZI AZJ AZK AZL AZM AZN AZO AZP AZG AZR AZS AZT AZU AZV AZW AZX AZY AZZ BAA BAB BAC BAD BAE BAF BAG BAH BAI BAJ BAK BAL BAM BAN BAO BAP BAG BAR BAS BAT BAU BAV BAW BAX BAY BAZ BBA BBB BBC BBD BBE BBF BBG BBH BBI BBJ BBK BBL BBM BBN BBO BBP BBG BBR BBS BBT BBU BBV BBW BBX BBY BBZ BCA BCB BCC BCD BCE BCF BCG BCH BCI BCJ BCK BCL BCM BCN BCO BCP BCG BCR BCS BCT BCU BCV BCW BCX BCY BCZ BDA BDB BDC BDD BDE BDF BDG BDH BDI BDJ BDK BDL BDM BDN BDO BDP BDG BDR BDS BDT BDU BDV BDW BDX BDY BDZ BEA BEB BEC BED BEE BEF BEG BEH BEI BEJ BEK BEL BEM BEN BEO BEP BEG BER BES BET BEU BEV BEW BEX BEY BEZ BFA BFB BFC BFD BFE BFF BFG BFH BFI BFJ BFK BFL BFM BFN BFO BFP BFG BFR BFS BFT BFU BFV BFW BFX BFY BFZ BGA BGB BGC BGD BGE BGF BGG BGH BGI BGJ BGK BGL BGM BGN BGO BGP BGG BGR BGS BGT BGU BGV BGW BGX BGY BGZ BHA BHB BHC BHD BHE BHF BHG BHH BHI BHJ BHK BHL BHM BHN BHO BHP BHG BHR BHS BHT BHU BHV BHW BHX BHY BHZ BIA BIB BIC BID BIE BIF BIG BIH BII BIJ BIK BIL BIM BIN BIO BIP BIG BIR BIS BIT BIU BIV BIW BIX BIY BIZ BJA BJB BJC BJD BJE BJF BJG BJH BJI BJJ BJK BJL BJM BJN BJO BJP BJG BJR BJS BJT BJU BJV BJW BJX BJY BJZ BKA BKB BKC BKD BKE BKF BKG BKH BKI BKJ BKK BKL BKM BKN BKO BKP BKG BKR BKS BKT BKU BKV BKW BKX BKY BKZ BLA BLB BLC BLD BLE BLF BLG BLH BLI BLJ BLK BLL BLM BLN BLO BLP BLG BLR BLS BLT BLU BLV BLW BLX BLY BLZ BMA BMB BMC BMD BME BMF BMG BMH BMI BMJ BMK BML BMM BMN BMO BMP BMG BMR BMS BMT BMU BMV BMW BMX BMY BMZ BNA BNB BNC BND BNE BNF BNG BNH BNI BNJ BNK BNL BNM BNN BNO BNP BNG BNR BNS BNT BNU BNV BNW BNX BNY BNZ BOA BOB BOC BOD BOE BOF BOG BOH BOI BOJ BOK BOL BOM BON BOO BOP BOG BOR BOS BOT BOU BOV BOW BOX BOY BOZ BPA BPB BPC BPD BPE BPF BPG BPH BPI BPJ BPK BPL BPM BPN BPO BPP BPG BPR BPS BPT BPU BPV BPW BPX BPY BPZ BGA BGB BGC BGD BGE BGF BGG BGH BGI BGJ BGK BGL BGM BGN BGO BGP BGG BGR BGS BGT BGU BGV BGW BGX BGY BGZ BRA BRB BRC BRD BRE BRF BRG BRH BRI BRJ BRK BRL BRM BRN BRO BRP BRG BRR BRS BRT BRU BRV BRW BRX BRY BRZ BSA BSB BSC BSD BSE BSF BSG BSH BSI BSJ BSK BSL BSM BSN BSO BSP BSG BSR BSS BST BSU BSV BSW BSX BSY BSZ BTA BTB BTC BTD BTE BTF BTG BTH BTI BTJ BTK BTL BTM BTN BTO BTP BTG BTR BTS BTT BTU BTV BTW BTX BTY BTZ BUA BUB BUC BUD BUE BUF BUG BUH BUI BUJ BUK BUL BUM BUN BUO BUP BUG BUR BUS BUT BUU BUV BUW BUX BUY BUZ BVA BVB BVC BVD BVE BVF BVG BVH BVI BVJ BVK BVL BVM BVN BVO BVP BVG BVR BVS BVT BVU BVV BVW BVX BVY BVZ BWA BWB BWC BWD BWE BWF BWG BWH BWI BWJ BWK BWL BWM BWN BWO BWP BWG BWR BWS BWT BWU BWV BWW BWX BWY BWZ BXA BXB BXC BXD BXE BXF BXG BXH BXI BXJ BXK BXL BXM BXN BXO BXP BXG BXR BXS BXT BXU BXV BXW BXX BXY BXZ BYA BYB BYC BYD BYE BYF BYG BYH BYI BYJ BYK BYL BYM BYN BYO BYP BYG BYR BYS BYT BYU BYV BYW BYX BYY BYZ BZA BZB BZC BZD BZE BZF BZG BZH BZI BZJ BZK BZL BZM BZN BZO BZP BZG BZR BZS BZT BZU BZV BZW BZX BZY BZZ CAA CAB CAC CAD CAE CAF CAG CAH CAI CAJ CAK CAL CAM CAN CAO CAP CAG CAR CAS CAT CAU CAV CAW CAX CAY CAZ CBA CBB CBC CBD CBE CBF CBG CBH CBI CBJ CBK CBL CBM CBN CBO CBP CBG CBR CBS CBT CBU CBV CBW CBX CBY CBZ CCA CCB CCC CCD CCE CCF CCG CCH CCI CCJ CCK CCL CCM CCN CCO CCP CCG CCR CCS CCT CCU CCV CCW CCX CCY CCZ CDA CDB CDC CDD CDE CDF CDG CDH CDI CDJ CDK CDL CDM CDN CDO CDP CDG CDR CDS CDT CDU CDV CDW CDX CDY CDZ CEA CEB CEC CED CEE CEF CEG CEH CEI CEJ CEK CEL CEM CEN CEO CEP CEG CER CES CET CEU CEV CEW CEX CEY CEZ CFA CFB CFC CFD CFE CFF CFG CFH CFI CFJ CFK CFL CFM CFN CFO CFP CFG CFR CFS CFT CFU CFV CFW CFX CFY CFZ CGA CGB CGC CGD CGE CGF CGG CGH CGI CGJ CGK CGL CGM CGN CGO CGP CGG CGR CGS CGT CGU CGV CGW CGX CGY CGZ CHA CHB CHC CHD CHE CHF CHG CHH CHI CHJ CHK CHL CHM CHN CHO CHP CHG CHR CHS CHT CHU CHV CHW CHX CHY CHZ CIA CIB CIC CID CIE CIF CIG CIH CII CIJ CIK CIL CIM CIN CIO CIP CIG CIR CIS CIT CIU CIV CIW CIX CIY CIZ CJA CJB CJC CJD CJE CJF CJG CJH CJI CJJ CJK CJL CJM CJN CJO CJP CJG CJR CJS CJT CJU CJV CJW CJX CJY CJZ CKA CKB CKC CKD CKE CKF CKG CKH CKI CKJ CKK CKL CKM CKN CKO CKP CKG CKR CKS CKT CKU CKV CKW CKX CKY CKZ CLA CLB CLC CLD CLE CLF CLG CLH CLI CLJ CLK CLL CLM CLN CLO CLP CLG CLR CLS CLT CLU CLV CLW CLX CLY CLZ CMA CMB CMC CMD CME CMF CMG CMH CMI CMJ CMK CML CMM CMN CMO CMP CMG CMR CMS CMT CMU CMV CMW CMX CMY CMZ CNA CNB CNC CND CNE CNF CNG CNH CNI CNJ CNK CNL CNM CNN CNO CNP CNG CNR CNS CNT CNU CNV CNW CNX CNY CNZ COA COB COC COD COE COF COG COH COI COJ COK COL COM CON COO COP COG COR COS COT COU COV COW COX COY COZ CPA CPB CPC CPD CPE CPF CPG CPH CPI CPJ CPK CPL CPM CPN CPO CPP CPG CPR CPS CPT CPU CPV CPW CPX CPY CPZ CGA CGB CGC CGD CGE CGF CGG CGH CGI CGJ CGK CGL CGM CGN CGO CGP CGG CGR CGS CGT CGU CGV CGW CGX CGY CGZ CRA CRB CRC CRD CRE CRF CRG CRH CRI CRJ CRK CRL CRM CRN CRO CRP CRG CRR CRS CRT CRU CRV CRW CRX CRY CRZ CSA CSB CSC CSD CSE CSF CSG CSH CSI CSJ CSK CSL CSM CSN CSO CSP CSG CSR CSS CST CSU CSV CSW CSX CSY CSZ CTA CTB CTC CTD CTE CTF CTG CTH CTI CTJ CTK CTL CTM CTN CTO CTP CTG CTR CTS CTT CTU CTV CTW CTX CTY CTZ CUA CUB CUC CUD CUE CUF CUG CUH CUI CUJ CUK CUL CUM CUN CUO CUP CUG CUR CUS CUT CUU CUV CUW CUX CUY CUZ CVA CVB CVC CVD CVE CVF CVG CVH CVI CVJ CVK CVL CVM CVN CVO CVP CVG CVR CVS CVT CVU CVV CVW CVX CVY CVZ CWA CWB CWC CWD CWE CWF CWG CWH CWI CWJ CWK CWL CWM CWN CWO CWP CWG CWR CWS CWT CWU CWV CWW CWX CWY CWZ CXA CXB CXC CXD CXE CXF CXG CXH CXI CXJ CXK CXL CXM CXN CXO CXP CXG CXR CXS CXT CXU CXV CXW CXX CXY CXZ CYA CYB CYC CYD CYE CYF CYG CYH CYI CYJ CYK CYL CYM CYN CYO CYP CYG CYR CYS CYT CYU CYV CYW CYX CYY CYZ CZA CZB CZC CZD CZE CZF CZG CZH CZI CZJ CZK CZL CZM CZN CZO CZP CZG CZR CZS CZT CZU CZV CZW CZX CZY CZZ DAA DAB DAC DAD DAE DAF DAG DAH DAI DAJ DAK DAL DAM DAN DAO DAP DAG DAR DAS DAT DAU DAV DAW DAX DAY DAZ DBA DBB DBC DBD DBE DBF DBG DBH DBI DBJ DBK DBL DBM DBN DBO DBP DBG DBR DBS DBT DBU DBV DBW DBX DBY DBZ DCA DCB DCC DCD DCE DCF DCG DCH DCI DCJ DCK DCL DCM DCN DCO DCP DCG DCR DCS DCT DCU DCV DCW DCX DCY DCZ DDA DDB DDC DDD DDE DDF DDG DDH DDI DDJ DDK DDL DDM DDN DDO DDP DDG DDR DDS DDT DDU DDV DDW DDX DDY DDZ DEA DEB DEC DED DEE DEF DEG DEH DEI DEJ DEK DEL DEM DEN DEO DEP DEG DER DES DET DEU DEV DEW DEX DEY DEZ DFA DFB DFC DFD DFE DFF DFG DFH DFI DFJ DFK DFL DFM DFN DFO DFP DFG DFR DFS DFT DFU DFV DFW DFX DFY DFZ DGA DGB DGC DGD DGE DGF DGG DGH DGI DGJ DGK DGL DGM DGN DGO DGP DGG DGR DGS DGT DGU DGV DGW DGX DGY DGZ DHA DHB DHC DHD DHE DHF DHG DHH DHI DHJ DHK DHL DHM DHN DHO DHP DHG DHR DHS DHT DHU DHV DHW DHX DHY DHZ DIA DIB DIC DID DIE DIF DIG DIH DII DIJ DIK DIL DIM DIN DIO DIP DIG DIR DIS DIT DIU DIV DIW DIX DIY DIZ DJA DJB DJC DJD DJE DJF DJG DJH DJI DJJ DJK DJL DJM DJN DJO DJP DJG DJR DJS DJT DJU DJV DJW DJX DJY DJZ DKA DKB DKC DKD DKE DKF DKG DKH DKI DKJ DKK DKL DKM DKN DKO DKP DKG DKR DKS DKT DKU DKV DKW DKX DKY DKZ DLA DLB DLC DLD DLE DLF DLG DLH DLI DLJ DLK DLL DLM DLN DLO DLP DLG DLR DLS DLT DLU DLV DLW DLX DLY DLZ DMA DMB DMC DMD DME DMF DMG DMH DMI DMJ DMK DML DMM DMN DMO DMP DMG DMR DMS DMT DMU DMV DMW DMX DMY DMZ DNA DNB DNC DND DNE DNF DNG DNH DNI DNJ DNK DNL DNM DNN DNO DNP DNG DNR DNS DNT DNU DNV DNW DNX DNY DNZ DOA DOB DOC DOD DOE DOF DOG DOH DOI DOJ DOK DOL DOM DON DOO DOP DOG DOR DOS DOT DOU DOV DOW DOX DOY DOZ DPA DPB DPC DPD DPE DPF DPG DPH DPI DPJ DPK DPL DPM DPN DPO DPP DPG DPR DPS DPT DPU DPV DPW DPX DPY DPZ DGA DGB DGC DGD DGE DGF DGG DGH DGI DGJ DGK DGL DGM DGN DGO DGP DGG DGR DGS DGT DGU DGV DGW DGX DGY DGZ DRA DRB DRC DRD DRE DRF DRG DRH DRI DRJ DRK DRL DRM DRN DRO DRP DRG DRR DRS DRT DRU DRV DRW DRX DRY DRZ DSA DSB DSC DSD DSE DSF DSG DSH DSI DSJ DSK DSL DSM DSN DSO DSP DSG DSR DSS DST DSU DSV DSW DSX DSY DSZ DTA DTB DTC DTD DTE DTF DTG DTH DTI DTJ DTK DTL DTM DTN DTO DTP DTG DTR DTS DTT DTU DTV DTW DTX DTY DTZ DUA DUB DUC DUD DUE DUF DUG DUH DUI DUJ DUK DUL DUM DUN DUO DUP DUG DUR DUS DUT DUU DUV DUW DUX DUY DUZ DVA DVB DVC DVD DVE DVF DVG DVH DVI DVJ DVK DVL DVM DVN DVO DVP DVG DVR DVS DVT DVU DVV DVW DVX DVY DVZ DWA DWB DWC DWD DWE DWF DWG DWH DWI DWJ DWK DWL DWM DWN DWO DWP DWG DWR DWS DWT DWU DWV DWW DWX DWY DWZ DXA DXB DXC DXD DXE DXF DXG DXH DXI DXJ DXK DXL DXM DXN DXO DXP DXG DXR DXS DXT DXU DXV DXW DXX DXY DXZ DYA DYB DYC DYD DYE DYF DYG DYH DYI DYJ DYK DYL DYM DYN DYO DYP DYG DYR DYS DYT DYU DYV DYW DYX DYY DYZ DZA DZB DZC DZD DZE DZF DZG DZH DZI DZJ DZK DZL DZM DZN DZO DZP DZG DZR DZS DZT DZU DZV DZW DZX DZY DZZ EAA EAB EAC EAD EAE EAF EAG EAH EAI EAJ EAK EAL EAM EAN EAO EAP EAG EAR EAS EAT EAU EAV EAW EAX EAY EAZ EBA EBB EBC EBD EBE EBF EBG EBH EBI EBJ EBK EBL EBM EBN EBO EBP EBG EBR EBS EBT EBU EBV EBW EBX EBY EBZ ECA ECB ECC ECD ECE ECF ECG ECH ECI ECJ ECK ECL ECM ECN ECO ECP ECG ECR ECS ECT ECU ECV ECW ECX ECY ECZ EDA EDB EDC EDD EDE EDF EDG EDH EDI EDJ EDK EDL EDM EDN EDO EDP EDG EDR EDS EDT EDU EDV EDW EDX EDY EDZ EEA EEB EEC EED EEE EEF EEG EEH EEI EEJ EEK EEL EEM EEN EEO EEP EEG EER EES EET EEU EEV EEW EEX EEY EEZ EFA EFB EFC EFD EFE EFF EFG EFH EFI EFJ EFK EFL EFM EFN EFO EFP EFG EFR EFS EFT EFU EFV EFW EFX EFY EFZ EGA EGB EGC EGD EGE EGF EGG EGH EGI EGJ EGK EGL EGM EGN EGO EGP EGG EGR EGS EGT EGU EGV EGW EGX EGY EGZ EHA EHB EHC EHD EHE EHF EHG EHH EHI EHJ EHK EHL EHM EHN EHO EHP EHG EHR EHS EHT EHU EHV EHW EHX EHY EHZ EIA EIB EIC EID EIE EIF EIG EIH EII EIJ EIK EIL EIM EIN EIO EIP EIG EIR EIS EIT EIU EIV EIW EIX EIY EIZ EJA EJB EJC EJD EJE EJF EJG EJH EJI EJJ EJK EJL EJM EJN EJO EJP EJG EJR EJS EJT EJU EJV EJW EJX EJY EJZ EKA EKB EKC EKD EKE EKF EKG EKH EKI EKJ EKK EKL EKM EKN EKO EKP EKG EKR EKS EKT EKU EKV EKW EKX EKY EKZ ELA ELB ELC ELD ELE ELF ELG ELH ELI ELJ ELK ELL ELM ELN ELO ELP ELG ELR ELS ELT ELU ELV ELW ELX ELY ELZ EMA EMB EMC EMD EME EMF EMG EMH EMI EMJ EMK EML EMM EMN EMO EMP EMG EMR EMS EMT EMU EMV EMW EMX EMY EMZ ENA ENB ENC END ENE ENF ENG ENH ENI ENJ ENK ENL ENM ENN ENO ENP ENG ENR ENS ENT ENU ENV ENW ENX ENY ENZ EOA EOB EOC EOD EOE EOF EOG EOH EOI EOJ EOK EOL EOM EON EOO EOP EOG EOR EOS EOT EOU EOV EOW EOX EOY EOZ EPA EPB EPC EPD EPE EPF EPG EPH EPI EPJ EPK EPL EPM EPN EPO EPP EPG EPR EPS EPT EPU EPV EPW EPX EPY EPZ EGA EGB EGC EGD EGE EGF EGG EGH EGI EGJ EGK EGL EGM EGN EGO EGP EGG EGR EGS EGT EGU EGV EGW EGX EGY EGZ ERA ERB ERC ERD ERE ERF ERG ERH ERI ERJ ERK ERL ERM ERN ERO ERP ERG ERR ERS ERT ERU ERV ERW ERX ERY ERZ ESA ESB ESC ESD ESE ESF ESG ESH ESI ESJ ESK ESL ESM ESN ESO ESP ESG ESR ESS EST ESU ESV ESW ESX ESY ESZ ETA ETB ETC ETD ETE ETF ETG ETH ETI ETJ ETK ETL ETM ETN ETO ETP ETG ETR ETS ETT ETU ETV ETW ETX ETY ETZ EUA EUB EUC EUD EUE EUF EUG EUH EUI EUJ EUK EUL EUM EUN EUO EUP EUG EUR EUS EUT EUU EUV EUW EUX EUY EUZ EVA EVB EVC EVD EVE EVF EVG EVH EVI EVJ EVK EVL EVM EVN EVO EVP EVG EVR EVS EVT EVU EVV EVW EVX EVY EVZ EWA EWB EWC EWD EWE EWF EWG EWH EWI EWJ EWK EWL EWM EWN EWO EWP EWG EWR EWS EWT EWU EWV EWW EWX EWY EWZ EXA EXB EXC EXD EXE EXF EXG EXH EXI EXJ EXK EXL EXM EXN EXO EXP EXG EXR EXS EXT EXU EXV EXW EXX EXY EXZ EYA EYB EYC EYD EYE EYF EYG EYH EYI EYJ EYK EYL EYM EYN EYO EYP EYG EYR EYS EYT EYU EYV EYW EYX EYY EYZ EZA EZB EZC EZD EZE EZF EZG EZH EZI EZJ EZK EZL EZM EZN EZO EZP EZG EZR EZS EZT EZU EZV EZW EZX EZY EZZ FAA FAB FAC FAD FAE FAF FAG FAH FAI FAJ FAK FAL FAM FAN FAO FAP FAG FAR FAS FAT FAU FAV FAW FAX FAY FAZ FBA FBB FBC FBD FBE FBF FBG FBH FBI FBJ FBK FBL FBM FBN FBO FBP FBG FBR FBS FBT FBU FBV FBW FBX FBY FBZ FCA FCB FCC FCD FCE FCF FCG FCH FCI FCJ FCK FCL FCM FCN FCO FCP FCG FCR FCS FCT FCU FCV FCW FCX FCY FCZ FDA FDB FDC FDD FDE FDF FDG FDH FDI FDJ FDK FDL FDM FDN FDO FDP FDG FDR FDS FDT FDU FDV FDW FDX FDY FDZ FEA FEB FEC FED FEE FEF FEG FEH FEI FEJ FEK FEL FEM FEN FEO FEP FEG FER FES FET FEU FEV FEW FEX FEY FEZ FFA FFB FFC FFD FFE FFF FFG FFH FFI FFJ FFK FFL FFM FFN FFO FFP FFG FFR FFS FFT FFU FFV FFW FFX FFY FFZ FGA FGB FGC FGD FGE FGF FGG FGH FGI FGJ FGK FGL FGM FGN FGO FGP FGG FGR FGS FGT FGU FGV FGW FGX FGY FGZ FHA FHB FHC FHD FHE FHF FHG FHH FHI FHJ FHK FHL FHM FHN FHO FHP FHG FHR FHS FHT FHU FHV FHW FHX FHY FHZ FIA FIB FIC FID FIE FIF FIG FIH FII FIJ FIK FIL FIM FIN FIO FIP FIG FIR FIS FIT FIU FIV FIW FIX FIY FIZ FJA FJB FJC FJD FJE FJF FJG FJH FJI FJJ FJK FJL FJM FJN FJO FJP FJG FJR FJS FJT FJU FJV FJW FJX FJY FJZ FKA FKB FKC FKD FKE FKF FKG FKH FKI FKJ FKK FKL FKM FKN FKO FKP FKG FKR FKS FKT FKU FKV FKW FKX FKY FKZ FLA FLB FLC FLD FLE FLF FLG FLH FLI FLJ FLK FLL FLM FLN FLO FLP FLG FLR FLS FLT FLU FLV FLW FLX FLY FLZ FMA FMB FMC FMD FME FMF FMG FMH FMI FMJ FMK FML FMM FMN FMO FMP FMG FMR FMS FMT FMU FMV FMW FMX FMY FMZ FNA FNB FNC FND FNE FNF FNG FNH FNI FNJ FNK FNL FNM FNN FNO FNP FNG FNR FNS FNT FNU FNV FNW FNX FNY FNZ FOA FOB FOC FOD FOE FOF FOG FOH FOI FOJ FOK FOL FOM FON FOO FOP FOG FOR FOS FOT FOU FOV FOW FOX FOY FOZ FPA FPB FPC FPD FPE FPF FPG FPH FPI FPJ FPK FPL FPM FPN FPO FPP FPG FPR FPS FPT FPU FPV FPW FPX FPY FPZ FGA FGB FGC FGD FGE FGF FGG FGH FGI FGJ FGK FGL FGM FGN FGO FGP FGG FGR FGS FGT FGU FGV FGW FGX FGY FGZ FRA FRB FRC FRD FRE FRF FRG FRH FRI FRJ FRK FRL FRM FRN FRO FRP FRG FRR FRS FRT FRU FRV FRW FRX FRY FRZ FSA FSB FSC FSD FSE FSF FSG FSH FSI FSJ FSK FSL FSM FSN FSO FSP FSG FSR FSS FST FSU FSV FSW FSX FSY FSZ FTA FTB FTC FTD FTE FTF FTG FTH FTI FTJ FTK FTL FTM FTN FTO FTP FTG FTR FTS FTT FTU FTV FTW FTX FTY FTZ FUA FUB FUC FUD FUE FUF FUG FUH FUI FUJ FUK FUL FUM FUN FUO FUP FUG FUR FUS FUT FUU FUV FUW FUX FUY FUZ FVA FVB FVC FVD FVE FVF FVG FVH FVI FVJ FVK FVL FVM FVN FVO FVP FVG FVR FVS FVT FVU FVV FVW FVX FVY FVZ FWA FWB FWC FWD FWE FWF FWG FWH FWI FWJ FWK FWL FWM FWN FWO FWP FWG FWR FWS FWT FWU FWV FWW FWX FWY FWZ FXA FXB FXC FXD FXE FXF FXG FXH FXI FXJ FXK FXL FXM FXN FXO FXP FXG FXR FXS FXT FXU FXV FXW FXX FXY FXZ FYA FYB FYC FYD FYE FYF FYG FYH FYI FYJ FYK FYL FYM FYN FYO FYP FYG FYR FYS FYT FYU FYV FYW FYX FYY FYZ FZA FZB FZC FZD FZE FZF FZG FZH FZI FZJ FZK FZL FZM FZN FZO FZP FZG FZR FZS FZT FZU FZV FZW FZX FZY FZZ GAA GAB GAC GAD GAE GAF GAG GAH GAI GAJ GAK GAL GAM GAN GAO GAP GAG GAR GAS GAT GAU GAV GAW GAX GAY GAZ GBA GBB GBC GBD GBE GBF GBG GBH GBI GBJ GBK GBL GBM GBN GBO GBP GBG GBR GBS GBT GBU GBV GBW GBX GBY GBZ GCA GCB GCC GCD GCE GCF GCG GCH GCI GCJ GCK GCL GCM GCN GCO GCP GCG GCR GCS GCT GCU GCV GCW GCX GCY GCZ GDA GDB GDC GDD GDE GDF GDG GDH GDI GDJ GDK GDL GDM GDN GDO GDP GDG GDR GDS GDT GDU GDV GDW GDX GDY GDZ GEA GEB GEC GED GEE GEF GEG GEH GEI GEJ GEK GEL GEM GEN GEO GEP GEG GER GES GET GEU GEV GEW GEX GEY GEZ GFA GFB GFC GFD GFE GFF GFG GFH GFI GFJ GFK GFL GFM GFN GFO GFP GFG GFR GFS GFT GFU GFV GFW GFX GFY GFZ GGA GGB GGC GGD GGE GGF GGG GGH GGI GGJ GGK GGL GGM GGN GGO GGP GGG GGR GGS GGT GGU GGV GGW GGX GGY GGZ GHA GHB GHC GHD GHE GHF GHG GHH GHI GHJ GHK GHL GHM GHN GHO GHP GHG GHR GHS GHT GHU GHV GHW GHX GHY GHZ GIA GIB GIC GID GIE GIF GIG GIH GII GIJ GIK GIL GIM GIN GIO GIP GIG GIR GIS GIT GIU GIV GIW GIX GIY GIZ GJA GJB GJC GJD GJE GJF GJG GJH GJI GJJ GJK GJL GJM GJN GJO GJP GJG GJR GJS GJT GJU GJV GJW GJX GJY GJZ GKA GKB GKC GKD GKE GKF GKG GKH GKI GKJ GKK GKL GKM GKN GKO GKP GKG GKR GKS GKT GKU GKV GKW GKX GKY GKZ GLA GLB GLC GLD GLE GLF GLG GLH GLI GLJ GLK GLL GLM GLN GLO GLP GLG GLR GLS GLT GLU GLV GLW GLX GLY GLZ GMA GMB GMC GMD GME GMF GMG GMH GMI GMJ GMK GML GMM GMN GMO GMP GMG GMR GMS GMT GMU GMV GMW GMX GMY GMZ GNA GNB GNC GND GNE GNF GNG GNH GNI GNJ GNK GNL GNM GNN GNO GNP GNG GNR GNS GNT GNU GNV GNW GNX GNY GNZ GOA GOB GOC GOD GOE GOF GOG GOH GOI GOJ GOK GOL GOM GON GOO GOP GOG GOR GOS GOT GOU GOV GOW GOX GOY GOZ GPA GPB GPC GPD GPE GPF GPG GPH GPI GPJ GPK GPL GPM GPN GPO GPP GPG GPR GPS GPT GPU GPV GPW GPX GPY GPZ GGA GGB GGC GGD GGE GGF GGG GGH GGI GGJ GGK GGL GGM GGN GGO GGP GGG GGR GGS GGT GGU GGV GGW GGX GGY GGZ GRA GRB GRC GRD GRE GRF GRG GRH GRI GRJ GRK GRL GRM GRN GRO GRP GRG GRR GRS GRT GRU GRV GRW GRX GRY GRZ GSA GSB GSC GSD GSE GSF GSG GSH GSI GSJ GSK GSL GSM GSN GSO GSP GSG GSR GSS GST GSU GSV GSW GSX GSY GSZ GTA GTB GTC GTD GTE GTF GTG GTH GTI GTJ GTK GTL GTM GTN GTO GTP GTG GTR GTS GTT GTU GTV GTW GTX GTY GTZ GUA GUB GUC GUD GUE GUF GUG GUH GUI GUJ GUK GUL GUM GUN GUO GUP GUG GUR GUS GUT GUU GUV GUW GUX GUY GUZ GVA GVB GVC GVD GVE GVF GVG GVH GVI GVJ GVK GVL GVM GVN GVO GVP GVG GVR GVS GVT GVU GVV GVW GVX GVY GVZ GWA GWB GWC GWD GWE GWF GWG GWH GWI GWJ GWK GWL GWM GWN GWO GWP GWG GWR GWS GWT GWU GWV GWW GWX GWY GWZ GXA GXB GXC GXD GXE GXF GXG GXH GXI GXJ GXK GXL GXM GXN GXO GXP GXG GXR GXS GXT GXU GXV GXW GXX GXY GXZ GYA GYB GYC GYD GYE GYF GYG GYH GYI GYJ GYK GYL GYM GYN GYO GYP GYG GYR GYS GYT GYU GYV GYW GYX GYY GYZ GZA GZB GZC GZD GZE GZF GZG GZH GZI GZJ GZK GZL GZM GZN GZO GZP GZG GZR GZS GZT GZU GZV GZW GZX GZY GZZ HAA HAB HAC HAD HAE HAF HAG HAH HAI HAJ HAK HAL HAM HAN HAO HAP HAG HAR HAS HAT HAU HAV HAW HAX HAY HAZ HBA HBB HBC HBD HBE HBF HBG HBH HBI HBJ HBK HBL HBM HBN HBO HBP HBG HBR HBS HBT HBU HBV HBW HBX HBY HBZ HCA HCB HCC HCD HCE HCF HCG HCH HCI HCJ HCK HCL HCM HCN HCO HCP HCG HCR HCS HCT HCU HCV HCW HCX HCY HCZ HDA HDB HDC HDD HDE HDF HDG HDH HDI HDJ HDK HDL HDM HDN HDO HDP HDG HDR HDS HDT HDU HDV HDW HDX HDY HDZ HEA HEB HEC HED HEE HEF HEG HEH HEI HEJ HEK HEL HEM HEN HEO HEP HEG HER HES HET HEU HEV HEW HEX HEY HEZ HFA HFB HFC HFD HFE HFF HFG HFH HFI HFJ HFK HFL HFM HFN HFO HFP HFG HFR HFS HFT HFU HFV HFW HFX HFY HFZ HGA HGB HGC HGD HGE HGF HGG HGH HGI HGJ HGK HGL HGM HGN HGO HGP HGG HGR HGS HGT HGU HGV HGW HGX HGY HGZ HHA HHB HHC HHD HHE HHF HHG HHH HHI HHJ HHK HHL HHM HHN HHO HHP HHG HHR HHS HHT HHU HHV HHW HHX HHY HHZ HIA HIB HIC HID HIE HIF HIG HIH HII HIJ HIK HIL HIM HIN HIO HIP HIG HIR HIS HIT HIU HIV HIW HIX HIY HIZ HJA HJB HJC HJD HJE HJF HJG HJH HJI HJJ HJK HJL HJM HJN HJO HJP HJG HJR HJS HJT HJU HJV HJW HJX HJY HJZ HKA HKB HKC HKD HKE HKF HKG HKH HKI HKJ HKK HKL HKM HKN HKO HKP HKG HKR HKS HKT HKU HKV HKW HKX HKY HKZ HLA HLB HLC HLD HLE HLF HLG HLH HLI HLJ HLK HLL HLM HLN HLO HLP HLG HLR HLS HLT HLU HLV HLW HLX HLY HLZ HMA HMB HMC HMD HME HMF HMG HMH HMI HMJ HMK HML HMM HMN HMO HMP HMG HMR HMS HMT HMU HMV HMW HMX HMY HMZ HNA HNB HNC HND HNE HNF HNG HNH HNI HNJ HNK HNL HNM HNN HNO HNP HNG HNR HNS HNT HNU HNV HNW HNX HNY HNZ HOA HOB HOC HOD HOE HOF HOG HOH HOI HOJ HOK HOL HOM HON HOO HOP HOG HOR HOS HOT HOU HOV HOW HOX HOY HOZ HPA HPB HPC HPD HPE HPF HPG HPH HPI HPJ HPK HPL HPM HPN HPO HPP HPG HPR HPS HPT HPU HPV HPW HPX HPY HPZ HGA HGB HGC HGD HGE HGF HGG HGH HGI HGJ HGK HGL HGM HGN HGO HGP HGG HGR HGS HGT HGU HGV HGW HGX HGY HGZ HRA HRB HRC HRD HRE HRF HRG HRH HRI HRJ HRK HRL HRM HRN HRO HRP HRG HRR HRS HRT HRU HRV HRW HRX HRY HRZ HSA HSB HSC HSD HSE HSF HSG HSH HSI HSJ HSK HSL HSM HSN HSO HSP HSG HSR HSS HST HSU HSV HSW HSX HSY HSZ HTA HTB HTC HTD HTE HTF HTG HTH HTI HTJ HTK HTL HTM HTN HTO HTP HTG HTR HTS HTT HTU HTV HTW HTX HTY HTZ HUA HUB HUC HUD HUE HUF HUG HUH HUI HUJ HUK HUL HUM HUN HUO HUP HUG HUR HUS HUT HUU HUV HUW HUX HUY HUZ HVA HVB HVC HVD HVE HVF HVG HVH HVI HVJ HVK HVL HVM HVN HVO HVP HVG HVR HVS HVT HVU HVV HVW HVX HVY HVZ HWA HWB HWC HWD HWE HWF HWG HWH HWI HWJ HWK HWL HWM HWN HWO HWP HWG HWR HWS HWT HWU HWV HWW HWX HWY HWZ HXA HXB HXC HXD HXE HXF HXG HXH HXI HXJ HXK HXL HXM HXN HXO HXP HXG HXR HXS HXT HXU HXV HXW HXX HXY HXZ HYA HYB HYC HYD HYE HYF HYG HYH HYI HYJ HYK HYL HYM HYN HYO HYP HYG HYR HYS HYT HYU HYV HYW HYX HYY HYZ HZA HZB HZC HZD HZE HZF HZG HZH HZI HZJ HZK HZL HZM HZN HZO HZP HZG HZR HZS HZT HZU HZV HZW HZX HZY HZZ IAA IAB IAC IAD IAE IAF IAG IAH IAI IAJ IAK IAL IAM IAN IAO IAP IAG IAR IAS IAT IAU IAV IAW IAX IAY IAZ IBA IBB IBC IBD IBE IBF IBG IBH IBI IBJ IBK IBL IBM IBN IBO IBP IBG IBR IBS IBT IBU IBV IBW IBX IBY IBZ ICA ICB ICC ICD ICE ICF ICG ICH ICI ICJ ICK ICL ICM ICN ICO ICP ICG ICR ICS ICT ICU ICV ICW ICX ICY ICZ IDA IDB IDC IDD IDE IDF IDG IDH IDI IDJ IDK IDL IDM IDN IDO IDP IDG IDR IDS IDT IDU IDV IDW IDX IDY IDZ IEA IEB IEC IED IEE IEF IEG IEH IEI IEJ IEK IEL IEM IEN IEO IEP IEG IER IES IET IEU IEV IEW IEX IEY IEZ IFA IFB IFC IFD IFE IFF IFG IFH IFI IFJ IFK IFL IFM IFN IFO IFP IFG IFR IFS IFT IFU IFV IFW IFX IFY IFZ IGA IGB IGC IGD IGE IGF IGG IGH IGI IGJ IGK IGL IGM IGN IGO IGP IGG IGR IGS IGT IGU IGV IGW IGX IGY IGZ IHA IHB IHC IHD IHE IHF IHG IHH IHI IHJ IHK IHL IHM IHN IHO IHP IHG IHR IHS IHT IHU IHV IHW IHX IHY IHZ IIA IIB IIC IID IIE IIF IIG IIH III IIJ IIK IIL IIM IIN IIO IIP IIG IIR IIS IIT IIU IIV IIW IIX IIY IIZ IJA IJB IJC IJD IJE IJF IJG IJH IJI IJJ IJK IJL IJM IJN IJO IJP IJG IJR IJS IJT IJU IJV IJW IJX IJY IJZ IKA IKB IKC IKD IKE IKF IKG IKH IKI IKJ IKK IKL IKM IKN IKO IKP IKG IKR IKS IKT IKU IKV IKW IKX IKY IKZ ILA ILB ILC ILD ILE ILF ILG ILH ILI ILJ ILK ILL ILM ILN ILO ILP ILG ILR ILS ILT ILU ILV ILW ILX ILY ILZ IMA IMB IMC IMD IME IMF IMG IMH IMI IMJ IMK IML IMM IMN IMO IMP IMG IMR IMS IMT IMU IMV IMW IMX IMY IMZ INA INB INC IND INE INF ING INH INI INJ INK INL INM INN INO INP ING INR INS INT INU INV INW INX INY INZ IOA IOB IOC IOD IOE IOF IOG IOH IOI IOJ IOK IOL IOM ION IOO IOP IOG IOR IOS IOT IOU IOV IOW IOX IOY IOZ IPA IPB IPC IPD IPE IPF IPG IPH IPI IPJ IPK IPL IPM IPN IPO IPP IPG IPR IPS IPT IPU IPV IPW IPX IPY IPZ IGA IGB IGC IGD IGE IGF IGG IGH IGI IGJ IGK IGL IGM IGN IGO IGP IGG IGR IGS IGT IGU IGV IGW IGX IGY IGZ IRA IRB IRC IRD IRE IRF IRG IRH IRI IRJ IRK IRL IRM IRN IRO IRP IRG IRR IRS IRT IRU IRV IRW IRX IRY IRZ ISA ISB ISC ISD ISE ISF ISG ISH ISI ISJ ISK ISL ISM ISN ISO ISP ISG ISR ISS IST ISU ISV ISW ISX ISY ISZ ITA ITB ITC ITD ITE ITF ITG ITH ITI ITJ ITK ITL ITM ITN ITO ITP ITG ITR ITS ITT ITU ITV ITW ITX ITY ITZ IUA IUB IUC IUD IUE IUF IUG IUH IUI IUJ IUK IUL IUM IUN IUO IUP IUG IUR IUS IUT IUU IUV IUW IUX IUY IUZ IVA IVB IVC IVD IVE IVF IVG IVH IVI IVJ IVK IVL IVM IVN IVO IVP IVG IVR IVS IVT IVU IVV IVW IVX IVY IVZ IWA IWB IWC IWD IWE IWF IWG IWH IWI IWJ IWK IWL IWM IWN IWO IWP IWG IWR IWS IWT IWU IWV IWW IWX IWY IWZ IXA IXB IXC IXD IXE IXF IXG IXH IXI IXJ IXK IXL IXM IXN IXO IXP IXG IXR IXS IXT IXU IXV IXW IXX IXY IXZ IYA IYB IYC IYD IYE IYF IYG IYH IYI IYJ IYK IYL IYM IYN IYO IYP IYG IYR IYS IYT IYU IYV IYW IYX IYY IYZ IZA IZB IZC IZD IZE IZF IZG IZH IZI IZJ IZK IZL IZM IZN IZO IZP IZG IZR IZS IZT IZU IZV IZW IZX IZY IZZ JAA JAB JAC JAD JAE JAF JAG JAH JAI JAJ JAK JAL JAM JAN JAO JAP JAG JAR JAS JAT JAU JAV JAW JAX JAY JAZ JBA JBB JBC JBD JBE JBF JBG JBH JBI JBJ JBK JBL JBM JBN JBO JBP JBG JBR JBS JBT JBU JBV JBW JBX JBY JBZ JCA JCB JCC JCD JCE JCF JCG JCH JCI JCJ JCK JCL JCM JCN JCO JCP JCG JCR JCS JCT JCU JCV JCW JCX JCY JCZ JDA JDB JDC JDD JDE JDF JDG JDH JDI JDJ JDK JDL JDM JDN JDO JDP JDG JDR JDS JDT JDU JDV JDW JDX JDY JDZ JEA JEB JEC JED JEE JEF JEG JEH JEI JEJ JEK JEL JEM JEN JEO JEP JEG JER JES JET JEU JEV JEW JEX JEY JEZ JFA JFB JFC JFD JFE JFF JFG JFH JFI JFJ JFK JFL JFM JFN JFO JFP JFG JFR JFS JFT JFU JFV JFW JFX JFY JFZ JGA JGB JGC JGD JGE JGF JGG JGH JGI JGJ JGK JGL JGM JGN JGO JGP JGG JGR JGS JGT JGU JGV JGW JGX JGY JGZ JHA JHB JHC JHD JHE JHF JHG JHH JHI JHJ JHK JHL JHM JHN JHO JHP JHG JHR JHS JHT JHU JHV JHW JHX JHY JHZ JIA JIB JIC JID JIE JIF JIG JIH JII JIJ JIK JIL JIM JIN JIO JIP JIG JIR JIS JIT JIU JIV JIW JIX JIY JIZ JJA JJB JJC JJD JJE JJF JJG JJH JJI JJJ JJK JJL JJM JJN JJO JJP JJG JJR JJS JJT JJU JJV JJW JJX JJY JJZ JKA JKB JKC JKD JKE JKF JKG JKH JKI JKJ JKK JKL JKM JKN JKO JKP JKG JKR JKS JKT JKU JKV JKW JKX JKY JKZ JLA JLB JLC JLD JLE JLF JLG JLH JLI JLJ JLK JLL JLM JLN JLO JLP JLG JLR JLS JLT JLU JLV JLW JLX JLY JLZ JMA JMB JMC JMD JME JMF JMG JMH JMI JMJ JMK JML JMM JMN JMO JMP JMG JMR JMS JMT JMU JMV JMW JMX JMY JMZ JNA JNB JNC JND JNE JNF JNG JNH JNI JNJ JNK JNL JNM JNN JNO JNP JNG JNR JNS JNT JNU JNV JNW JNX JNY JNZ JOA JOB JOC JOD JOE JOF JOG JOH JOI JOJ JOK JOL JOM JON JOO JOP JOG JOR JOS JOT JOU JOV JOW JOX JOY JOZ JPA JPB JPC JPD JPE JPF JPG JPH JPI JPJ JPK JPL JPM JPN JPO JPP JPG JPR JPS JPT JPU JPV JPW JPX JPY JPZ JGA JGB JGC JGD JGE JGF JGG JGH JGI JGJ JGK JGL JGM JGN JGO JGP JGG JGR JGS JGT JGU JGV JGW JGX JGY JGZ JRA JRB JRC JRD JRE JRF JRG JRH JRI JRJ JRK JRL JRM JRN JRO JRP JRG JRR JRS JRT JRU JRV JRW JRX JRY JRZ JSA JSB JSC JSD JSE JSF JSG JSH JSI JSJ JSK JSL JSM JSN JSO JSP JSG JSR JSS JST JSU JSV JSW JSX JSY JSZ JTA JTB JTC JTD JTE JTF JTG JTH JTI JTJ JTK JTL JTM JTN JTO JTP JTG JTR JTS JTT JTU JTV JTW JTX JTY JTZ JUA JUB JUC JUD JUE JUF JUG JUH JUI JUJ JUK JUL JUM JUN JUO JUP JUG JUR JUS JUT JUU JUV JUW JUX JUY JUZ JVA JVB JVC JVD JVE JVF JVG JVH JVI JVJ JVK JVL JVM JVN JVO JVP JVG JVR JVS JVT JVU JVV JVW JVX JVY JVZ JWA JWB JWC JWD JWE JWF JWG JWH JWI JWJ JWK JWL JWM JWN JWO JWP JWG JWR JWS JWT JWU JWV JWW JWX JWY JWZ JXA JXB JXC JXD JXE JXF JXG JXH JXI JXJ JXK JXL JXM JXN JXO JXP JXG JXR JXS JXT JXU JXV JXW JXX JXY JXZ JYA JYB JYC JYD JYE JYF JYG JYH JYI JYJ JYK JYL JYM JYN JYO JYP JYG JYR JYS JYT JYU JYV JYW JYX JYY JYZ JZA JZB JZC JZD JZE JZF JZG JZH JZI JZJ JZK JZL JZM JZN JZO JZP JZG JZR JZS JZT JZU JZV JZW JZX JZY JZZ KAA KAB KAC KAD KAE KAF KAG KAH KAI KAJ KAK KAL KAM KAN KAO KAP KAG KAR KAS KAT KAU KAV KAW KAX KAY KAZ KBA KBB KBC KBD KBE KBF KBG KBH KBI KBJ KBK KBL KBM KBN KBO KBP KBG KBR KBS KBT KBU KBV KBW KBX KBY KBZ KCA KCB KCC KCD KCE KCF KCG KCH KCI KCJ KCK KCL KCM KCN KCO KCP KCG KCR KCS KCT KCU KCV KCW KCX KCY KCZ KDA KDB KDC KDD KDE KDF KDG KDH KDI KDJ KDK KDL KDM KDN KDO KDP KDG KDR KDS KDT KDU KDV KDW KDX KDY KDZ KEA KEB KEC KED KEE KEF KEG KEH KEI KEJ KEK KEL KEM KEN KEO KEP KEG KER KES KET KEU KEV KEW KEX KEY KEZ KFA KFB KFC KFD KFE KFF KFG KFH KFI KFJ KFK KFL KFM KFN KFO KFP KFG KFR KFS KFT KFU KFV KFW KFX KFY KFZ KGA KGB KGC KGD KGE KGF KGG KGH KGI KGJ KGK KGL KGM KGN KGO KGP KGG KGR KGS KGT KGU KGV KGW KGX KGY KGZ KHA KHB KHC KHD KHE KHF KHG KHH KHI KHJ KHK KHL KHM KHN KHO KHP KHG KHR KHS KHT KHU KHV KHW KHX KHY KHZ KIA KIB KIC KID KIE KIF KIG KIH KII KIJ KIK KIL KIM KIN KIO KIP KIG KIR KIS KIT KIU KIV KIW KIX KIY KIZ KJA KJB KJC KJD KJE KJF KJG KJH KJI KJJ KJK KJL KJM KJN KJO KJP KJG KJR KJS KJT KJU KJV KJW KJX KJY KJZ KKA KKB KKC KKD KKE KKF KKG KKH KKI KKJ KKK KKL KKM KKN KKO KKP KKG KKR KKS KKT KKU KKV KKW KKX KKY KKZ KLA KLB KLC KLD KLE KLF KLG KLH KLI KLJ KLK KLL KLM KLN KLO KLP KLG KLR KLS KLT KLU KLV KLW KLX KLY KLZ KMA KMB KMC KMD KME KMF KMG KMH KMI KMJ KMK KML KMM KMN KMO KMP KMG KMR KMS KMT KMU KMV KMW KMX KMY KMZ KNA KNB KNC KND KNE KNF KNG KNH KNI KNJ KNK KNL KNM KNN KNO KNP KNG KNR KNS KNT KNU KNV KNW KNX KNY KNZ KOA KOB KOC KOD KOE KOF KOG KOH KOI KOJ KOK KOL KOM KON KOO KOP KOG KOR KOS KOT KOU KOV KOW KOX KOY KOZ KPA KPB KPC KPD KPE KPF KPG KPH KPI KPJ KPK KPL KPM KPN KPO KPP KPG KPR KPS KPT KPU KPV KPW KPX KPY KPZ KGA KGB KGC KGD KGE KGF KGG KGH KGI KGJ KGK KGL KGM KGN KGO KGP KGG KGR KGS KGT KGU KGV KGW KGX KGY KGZ KRA KRB KRC KRD KRE KRF KRG KRH KRI KRJ KRK KRL KRM KRN KRO KRP KRG KRR KRS KRT KRU KRV KRW KRX KRY KRZ KSA KSB KSC KSD KSE KSF KSG KSH KSI KSJ KSK KSL KSM KSN KSO KSP KSG KSR KSS KST KSU KSV KSW KSX KSY KSZ KTA KTB KTC KTD KTE KTF KTG KTH KTI KTJ KTK KTL KTM KTN KTO KTP KTG KTR KTS KTT KTU KTV KTW KTX KTY KTZ KUA KUB KUC KUD KUE KUF KUG KUH KUI KUJ KUK KUL KUM KUN KUO KUP KUG KUR KUS KUT KUU KUV KUW KUX KUY KUZ KVA KVB KVC KVD KVE KVF KVG KVH KVI KVJ KVK KVL KVM KVN KVO KVP KVG KVR KVS KVT KVU KVV KVW KVX KVY KVZ KWA KWB KWC KWD KWE KWF KWG KWH KWI KWJ KWK KWL KWM KWN KWO KWP KWG KWR KWS KWT KWU KWV KWW KWX KWY KWZ KXA KXB KXC KXD KXE KXF KXG KXH KXI KXJ KXK KXL KXM KXN KXO KXP KXG KXR KXS KXT KXU KXV KXW KXX KXY KXZ KYA KYB KYC KYD KYE KYF KYG KYH KYI KYJ KYK KYL KYM KYN KYO KYP KYG KYR KYS KYT KYU KYV KYW KYX KYY KYZ KZA KZB KZC KZD KZE KZF KZG KZH KZI KZJ KZK KZL KZM KZN KZO KZP KZG KZR KZS KZT KZU KZV KZW KZX KZY KZZ LAA LAB LAC LAD LAE LAF LAG LAH LAI LAJ LAK LAL LAM LAN LAO LAP LAG LAR LAS LAT LAU LAV LAW LAX LAY LAZ LBA LBB LBC LBD LBE LBF LBG LBH LBI LBJ LBK LBL LBM LBN LBO LBP LBG LBR LBS LBT LBU LBV LBW LBX LBY LBZ LCA LCB LCC LCD LCE LCF LCG LCH LCI LCJ LCK LCL LCM LCN LCO LCP LCG LCR LCS LCT LCU LCV LCW LCX LCY LCZ LDA LDB LDC LDD LDE LDF LDG LDH LDI LDJ LDK LDL LDM LDN LDO LDP LDG LDR LDS LDT LDU LDV LDW LDX LDY LDZ LEA LEB LEC LED LEE LEF LEG LEH LEI LEJ LEK LEL LEM LEN LEO LEP LEG LER LES LET LEU LEV LEW LEX LEY LEZ LFA LFB LFC LFD LFE LFF LFG LFH LFI LFJ LFK LFL LFM LFN LFO LFP LFG LFR LFS LFT LFU LFV LFW LFX LFY LFZ LGA LGB LGC LGD LGE LGF LGG LGH LGI LGJ LGK LGL LGM LGN LGO LGP LGG LGR LGS LGT LGU LGV LGW LGX LGY LGZ LHA LHB LHC LHD LHE LHF LHG LHH LHI LHJ LHK LHL LHM LHN LHO LHP LHG LHR LHS LHT LHU LHV LHW LHX LHY LHZ LIA LIB LIC LID LIE LIF LIG LIH LII LIJ LIK LIL LIM LIN LIO LIP LIG LIR LIS LIT LIU LIV LIW LIX LIY LIZ LJA LJB LJC LJD LJE LJF LJG LJH LJI LJJ LJK LJL LJM LJN LJO LJP LJG LJR LJS LJT LJU LJV LJW LJX LJY LJZ LKA LKB LKC LKD LKE LKF LKG LKH LKI LKJ LKK LKL LKM LKN LKO LKP LKG LKR LKS LKT LKU LKV LKW LKX LKY LKZ LLA LLB LLC LLD LLE LLF LLG LLH LLI LLJ LLK LLL LLM LLN LLO LLP LLG LLR LLS LLT LLU LLV LLW LLX LLY LLZ LMA LMB LMC LMD LME LMF LMG LMH LMI LMJ LMK LML LMM LMN LMO LMP LMG LMR LMS LMT LMU LMV LMW LMX LMY LMZ LNA LNB LNC LND LNE LNF LNG LNH LNI LNJ LNK LNL LNM LNN LNO LNP LNG LNR LNS LNT LNU LNV LNW LNX LNY LNZ LOA LOB LOC LOD LOE LOF LOG LOH LOI LOJ LOK LOL LOM LON LOO LOP LOG LOR LOS LOT LOU LOV LOW LOX LOY LOZ LPA LPB LPC LPD LPE LPF LPG LPH LPI LPJ LPK LPL LPM LPN LPO LPP LPG LPR LPS LPT LPU LPV LPW LPX LPY LPZ LGA LGB LGC LGD LGE LGF LGG LGH LGI LGJ LGK LGL LGM LGN LGO LGP LGG LGR LGS LGT LGU LGV LGW LGX LGY LGZ LRA LRB LRC LRD LRE LRF LRG LRH LRI LRJ LRK LRL LRM LRN LRO LRP LRG LRR LRS LRT LRU LRV LRW LRX LRY LRZ LSA LSB LSC LSD LSE LSF LSG LSH LSI LSJ LSK LSL LSM LSN LSO LSP LSG LSR LSS LST LSU LSV LSW LSX LSY LSZ LTA LTB LTC LTD LTE LTF LTG LTH LTI LTJ LTK LTL LTM LTN LTO LTP LTG LTR LTS LTT LTU LTV LTW LTX LTY LTZ LUA LUB LUC LUD LUE LUF LUG LUH LUI LUJ LUK LUL LUM LUN LUO LUP LUG LUR LUS LUT LUU LUV LUW LUX LUY LUZ LVA LVB LVC LVD LVE LVF LVG LVH LVI LVJ LVK LVL LVM LVN LVO LVP LVG LVR LVS LVT LVU LVV LVW LVX LVY LVZ LWA LWB LWC LWD LWE LWF LWG LWH LWI LWJ LWK LWL LWM LWN LWO LWP LWG LWR LWS LWT LWU LWV LWW LWX LWY LWZ LXA LXB LXC LXD LXE LXF LXG LXH LXI LXJ LXK LXL LXM LXN LXO LXP LXG LXR LXS LXT LXU LXV LXW LXX LXY LXZ LYA LYB LYC LYD LYE LYF LYG LYH LYI LYJ LYK LYL LYM LYN LYO LYP LYG LYR LYS LYT LYU LYV LYW LYX LYY LYZ LZA LZB LZC LZD LZE LZF LZG LZH LZI LZJ LZK LZL LZM LZN LZO LZP LZG LZR LZS LZT LZU LZV LZW LZX LZY LZZ MAA MAB MAC MAD MAE MAF MAG MAH MAI MAJ MAK MAL MAM MAN MAO MAP MAG MAR MAS MAT MAU MAV MAW MAX MAY MAZ MBA MBB MBC MBD MBE MBF MBG MBH MBI MBJ MBK MBL MBM MBN MBO MBP MBG MBR MBS MBT MBU MBV MBW MBX MBY MBZ MCA MCB MCC MCD MCE MCF MCG MCH MCI MCJ MCK MCL MCM MCN MCO MCP MCG MCR MCS MCT MCU MCV MCW MCX MCY MCZ MDA MDB MDC MDD MDE MDF MDG MDH MDI MDJ MDK MDL MDM MDN MDO MDP MDG MDR MDS MDT MDU MDV MDW MDX MDY MDZ MEA MEB MEC MED MEE MEF MEG MEH MEI MEJ MEK MEL MEM MEN MEO MEP MEG MER MES MET MEU MEV MEW MEX MEY MEZ MFA MFB MFC MFD MFE MFF MFG MFH MFI MFJ MFK MFL MFM MFN MFO MFP MFG MFR MFS MFT MFU MFV MFW MFX MFY MFZ MGA MGB MGC MGD MGE MGF MGG MGH MGI MGJ MGK MGL MGM MGN MGO MGP MGG MGR MGS MGT MGU MGV MGW MGX MGY MGZ MHA MHB MHC MHD MHE MHF MHG MHH MHI MHJ MHK MHL MHM MHN MHO MHP MHG MHR MHS MHT MHU MHV MHW MHX MHY MHZ MIA MIB MIC MID MIE MIF MIG MIH MII MIJ MIK MIL MIM MIN MIO MIP MIG MIR MIS MIT MIU MIV MIW MIX MIY MIZ MJA MJB MJC MJD MJE MJF MJG MJH MJI MJJ MJK MJL MJM MJN MJO MJP MJG MJR MJS MJT MJU MJV MJW MJX MJY MJZ MKA MKB MKC MKD MKE MKF MKG MKH MKI MKJ MKK MKL MKM MKN MKO MKP MKG MKR MKS MKT MKU MKV MKW MKX MKY MKZ MLA MLB MLC MLD MLE MLF MLG MLH MLI MLJ MLK MLL MLM MLN MLO MLP MLG MLR MLS MLT MLU MLV MLW MLX MLY MLZ MMA MMB MMC MMD MME MMF MMG MMH MMI MMJ MMK MML MMM MMN MMO MMP MMG MMR MMS MMT MMU MMV MMW MMX MMY MMZ MNA MNB MNC MND MNE MNF MNG MNH MNI MNJ MNK MNL MNM MNN MNO MNP MNG MNR MNS MNT MNU MNV MNW MNX MNY MNZ MOA MOB MOC MOD MOE MOF MOG MOH MOI MOJ MOK MOL MOM MON MOO MOP MOG MOR MOS MOT MOU MOV MOW MOX MOY MOZ MPA MPB MPC MPD MPE MPF MPG MPH MPI MPJ MPK MPL MPM MPN MPO MPP MPG MPR MPS MPT MPU MPV MPW MPX MPY MPZ MGA MGB MGC MGD MGE MGF MGG MGH MGI MGJ MGK MGL MGM MGN MGO MGP MGG MGR MGS MGT MGU MGV MGW MGX MGY MGZ MRA MRB MRC MRD MRE MRF MRG MRH MRI MRJ MRK MRL MRM MRN MRO MRP MRG MRR MRS MRT MRU MRV MRW MRX MRY MRZ MSA MSB MSC MSD MSE MSF MSG MSH MSI MSJ MSK MSL MSM MSN MSO MSP MSG MSR MSS MST MSU MSV MSW MSX MSY MSZ MTA MTB MTC MTD MTE MTF MTG MTH MTI MTJ MTK MTL MTM MTN MTO MTP MTG MTR MTS MTT MTU MTV MTW MTX MTY MTZ MUA MUB MUC MUD MUE MUF MUG MUH MUI MUJ MUK MUL MUM MUN MUO MUP MUG MUR MUS MUT MUU MUV MUW MUX MUY MUZ MVA MVB MVC MVD MVE MVF MVG MVH MVI MVJ MVK MVL MVM MVN MVO MVP MVG MVR MVS MVT MVU MVV MVW MVX MVY MVZ MWA MWB MWC MWD MWE MWF MWG MWH MWI MWJ MWK MWL MWM MWN MWO MWP MWG MWR MWS MWT MWU MWV MWW MWX MWY MWZ MXA MXB MXC MXD MXE MXF MXG MXH MXI MXJ MXK MXL MXM MXN MXO MXP MXG MXR MXS MXT MXU MXV MXW MXX MXY MXZ MYA MYB MYC MYD MYE MYF MYG MYH MYI MYJ MYK MYL MYM MYN MYO MYP MYG MYR MYS MYT MYU MYV MYW MYX MYY MYZ MZA MZB MZC MZD MZE MZF MZG MZH MZI MZJ MZK MZL MZM MZN MZO MZP MZG MZR MZS MZT MZU MZV MZW MZX MZY MZZ NAA NAB NAC NAD NAE NAF NAG NAH NAI NAJ NAK NAL NAM NAN NAO NAP NAG NAR NAS NAT NAU NAV NAW NAX NAY NAZ NBA NBB NBC NBD NBE NBF NBG NBH NBI NBJ NBK NBL NBM NBN NBO NBP NBG NBR NBS NBT NBU NBV NBW NBX NBY NBZ NCA NCB NCC NCD NCE NCF NCG NCH NCI NCJ NCK NCL NCM NCN NCO NCP NCG NCR NCS NCT NCU NCV NCW NCX NCY NCZ NDA NDB NDC NDD NDE NDF NDG NDH NDI NDJ NDK NDL NDM NDN NDO NDP NDG NDR NDS NDT NDU NDV NDW NDX NDY NDZ NEA NEB NEC NED NEE NEF NEG NEH NEI NEJ NEK NEL NEM NEN NEO NEP NEG NER NES NET NEU NEV NEW NEX NEY NEZ NFA NFB NFC NFD NFE NFF NFG NFH NFI NFJ NFK NFL NFM NFN NFO NFP NFG NFR NFS NFT NFU NFV NFW NFX NFY NFZ NGA NGB NGC NGD NGE NGF NGG NGH NGI NGJ NGK NGL NGM NGN NGO NGP NGG NGR NGS NGT NGU NGV NGW NGX NGY NGZ NHA NHB NHC NHD NHE NHF NHG NHH NHI NHJ NHK NHL NHM NHN NHO NHP NHG NHR NHS NHT NHU NHV NHW NHX NHY NHZ NIA NIB NIC NID NIE NIF NIG NIH NII NIJ NIK NIL NIM NIN NIO NIP NIG NIR NIS NIT NIU NIV NIW NIX NIY NIZ NJA NJB NJC NJD NJE NJF NJG NJH NJI NJJ NJK NJL NJM NJN NJO NJP NJG NJR NJS NJT NJU NJV NJW NJX NJY NJZ NKA NKB NKC NKD NKE NKF NKG NKH NKI NKJ NKK NKL NKM NKN NKO NKP NKG NKR NKS NKT NKU NKV NKW NKX NKY NKZ NLA NLB NLC NLD NLE NLF NLG NLH NLI NLJ NLK NLL NLM NLN NLO NLP NLG NLR NLS NLT NLU NLV NLW NLX NLY NLZ NMA NMB NMC NMD NME NMF NMG NMH NMI NMJ NMK NML NMM NMN NMO NMP NMG NMR NMS NMT NMU NMV NMW NMX NMY NMZ NNA NNB NNC NND NNE NNF NNG NNH NNI NNJ NNK NNL NNM NNN NNO NNP NNG NNR NNS NNT NNU NNV NNW NNX NNY NNZ NOA NOB NOC NOD NOE NOF NOG NOH NOI NOJ NOK NOL NOM NON NOO NOP NOG NOR NOS NOT NOU NOV NOW NOX NOY NOZ NPA NPB NPC NPD NPE NPF NPG NPH NPI NPJ NPK NPL NPM NPN NPO NPP NPG NPR NPS NPT NPU NPV NPW NPX NPY NPZ NGA NGB NGC NGD NGE NGF NGG NGH NGI NGJ NGK NGL NGM NGN NGO NGP NGG NGR NGS NGT NGU NGV NGW NGX NGY NGZ NRA NRB NRC NRD NRE NRF NRG NRH NRI NRJ NRK NRL NRM NRN NRO NRP NRG NRR NRS NRT NRU NRV NRW NRX NRY NRZ NSA NSB NSC NSD NSE NSF NSG NSH NSI NSJ NSK NSL NSM NSN NSO NSP NSG NSR NSS NST NSU NSV NSW NSX NSY NSZ NTA NTB NTC NTD NTE NTF NTG NTH NTI NTJ NTK NTL NTM NTN NTO NTP NTG NTR NTS NTT NTU NTV NTW NTX NTY NTZ NUA NUB NUC NUD NUE NUF NUG NUH NUI NUJ NUK NUL NUM NUN NUO NUP NUG NUR NUS NUT NUU NUV NUW NUX NUY NUZ NVA NVB NVC NVD NVE NVF NVG NVH NVI NVJ NVK NVL NVM NVN NVO NVP NVG NVR NVS NVT NVU NVV NVW NVX NVY NVZ NWA NWB NWC NWD NWE NWF NWG NWH NWI NWJ NWK NWL NWM NWN NWO NWP NWG NWR NWS NWT NWU NWV NWW NWX NWY NWZ NXA NXB NXC NXD NXE NXF NXG NXH NXI NXJ NXK NXL NXM NXN NXO NXP NXG NXR NXS NXT NXU NXV NXW NXX NXY NXZ NYA NYB NYC NYD NYE NYF NYG NYH NYI NYJ NYK NYL NYM NYN NYO NYP NYG NYR NYS NYT NYU NYV NYW NYX NYY NYZ NZA NZB NZC NZD NZE NZF NZG NZH NZI NZJ NZK NZL NZM NZN NZO NZP NZG NZR NZS NZT NZU NZV NZW NZX NZY NZZ OAA OAB OAC OAD OAE OAF OAG OAH OAI OAJ OAK OAL OAM OAN OAO OAP OAG OAR OAS OAT OAU OAV OAW OAX OAY OAZ OBA OBB OBC OBD OBE OBF OBG OBH OBI OBJ OBK OBL OBM OBN OBO OBP OBG OBR OBS OBT OBU OBV OBW OBX OBY OBZ OCA OCB OCC OCD OCE OCF OCG OCH OCI OCJ OCK OCL OCM OCN OCO OCP OCG OCR OCS OCT OCU OCV OCW OCX OCY OCZ ODA ODB ODC ODD ODE ODF ODG ODH ODI ODJ ODK ODL ODM ODN ODO ODP ODG ODR ODS ODT ODU ODV ODW ODX ODY ODZ OEA OEB OEC OED OEE OEF OEG OEH OEI OEJ OEK OEL OEM OEN OEO OEP OEG OER OES OET OEU OEV OEW OEX OEY OEZ OFA OFB OFC OFD OFE OFF OFG OFH OFI OFJ OFK OFL OFM OFN OFO OFP OFG OFR OFS OFT OFU OFV OFW OFX OFY OFZ OGA OGB OGC OGD OGE OGF OGG OGH OGI OGJ OGK OGL OGM OGN OGO OGP OGG OGR OGS OGT OGU OGV OGW OGX OGY OGZ OHA OHB OHC OHD OHE OHF OHG OHH OHI OHJ OHK OHL OHM OHN OHO OHP OHG OHR OHS OHT OHU OHV OHW OHX OHY OHZ OIA OIB OIC OID OIE OIF OIG OIH OII OIJ OIK OIL OIM OIN OIO OIP OIG OIR OIS OIT OIU OIV OIW OIX OIY OIZ OJA OJB OJC OJD OJE OJF OJG OJH OJI OJJ OJK OJL OJM OJN OJO OJP OJG OJR OJS OJT OJU OJV OJW OJX OJY OJZ OKA OKB OKC OKD OKE OKF OKG OKH OKI OKJ OKK OKL OKM OKN OKO OKP OKG OKR OKS OKT OKU OKV OKW OKX OKY OKZ OLA OLB OLC OLD OLE OLF OLG OLH OLI OLJ OLK OLL OLM OLN OLO OLP OLG OLR OLS OLT OLU OLV OLW OLX OLY OLZ OMA OMB OMC OMD OME OMF OMG OMH OMI OMJ OMK OML OMM OMN OMO OMP OMG OMR OMS OMT OMU OMV OMW OMX OMY OMZ ONA ONB ONC OND ONE ONF ONG ONH ONI ONJ ONK ONL ONM ONN ONO ONP ONG ONR ONS ONT ONU ONV ONW ONX ONY ONZ OOA OOB OOC OOD OOE OOF OOG OOH OOI OOJ OOK OOL OOM OON OOO OOP OOG OOR OOS OOT OOU OOV OOW OOX OOY OOZ OPA OPB OPC OPD OPE OPF OPG OPH OPI OPJ OPK OPL OPM OPN OPO OPP OPG OPR OPS OPT OPU OPV OPW OPX OPY OPZ OGA OGB OGC OGD OGE OGF OGG OGH OGI OGJ OGK OGL OGM OGN OGO OGP OGG OGR OGS OGT OGU OGV OGW OGX OGY OGZ ORA ORB ORC ORD ORE ORF ORG ORH ORI ORJ ORK ORL ORM ORN ORO ORP ORG ORR ORS ORT ORU ORV ORW ORX ORY ORZ OSA OSB OSC OSD OSE OSF OSG OSH OSI OSJ OSK OSL OSM OSN OSO OSP OSG OSR OSS OST OSU OSV OSW OSX OSY OSZ OTA OTB OTC OTD OTE OTF OTG OTH OTI OTJ OTK OTL OTM OTN OTO OTP OTG OTR OTS OTT OTU OTV OTW OTX OTY OTZ OUA OUB OUC OUD OUE OUF OUG OUH OUI OUJ OUK OUL OUM OUN OUO OUP OUG OUR OUS OUT OUU OUV OUW OUX OUY OUZ OVA OVB OVC OVD OVE OVF OVG OVH OVI OVJ OVK OVL OVM OVN OVO OVP OVG OVR OVS OVT OVU OVV OVW OVX OVY OVZ OWA OWB OWC OWD OWE OWF OWG OWH OWI OWJ OWK OWL OWM OWN OWO OWP OWG OWR OWS OWT OWU OWV OWW OWX OWY OWZ OXA OXB OXC OXD OXE OXF OXG OXH OXI OXJ OXK OXL OXM OXN OXO OXP OXG OXR OXS OXT OXU OXV OXW OXX OXY OXZ OYA OYB OYC OYD OYE OYF OYG OYH OYI OYJ OYK OYL OYM OYN OYO OYP OYG OYR OYS OYT OYU OYV OYW OYX OYY OYZ OZA OZB OZC OZD OZE OZF OZG OZH OZI OZJ OZK OZL OZM OZN OZO OZP OZG OZR OZS OZT OZU OZV OZW OZX OZY OZZ PAA PAB PAC PAD PAE PAF PAG PAH PAI PAJ PAK PAL PAM PAN PAO PAP PAG PAR PAS PAT PAU PAV PAW PAX PAY PAZ PBA PBB PBC PBD PBE PBF PBG PBH PBI PBJ PBK PBL PBM PBN PBO PBP PBG PBR PBS PBT PBU PBV PBW PBX PBY PBZ PCA PCB PCC PCD PCE PCF PCG PCH PCI PCJ PCK PCL PCM PCN PCO PCP PCG PCR PCS PCT PCU PCV PCW PCX PCY PCZ PDA PDB PDC PDD PDE PDF PDG PDH PDI PDJ PDK PDL PDM PDN PDO PDP PDG PDR PDS PDT PDU PDV PDW PDX PDY PDZ PEA PEB PEC PED PEE PEF PEG PEH PEI PEJ PEK PEL PEM PEN PEO PEP PEG PER PES PET PEU PEV PEW PEX PEY PEZ PFA PFB PFC PFD PFE PFF PFG PFH PFI PFJ PFK PFL PFM PFN PFO PFP PFG PFR PFS PFT PFU PFV PFW PFX PFY PFZ PGA PGB PGC PGD PGE PGF PGG PGH PGI PGJ PGK PGL PGM PGN PGO PGP PGG PGR PGS PGT PGU PGV PGW PGX PGY PGZ PHA PHB PHC PHD PHE PHF PHG PHH PHI PHJ PHK PHL PHM PHN PHO PHP PHG PHR PHS PHT PHU PHV PHW PHX PHY PHZ PIA PIB PIC PID PIE PIF PIG PIH PII PIJ PIK PIL PIM PIN PIO PIP PIG PIR PIS PIT PIU PIV PIW PIX PIY PIZ PJA PJB PJC PJD PJE PJF PJG PJH PJI PJJ PJK PJL PJM PJN PJO PJP PJG PJR PJS PJT PJU PJV PJW PJX PJY PJZ PKA PKB PKC PKD PKE PKF PKG PKH PKI PKJ PKK PKL PKM PKN PKO PKP PKG PKR PKS PKT PKU PKV PKW PKX PKY PKZ PLA PLB PLC PLD PLE PLF PLG PLH PLI PLJ PLK PLL PLM PLN PLO PLP PLG PLR PLS PLT PLU PLV PLW PLX PLY PLZ PMA PMB PMC PMD PME PMF PMG PMH PMI PMJ PMK PML PMM PMN PMO PMP PMG PMR PMS PMT PMU PMV PMW PMX PMY PMZ PNA PNB PNC PND PNE PNF PNG PNH PNI PNJ PNK PNL PNM PNN PNO PNP PNG PNR PNS PNT PNU PNV PNW PNX PNY PNZ POA POB POC POD POE POF POG POH POI POJ POK POL POM PON POO POP POG POR POS POT POU POV POW POX POY POZ PPA PPB PPC PPD PPE PPF PPG PPH PPI PPJ PPK PPL PPM PPN PPO PPP PPG PPR PPS PPT PPU PPV PPW PPX PPY PPZ PGA PGB PGC PGD PGE PGF PGG PGH PGI PGJ PGK PGL PGM PGN PGO PGP PGG PGR PGS PGT PGU PGV PGW PGX PGY PGZ PRA PRB PRC PRD PRE PRF PRG PRH PRI PRJ PRK PRL PRM PRN PRO PRP PRG PRR PRS PRT PRU PRV PRW PRX PRY PRZ PSA PSB PSC PSD PSE PSF PSG PSH PSI PSJ PSK PSL PSM PSN PSO PSP PSG PSR PSS PST PSU PSV PSW PSX PSY PSZ PTA PTB PTC PTD PTE PTF PTG PTH PTI PTJ PTK PTL PTM PTN PTO PTP PTG PTR PTS PTT PTU PTV PTW PTX PTY PTZ PUA PUB PUC PUD PUE PUF PUG PUH PUI PUJ PUK PUL PUM PUN PUO PUP PUG PUR PUS PUT PUU PUV PUW PUX PUY PUZ PVA PVB PVC PVD PVE PVF PVG PVH PVI PVJ PVK PVL PVM PVN PVO PVP PVG PVR PVS PVT PVU PVV PVW PVX PVY PVZ PWA PWB PWC PWD PWE PWF PWG PWH PWI PWJ PWK PWL PWM PWN PWO PWP PWG PWR PWS PWT PWU PWV PWW PWX PWY PWZ PXA PXB PXC PXD PXE PXF PXG PXH PXI PXJ PXK PXL PXM PXN PXO PXP PXG PXR PXS PXT PXU PXV PXW PXX PXY PXZ PYA PYB PYC PYD PYE PYF PYG PYH PYI PYJ PYK PYL PYM PYN PYO PYP PYG PYR PYS PYT PYU PYV PYW PYX PYY PYZ PZA PZB PZC PZD PZE PZF PZG PZH PZI PZJ PZK PZL PZM PZN PZO PZP PZG PZR PZS PZT PZU PZV PZW PZX PZY PZZ GAA GAB GAC GAD GAE GAF GAG GAH GAI GAJ GAK GAL GAM GAN GAO GAP GAG GAR GAS GAT GAU GAV GAW GAX GAY GAZ GBA GBB GBC GBD GBE GBF GBG GBH GBI GBJ GBK GBL GBM GBN GBO GBP GBG GBR GBS GBT GBU GBV GBW GBX GBY GBZ GCA GCB GCC GCD GCE GCF GCG GCH GCI GCJ GCK GCL GCM GCN GCO GCP GCG GCR GCS GCT GCU GCV GCW GCX GCY GCZ GDA GDB GDC GDD GDE GDF GDG GDH GDI GDJ GDK GDL GDM GDN GDO GDP GDG GDR GDS GDT GDU GDV GDW GDX GDY GDZ GEA GEB GEC GED GEE GEF GEG GEH GEI GEJ GEK GEL GEM GEN GEO GEP GEG GER GES GET GEU GEV GEW GEX GEY GEZ GFA GFB GFC GFD GFE GFF GFG GFH GFI GFJ GFK GFL GFM GFN GFO GFP GFG GFR GFS GFT GFU GFV GFW GFX GFY GFZ GGA GGB GGC GGD GGE GGF GGG GGH GGI GGJ GGK GGL GGM GGN GGO GGP GGG GGR GGS GGT GGU GGV GGW GGX GGY GGZ GHA GHB GHC GHD GHE GHF GHG GHH GHI GHJ GHK GHL GHM GHN GHO GHP GHG GHR GHS GHT GHU GHV GHW GHX GHY GHZ GIA GIB GIC GID GIE GIF GIG GIH GII GIJ GIK GIL GIM GIN GIO GIP GIG GIR GIS GIT GIU GIV GIW GIX GIY GIZ GJA GJB GJC GJD GJE GJF GJG GJH GJI GJJ GJK GJL GJM GJN GJO GJP GJG GJR GJS GJT GJU GJV GJW GJX GJY GJZ GKA GKB GKC GKD GKE GKF GKG GKH GKI GKJ GKK GKL GKM GKN GKO GKP GKG GKR GKS GKT GKU GKV GKW GKX GKY GKZ GLA GLB GLC GLD GLE GLF GLG GLH GLI GLJ GLK GLL GLM GLN GLO GLP GLG GLR GLS GLT GLU GLV GLW GLX GLY GLZ GMA GMB GMC GMD GME GMF GMG GMH GMI GMJ GMK GML GMM GMN GMO GMP GMG GMR GMS GMT GMU GMV GMW GMX GMY GMZ GNA GNB GNC GND GNE GNF GNG GNH GNI GNJ GNK GNL GNM GNN GNO GNP GNG GNR GNS GNT GNU GNV GNW GNX GNY GNZ GOA GOB GOC GOD GOE GOF GOG GOH GOI GOJ GOK GOL GOM GON GOO GOP GOG GOR GOS GOT GOU GOV GOW GOX GOY GOZ GPA GPB GPC GPD GPE GPF GPG GPH GPI GPJ GPK GPL GPM GPN GPO GPP GPG GPR GPS GPT GPU GPV GPW GPX GPY GPZ GGA GGB GGC GGD GGE GGF GGG GGH GGI GGJ GGK GGL GGM GGN GGO GGP GGG GGR GGS GGT GGU GGV GGW GGX GGY GGZ GRA GRB GRC GRD GRE GRF GRG GRH GRI GRJ GRK GRL GRM GRN GRO GRP GRG GRR GRS GRT GRU GRV GRW GRX GRY GRZ GSA GSB GSC GSD GSE GSF GSG GSH GSI GSJ GSK GSL GSM GSN GSO GSP GSG GSR GSS GST GSU GSV GSW GSX GSY GSZ GTA GTB GTC GTD GTE GTF GTG GTH GTI GTJ GTK GTL GTM GTN GTO GTP GTG GTR GTS GTT GTU GTV GTW GTX GTY GTZ GUA GUB GUC GUD GUE GUF GUG GUH GUI GUJ GUK GUL GUM GUN GUO GUP GUG GUR GUS GUT GUU GUV GUW GUX GUY GUZ GVA GVB GVC GVD GVE GVF GVG GVH GVI GVJ GVK GVL GVM GVN GVO GVP GVG GVR GVS GVT GVU GVV GVW GVX GVY GVZ GWA GWB GWC GWD GWE GWF GWG GWH GWI GWJ GWK GWL GWM GWN GWO GWP GWG GWR GWS GWT GWU GWV GWW GWX GWY GWZ GXA GXB GXC GXD GXE GXF GXG GXH GXI GXJ GXK GXL GXM GXN GXO GXP GXG GXR GXS GXT GXU GXV GXW GXX GXY GXZ GYA GYB GYC GYD GYE GYF GYG GYH GYI GYJ GYK GYL GYM GYN GYO GYP GYG GYR GYS GYT GYU GYV GYW GYX GYY GYZ GZA GZB GZC GZD GZE GZF GZG GZH GZI GZJ GZK GZL GZM GZN GZO GZP GZG GZR GZS GZT GZU GZV GZW GZX GZY GZZ RAA RAB RAC RAD RAE RAF RAG RAH RAI RAJ RAK RAL RAM RAN RAO RAP RAG RAR RAS RAT RAU RAV RAW RAX RAY RAZ RBA RBB RBC RBD RBE RBF RBG RBH RBI RBJ RBK RBL RBM RBN RBO RBP RBG RBR RBS RBT RBU RBV RBW RBX RBY RBZ RCA RCB RCC RCD RCE RCF RCG RCH RCI RCJ RCK RCL RCM RCN RCO RCP RCG RCR RCS RCT RCU RCV RCW RCX RCY RCZ RDA RDB RDC RDD RDE RDF RDG RDH RDI RDJ RDK RDL RDM RDN RDO RDP RDG RDR RDS RDT RDU RDV RDW RDX RDY RDZ REA REB REC RED REE REF REG REH REI REJ REK REL REM REN REO REP REG RER RES RET REU REV REW REX REY REZ RFA RFB RFC RFD RFE RFF RFG RFH RFI RFJ RFK RFL RFM RFN RFO RFP RFG RFR RFS RFT RFU RFV RFW RFX RFY RFZ RGA RGB RGC RGD RGE RGF RGG RGH RGI RGJ RGK RGL RGM RGN RGO RGP RGG RGR RGS RGT RGU RGV RGW RGX RGY RGZ RHA RHB RHC RHD RHE RHF RHG RHH RHI RHJ RHK RHL RHM RHN RHO RHP RHG RHR RHS RHT RHU RHV RHW RHX RHY RHZ RIA RIB RIC RID RIE RIF RIG RIH RII RIJ RIK RIL RIM RIN RIO RIP RIG RIR RIS RIT RIU RIV RIW RIX RIY RIZ RJA RJB RJC RJD RJE RJF RJG RJH RJI RJJ RJK RJL RJM RJN RJO RJP RJG RJR RJS RJT RJU RJV RJW RJX RJY RJZ RKA RKB RKC RKD RKE RKF RKG RKH RKI RKJ RKK RKL RKM RKN RKO RKP RKG RKR RKS RKT RKU RKV RKW RKX RKY RKZ RLA RLB RLC RLD RLE RLF RLG RLH RLI RLJ RLK RLL RLM RLN RLO RLP RLG RLR RLS RLT RLU RLV RLW RLX RLY RLZ RMA RMB RMC RMD RME RMF RMG RMH RMI RMJ RMK RML RMM RMN RMO RMP RMG RMR RMS RMT RMU RMV RMW RMX RMY RMZ RNA RNB RNC RND RNE RNF RNG RNH RNI RNJ RNK RNL RNM RNN RNO RNP RNG RNR RNS RNT RNU RNV RNW RNX RNY RNZ ROA ROB ROC ROD ROE ROF ROG ROH ROI ROJ ROK ROL ROM RON ROO ROP ROG ROR ROS ROT ROU ROV ROW ROX ROY ROZ RPA RPB RPC RPD RPE RPF RPG RPH RPI RPJ RPK RPL RPM RPN RPO RPP RPG RPR RPS RPT RPU RPV RPW RPX RPY RPZ RGA RGB RGC RGD RGE RGF RGG RGH RGI RGJ RGK RGL RGM RGN RGO RGP RGG RGR RGS RGT RGU RGV RGW RGX RGY RGZ RRA RRB RRC RRD RRE RRF RRG RRH RRI RRJ RRK RRL RRM RRN RRO RRP RRG RRR RRS RRT RRU RRV RRW RRX RRY RRZ RSA RSB RSC RSD RSE RSF RSG RSH RSI RSJ RSK RSL RSM RSN RSO RSP RSG RSR RSS RST RSU RSV RSW RSX RSY RSZ RTA RTB RTC RTD RTE RTF RTG RTH RTI RTJ RTK RTL RTM RTN RTO RTP RTG RTR RTS RTT RTU RTV RTW RTX RTY RTZ RUA RUB RUC RUD RUE RUF RUG RUH RUI RUJ RUK RUL RUM RUN RUO RUP RUG RUR RUS RUT RUU RUV RUW RUX RUY RUZ RVA RVB RVC RVD RVE RVF RVG RVH RVI RVJ RVK RVL RVM RVN RVO RVP RVG RVR RVS RVT RVU RVV RVW RVX RVY RVZ RWA RWB RWC RWD RWE RWF RWG RWH RWI RWJ RWK RWL RWM RWN RWO RWP RWG RWR RWS RWT RWU RWV RWW RWX RWY RWZ RXA RXB RXC RXD RXE RXF RXG RXH RXI RXJ RXK RXL RXM RXN RXO RXP RXG RXR RXS RXT RXU RXV RXW RXX RXY RXZ RYA RYB RYC RYD RYE RYF RYG RYH RYI RYJ RYK RYL RYM RYN RYO RYP RYG RYR RYS RYT RYU RYV RYW RYX RYY RYZ RZA RZB RZC RZD RZE RZF RZG RZH RZI RZJ RZK RZL RZM RZN RZO RZP RZG RZR RZS RZT RZU RZV RZW RZX RZY RZZ SAA SAB SAC SAD SAE SAF SAG SAH SAI SAJ SAK SAL SAM SAN SAO SAP SAG SAR SAS SAT SAU SAV SAW SAX SAY SAZ SBA SBB SBC SBD SBE SBF SBG SBH SBI SBJ SBK SBL SBM SBN SBO SBP SBG SBR SBS SBT SBU SBV SBW SBX SBY SBZ SCA SCB SCC SCD SCE SCF SCG SCH SCI SCJ SCK SCL SCM SCN SCO SCP SCG SCR SCS SCT SCU SCV SCW SCX SCY SCZ SDA SDB SDC SDD SDE SDF SDG SDH SDI SDJ SDK SDL SDM SDN SDO SDP SDG SDR SDS SDT SDU SDV SDW SDX SDY SDZ SEA SEB SEC SED SEE SEF SEG SEH SEI SEJ SEK SEL SEM SEN SEO SEP SEG SER SES SET SEU SEV SEW SEX SEY SEZ SFA SFB SFC SFD SFE SFF SFG SFH SFI SFJ SFK SFL SFM SFN SFO SFP SFG SFR SFS SFT SFU SFV SFW SFX SFY SFZ SGA SGB SGC SGD SGE SGF SGG SGH SGI SGJ SGK SGL SGM SGN SGO SGP SGG SGR SGS SGT SGU SGV SGW SGX SGY SGZ SHA SHB SHC SHD SHE SHF SHG SHH SHI SHJ SHK SHL SHM SHN SHO SHP SHG SHR SHS SHT SHU SHV SHW SHX SHY SHZ SIA SIB SIC SID SIE SIF SIG SIH SII SIJ SIK SIL SIM SIN SIO SIP SIG SIR SIS SIT SIU SIV SIW SIX SIY SIZ SJA SJB SJC SJD SJE SJF SJG SJH SJI SJJ SJK SJL SJM SJN SJO SJP SJG SJR SJS SJT SJU SJV SJW SJX SJY SJZ SKA SKB SKC SKD SKE SKF SKG SKH SKI SKJ SKK SKL SKM SKN SKO SKP SKG SKR SKS SKT SKU SKV SKW SKX SKY SKZ SLA SLB SLC SLD SLE SLF SLG SLH SLI SLJ SLK SLL SLM SLN SLO SLP SLG SLR SLS SLT SLU SLV SLW SLX SLY SLZ SMA SMB SMC SMD SME SMF SMG SMH SMI SMJ SMK SML SMM SMN SMO SMP SMG SMR SMS SMT SMU SMV SMW SMX SMY SMZ SNA SNB SNC SND SNE SNF SNG SNH SNI SNJ SNK SNL SNM SNN SNO SNP SNG SNR SNS SNT SNU SNV SNW SNX SNY SNZ SOA SOB SOC SOD SOE SOF SOG SOH SOI SOJ SOK SOL SOM SON SOO SOP SOG SOR SOS SOT SOU SOV SOW SOX SOY SOZ SPA SPB SPC SPD SPE SPF SPG SPH SPI SPJ SPK SPL SPM SPN SPO SPP SPG SPR SPS SPT SPU SPV SPW SPX SPY SPZ SGA SGB SGC SGD SGE SGF SGG SGH SGI SGJ SGK SGL SGM SGN SGO SGP SGG SGR SGS SGT SGU SGV SGW SGX SGY SGZ SRA SRB SRC SRD SRE SRF SRG SRH SRI SRJ SRK SRL SRM SRN SRO SRP SRG SRR SRS SRT SRU SRV SRW SRX SRY SRZ SSA SSB SSC SSD SSE SSF SSG SSH SSI SSJ SSK SSL SSM SSN SSO SSP SSG SSR SSS SST SSU SSV SSW SSX SSY SSZ STA STB STC STD STE STF STG STH STI STJ STK STL STM STN STO STP STG STR STS STT STU STV STW STX STY STZ SUA SUB SUC SUD SUE SUF SUG SUH SUI SUJ SUK SUL SUM SUN SUO SUP SUG SUR SUS SUT SUU SUV SUW SUX SUY SUZ SVA SVB SVC SVD SVE SVF SVG SVH SVI SVJ SVK SVL SVM SVN SVO SVP SVG SVR SVS SVT SVU SVV SVW SVX SVY SVZ SWA SWB SWC SWD SWE SWF SWG SWH SWI SWJ SWK SWL SWM SWN SWO SWP SWG SWR SWS SWT SWU SWV SWW SWX SWY SWZ SXA SXB SXC SXD SXE SXF SXG SXH SXI SXJ SXK SXL SXM SXN SXO SXP SXG SXR SXS SXT SXU SXV SXW SXX SXY SXZ SYA SYB SYC SYD SYE SYF SYG SYH SYI SYJ SYK SYL SYM SYN SYO SYP SYG SYR SYS SYT SYU SYV SYW SYX SYY SYZ SZA SZB SZC SZD SZE SZF SZG SZH SZI SZJ SZK SZL SZM SZN SZO SZP SZG SZR SZS SZT SZU SZV SZW SZX SZY SZZ TAA TAB TAC TAD TAE TAF TAG TAH TAI TAJ TAK TAL TAM TAN TAO TAP TAG TAR TAS TAT TAU TAV TAW TAX TAY TAZ TBA TBB TBC TBD TBE TBF TBG TBH TBI TBJ TBK TBL TBM TBN TBO TBP TBG TBR TBS TBT TBU TBV TBW TBX TBY TBZ TCA TCB TCC TCD TCE TCF TCG TCH TCI TCJ TCK TCL TCM TCN TCO TCP TCG TCR TCS TCT TCU TCV TCW TCX TCY TCZ TDA TDB TDC TDD TDE TDF TDG TDH TDI TDJ TDK TDL TDM TDN TDO TDP TDG TDR TDS TDT TDU TDV TDW TDX TDY TDZ TEA TEB TEC TED TEE TEF TEG TEH TEI TEJ TEK TEL TEM TEN TEO TEP TEG TER TES TET TEU TEV TEW TEX TEY TEZ TFA TFB TFC TFD TFE TFF TFG TFH TFI TFJ TFK TFL TFM TFN TFO TFP TFG TFR TFS TFT TFU TFV TFW TFX TFY TFZ TGA TGB TGC TGD TGE TGF TGG TGH TGI TGJ TGK TGL TGM TGN TGO TGP TGG TGR TGS TGT TGU TGV TGW TGX TGY TGZ THA THB THC THD THE THF THG THH THI THJ THK THL THM THN THO THP THG THR THS THT THU THV THW THX THY THZ TIA TIB TIC TID TIE TIF TIG TIH TII TIJ TIK TIL TIM TIN TIO TIP TIG TIR TIS TIT TIU TIV TIW TIX TIY TIZ TJA TJB TJC TJD TJE TJF TJG TJH TJI TJJ TJK TJL TJM TJN TJO TJP TJG TJR TJS TJT TJU TJV TJW TJX TJY TJZ TKA TKB TKC TKD TKE TKF TKG TKH TKI TKJ TKK TKL TKM TKN TKO TKP TKG TKR TKS TKT TKU TKV TKW TKX TKY TKZ TLA TLB TLC TLD TLE TLF TLG TLH TLI TLJ TLK TLL TLM TLN TLO TLP TLG TLR TLS TLT TLU TLV TLW TLX TLY TLZ TMA TMB TMC TMD TME TMF TMG TMH TMI TMJ TMK TML TMM TMN TMO TMP TMG TMR TMS TMT TMU TMV TMW TMX TMY TMZ TNA TNB TNC TND TNE TNF TNG TNH TNI TNJ TNK TNL TNM TNN TNO TNP TNG TNR TNS TNT TNU TNV TNW TNX TNY TNZ TOA TOB TOC TOD TOE TOF TOG TOH TOI TOJ TOK TOL TOM TON TOO TOP TOG TOR TOS TOT TOU TOV TOW TOX TOY TOZ TPA TPB TPC TPD TPE TPF TPG TPH TPI TPJ TPK TPL TPM TPN TPO TPP TPG TPR TPS TPT TPU TPV TPW TPX TPY TPZ TGA TGB TGC TGD TGE TGF TGG TGH TGI TGJ TGK TGL TGM TGN TGO TGP TGG TGR TGS TGT TGU TGV TGW TGX TGY TGZ TRA TRB TRC TRD TRE TRF TRG TRH TRI TRJ TRK TRL TRM TRN TRO TRP TRG TRR TRS TRT TRU TRV TRW TRX TRY TRZ TSA TSB TSC TSD TSE TSF TSG TSH TSI TSJ TSK TSL TSM TSN TSO TSP TSG TSR TSS TST TSU TSV TSW TSX TSY TSZ TTA TTB TTC TTD TTE TTF TTG TTH TTI TTJ TTK TTL TTM TTN TTO TTP TTG TTR TTS TTT TTU TTV TTW TTX TTY TTZ TUA TUB TUC TUD TUE TUF TUG TUH TUI TUJ TUK TUL TUM TUN TUO TUP TUG TUR TUS TUT TUU TUV TUW TUX TUY TUZ TVA TVB TVC TVD TVE TVF TVG TVH TVI TVJ TVK TVL TVM TVN TVO TVP TVG TVR TVS TVT TVU TVV TVW TVX TVY TVZ TWA TWB TWC TWD TWE TWF TWG TWH TWI TWJ TWK TWL TWM TWN TWO TWP TWG TWR TWS TWT TWU TWV TWW TWX TWY TWZ TXA TXB TXC TXD TXE TXF TXG TXH TXI TXJ TXK TXL TXM TXN TXO TXP TXG TXR TXS TXT TXU TXV TXW TXX TXY TXZ TYA TYB TYC TYD TYE TYF TYG TYH TYI TYJ TYK TYL TYM TYN TYO TYP TYG TYR TYS TYT TYU TYV TYW TYX TYY TYZ TZA TZB TZC TZD TZE TZF TZG TZH TZI TZJ TZK TZL TZM TZN TZO TZP TZG TZR TZS TZT TZU TZV TZW TZX TZY TZZ UAA UAB UAC UAD UAE UAF UAG UAH UAI UAJ UAK UAL UAM UAN UAO UAP UAG UAR UAS UAT UAU UAV UAW UAX UAY UAZ UBA UBB UBC UBD UBE UBF UBG UBH UBI UBJ UBK UBL UBM UBN UBO UBP UBG UBR UBS UBT UBU UBV UBW UBX UBY UBZ UCA UCB UCC UCD UCE UCF UCG UCH UCI UCJ UCK UCL UCM UCN UCO UCP UCG UCR UCS UCT UCU UCV UCW UCX UCY UCZ UDA UDB UDC UDD UDE UDF UDG UDH UDI UDJ UDK UDL UDM UDN UDO UDP UDG UDR UDS UDT UDU UDV UDW UDX UDY UDZ UEA UEB UEC UED UEE UEF UEG UEH UEI UEJ UEK UEL UEM UEN UEO UEP UEG UER UES UET UEU UEV UEW UEX UEY UEZ UFA UFB UFC UFD UFE UFF UFG UFH UFI UFJ UFK UFL UFM UFN UFO UFP UFG UFR UFS UFT UFU UFV UFW UFX UFY UFZ UGA UGB UGC UGD UGE UGF UGG UGH UGI UGJ UGK UGL UGM UGN UGO UGP UGG UGR UGS UGT UGU UGV UGW UGX UGY UGZ UHA UHB UHC UHD UHE UHF UHG UHH UHI UHJ UHK UHL UHM UHN UHO UHP UHG UHR UHS UHT UHU UHV UHW UHX UHY UHZ UIA UIB UIC UID UIE UIF UIG UIH UII UIJ UIK UIL UIM UIN UIO UIP UIG UIR UIS UIT UIU UIV UIW UIX UIY UIZ UJA UJB UJC UJD UJE UJF UJG UJH UJI UJJ UJK UJL UJM UJN UJO UJP UJG UJR UJS UJT UJU UJV UJW UJX UJY UJZ UKA UKB UKC UKD UKE UKF UKG UKH UKI UKJ UKK UKL UKM UKN UKO UKP UKG UKR UKS UKT UKU UKV UKW UKX UKY UKZ ULA ULB ULC ULD ULE ULF ULG ULH ULI ULJ ULK ULL ULM ULN ULO ULP ULG ULR ULS ULT ULU ULV ULW ULX ULY ULZ UMA UMB UMC UMD UME UMF UMG UMH UMI UMJ UMK UML UMM UMN UMO UMP UMG UMR UMS UMT UMU UMV UMW UMX UMY UMZ UNA UNB UNC UND UNE UNF UNG UNH UNI UNJ UNK UNL UNM UNN UNO UNP UNG UNR UNS UNT UNU UNV UNW UNX UNY UNZ UOA UOB UOC UOD UOE UOF UOG UOH UOI UOJ UOK UOL UOM UON UOO UOP UOG UOR UOS UOT UOU UOV UOW UOX UOY UOZ UPA UPB UPC UPD UPE UPF UPG UPH UPI UPJ UPK UPL UPM UPN UPO UPP UPG UPR UPS UPT UPU UPV UPW UPX UPY UPZ UGA UGB UGC UGD UGE UGF UGG UGH UGI UGJ UGK UGL UGM UGN UGO UGP UGG UGR UGS UGT UGU UGV UGW UGX UGY UGZ URA URB URC URD URE URF URG URH URI URJ URK URL URM URN URO URP URG URR URS URT URU URV URW URX URY URZ USA USB USC USD USE USF USG USH USI USJ USK USL USM USN USO USP USG USR USS UST USU USV USW USX USY USZ UTA UTB UTC UTD UTE UTF UTG UTH UTI UTJ UTK UTL UTM UTN UTO UTP UTG UTR UTS UTT UTU UTV UTW UTX UTY UTZ UUA UUB UUC UUD UUE UUF UUG UUH UUI UUJ UUK UUL UUM UUN UUO UUP UUG UUR UUS UUT UUU UUV UUW UUX UUY UUZ UVA UVB UVC UVD UVE UVF UVG UVH UVI UVJ UVK UVL UVM UVN UVO UVP UVG UVR UVS UVT UVU UVV UVW UVX UVY UVZ UWA UWB UWC UWD UWE UWF UWG UWH UWI UWJ UWK UWL UWM UWN UWO UWP UWG UWR UWS UWT UWU UWV UWW UWX UWY UWZ UXA UXB UXC UXD UXE UXF UXG UXH UXI UXJ UXK UXL UXM UXN UXO UXP UXG UXR UXS UXT UXU UXV UXW UXX UXY UXZ UYA UYB UYC UYD UYE UYF UYG UYH UYI UYJ UYK UYL UYM UYN UYO UYP UYG UYR UYS UYT UYU UYV UYW UYX UYY UYZ UZA UZB UZC UZD UZE UZF UZG UZH UZI UZJ UZK UZL UZM UZN UZO UZP UZG UZR UZS UZT UZU UZV UZW UZX UZY UZZ VAA VAB VAC VAD VAE VAF VAG VAH VAI VAJ VAK VAL VAM VAN VAO VAP VAG VAR VAS VAT VAU VAV VAW VAX VAY VAZ VBA VBB VBC VBD VBE VBF VBG VBH VBI VBJ VBK VBL VBM VBN VBO VBP VBG VBR VBS VBT VBU VBV VBW VBX VBY VBZ VCA VCB VCC VCD VCE VCF VCG VCH VCI VCJ VCK VCL VCM VCN VCO VCP VCG VCR VCS VCT VCU VCV VCW VCX VCY VCZ VDA VDB VDC VDD VDE VDF VDG VDH VDI VDJ VDK VDL VDM VDN VDO VDP VDG VDR VDS VDT VDU VDV VDW VDX VDY VDZ VEA VEB VEC VED VEE VEF VEG VEH VEI VEJ VEK VEL VEM VEN VEO VEP VEG VER VES VET VEU VEV VEW VEX VEY VEZ VFA VFB VFC VFD VFE VFF VFG VFH VFI VFJ VFK VFL VFM VFN VFO VFP VFG VFR VFS VFT VFU VFV VFW VFX VFY VFZ VGA VGB VGC VGD VGE VGF VGG VGH VGI VGJ VGK VGL VGM VGN VGO VGP VGG VGR VGS VGT VGU VGV VGW VGX VGY VGZ VHA VHB VHC VHD VHE VHF VHG VHH VHI VHJ VHK VHL VHM VHN VHO VHP VHG VHR VHS VHT VHU VHV VHW VHX VHY VHZ VIA VIB VIC VID VIE VIF VIG VIH VII VIJ VIK VIL VIM VIN VIO VIP VIG VIR VIS VIT VIU VIV VIW VIX VIY VIZ VJA VJB VJC VJD VJE VJF VJG VJH VJI VJJ VJK VJL VJM VJN VJO VJP VJG VJR VJS VJT VJU VJV VJW VJX VJY VJZ VKA VKB VKC VKD VKE VKF VKG VKH VKI VKJ VKK VKL VKM VKN VKO VKP VKG VKR VKS VKT VKU VKV VKW VKX VKY VKZ VLA VLB VLC VLD VLE VLF VLG VLH VLI VLJ VLK VLL VLM VLN VLO VLP VLG VLR VLS VLT VLU VLV VLW VLX VLY VLZ VMA VMB VMC VMD VME VMF VMG VMH VMI VMJ VMK VML VMM VMN VMO VMP VMG VMR VMS VMT VMU VMV VMW VMX VMY VMZ VNA VNB VNC VND VNE VNF VNG VNH VNI VNJ VNK VNL VNM VNN VNO VNP VNG VNR VNS VNT VNU VNV VNW VNX VNY VNZ VOA VOB VOC VOD VOE VOF VOG VOH VOI VOJ VOK VOL VOM VON VOO VOP VOG VOR VOS VOT VOU VOV VOW VOX VOY VOZ VPA VPB VPC VPD VPE VPF VPG VPH VPI VPJ VPK VPL VPM VPN VPO VPP VPG VPR VPS VPT VPU VPV VPW VPX VPY VPZ VGA VGB VGC VGD VGE VGF VGG VGH VGI VGJ VGK VGL VGM VGN VGO VGP VGG VGR VGS VGT VGU VGV VGW VGX VGY VGZ VRA VRB VRC VRD VRE VRF VRG VRH VRI VRJ VRK VRL VRM VRN VRO VRP VRG VRR VRS VRT VRU VRV VRW VRX VRY VRZ VSA VSB VSC VSD VSE VSF VSG VSH VSI VSJ VSK VSL VSM VSN VSO VSP VSG VSR VSS VST VSU VSV VSW VSX VSY VSZ VTA VTB VTC VTD VTE VTF VTG VTH VTI VTJ VTK VTL VTM VTN VTO VTP VTG VTR VTS VTT VTU VTV VTW VTX VTY VTZ VUA VUB VUC VUD VUE VUF VUG VUH VUI VUJ VUK VUL VUM VUN VUO VUP VUG VUR VUS VUT VUU VUV VUW VUX VUY VUZ VVA VVB VVC VVD VVE VVF VVG VVH VVI VVJ VVK VVL VVM VVN VVO VVP VVG VVR VVS VVT VVU VVV VVW VVX VVY VVZ VWA VWB VWC VWD VWE VWF VWG VWH VWI VWJ VWK VWL VWM VWN VWO VWP VWG VWR VWS VWT VWU VWV VWW VWX VWY VWZ VXA VXB VXC VXD VXE VXF VXG VXH VXI VXJ VXK VXL VXM VXN VXO VXP VXG VXR VXS VXT VXU VXV VXW VXX VXY VXZ VYA VYB VYC VYD VYE VYF VYG VYH VYI VYJ VYK VYL VYM VYN VYO VYP VYG VYR VYS VYT VYU VYV VYW VYX VYY VYZ VZA VZB VZC VZD VZE VZF VZG VZH VZI VZJ VZK VZL VZM VZN VZO VZP VZG VZR VZS VZT VZU VZV VZW VZX VZY VZZ WAA WAB WAC WAD WAE WAF WAG WAH WAI WAJ WAK WAL WAM WAN WAO WAP WAG WAR WAS WAT WAU WAV WAW WAX WAY WAZ WBA WBB WBC WBD WBE WBF WBG WBH WBI WBJ WBK WBL WBM WBN WBO WBP WBG WBR WBS WBT WBU WBV WBW WBX WBY WBZ WCA WCB WCC WCD WCE WCF WCG WCH WCI WCJ WCK WCL WCM WCN WCO WCP WCG WCR WCS WCT WCU WCV WCW WCX WCY WCZ WDA WDB WDC WDD WDE WDF WDG WDH WDI WDJ WDK WDL WDM WDN WDO WDP WDG WDR WDS WDT WDU WDV WDW WDX WDY WDZ WEA WEB WEC WED WEE WEF WEG WEH WEI WEJ WEK WEL WEM WEN WEO WEP WEG WER WES WET WEU WEV WEW WEX WEY WEZ WFA WFB WFC WFD WFE WFF WFG WFH WFI WFJ WFK WFL WFM WFN WFO WFP WFG WFR WFS WFT WFU WFV WFW WFX WFY WFZ WGA WGB WGC WGD WGE WGF WGG WGH WGI WGJ WGK WGL WGM WGN WGO WGP WGG WGR WGS WGT WGU WGV WGW WGX WGY WGZ WHA WHB WHC WHD WHE WHF WHG WHH WHI WHJ WHK WHL WHM WHN WHO WHP WHG WHR WHS WHT WHU WHV WHW WHX WHY WHZ WIA WIB WIC WID WIE WIF WIG WIH WII WIJ WIK WIL WIM WIN WIO WIP WIG WIR WIS WIT WIU WIV WIW WIX WIY WIZ WJA WJB WJC WJD WJE WJF WJG WJH WJI WJJ WJK WJL WJM WJN WJO WJP WJG WJR WJS WJT WJU WJV WJW WJX WJY WJZ WKA WKB WKC WKD WKE WKF WKG WKH WKI WKJ WKK WKL WKM WKN WKO WKP WKG WKR WKS WKT WKU WKV WKW WKX WKY WKZ WLA WLB WLC WLD WLE WLF WLG WLH WLI WLJ WLK WLL WLM WLN WLO WLP WLG WLR WLS WLT WLU WLV WLW WLX WLY WLZ WMA WMB WMC WMD WME WMF WMG WMH WMI WMJ WMK WML WMM WMN WMO WMP WMG WMR WMS WMT WMU WMV WMW WMX WMY WMZ WNA WNB WNC WND WNE WNF WNG WNH WNI WNJ WNK WNL WNM WNN WNO WNP WNG WNR WNS WNT WNU WNV WNW WNX WNY WNZ WOA WOB WOC WOD WOE WOF WOG WOH WOI WOJ WOK WOL WOM WON WOO WOP WOG WOR WOS WOT WOU WOV WOW WOX WOY WOZ WPA WPB WPC WPD WPE WPF WPG WPH WPI WPJ WPK WPL WPM WPN WPO WPP WPG WPR WPS WPT WPU WPV WPW WPX WPY WPZ WGA WGB WGC WGD WGE WGF WGG WGH WGI WGJ WGK WGL WGM WGN WGO WGP WGG WGR WGS WGT WGU WGV WGW WGX WGY WGZ WRA WRB WRC WRD WRE WRF WRG WRH WRI WRJ WRK WRL WRM WRN WRO WRP WRG WRR WRS WRT WRU WRV WRW WRX WRY WRZ WSA WSB WSC WSD WSE WSF WSG WSH WSI WSJ WSK WSL WSM WSN WSO WSP WSG WSR WSS WST WSU WSV WSW WSX WSY WSZ WTA WTB WTC WTD WTE WTF WTG WTH WTI WTJ WTK WTL WTM WTN WTO WTP WTG WTR WTS WTT WTU WTV WTW WTX WTY WTZ WUA WUB WUC WUD WUE WUF WUG WUH WUI WUJ WUK WUL WUM WUN WUO WUP WUG WUR WUS WUT WUU WUV WUW WUX WUY WUZ WVA WVB WVC WVD WVE WVF WVG WVH WVI WVJ WVK WVL WVM WVN WVO WVP WVG WVR WVS WVT WVU WVV WVW WVX WVY WVZ WWA WWB WWC WWD WWE WWF WWG WWH WWI WWJ WWK WWL WWM WWN WWO WWP WWG WWR WWS WWT WWU WWV WWW WWX WWY WWZ WXA WXB WXC WXD WXE WXF WXG WXH WXI WXJ WXK WXL WXM WXN WXO WXP WXG WXR WXS WXT WXU WXV WXW WXX WXY WXZ WYA WYB WYC WYD WYE WYF WYG WYH WYI WYJ WYK WYL WYM WYN WYO WYP WYG WYR WYS WYT WYU WYV WYW WYX WYY WYZ WZA WZB WZC WZD WZE WZF WZG WZH WZI WZJ WZK WZL WZM WZN WZO WZP WZG WZR WZS WZT WZU WZV WZW WZX WZY WZZ XAA XAB XAC XAD XAE XAF XAG XAH XAI XAJ XAK XAL XAM XAN XAO XAP XAG XAR XAS XAT XAU XAV XAW XAX XAY XAZ XBA XBB XBC XBD XBE XBF XBG XBH XBI XBJ XBK XBL XBM XBN XBO XBP XBG XBR XBS XBT XBU XBV XBW XBX XBY XBZ XCA XCB XCC XCD XCE XCF XCG XCH XCI XCJ XCK XCL XCM XCN XCO XCP XCG XCR XCS XCT XCU XCV XCW XCX XCY XCZ XDA XDB XDC XDD XDE XDF XDG XDH XDI XDJ XDK XDL XDM XDN XDO XDP XDG XDR XDS XDT XDU XDV XDW XDX XDY XDZ XEA XEB XEC XED XEE XEF XEG XEH XEI XEJ XEK XEL XEM XEN XEO XEP XEG XER XES XET XEU XEV XEW XEX XEY XEZ XFA XFB XFC XFD "
     ]
    }
   ],
   "source": [
    "l1 = \"ABCDEFGHIJKLMNOPGRSTUVWXYZ\"\n",
    "l2 = \"ABCDEFGHIJKLMNOPGRSTUVWXYZ\"\n",
    "l3=\"ABCDEFGHIJKLMNOPGRSTUVWXYZ\"\n",
    "#column_names=\"\"\n",
    "for i in l1:\n",
    "    print(i, end=\" \")\n",
    "\n",
    "print()\n",
    "for i in l1:\n",
    "    for j in l2:\n",
    "        for k in l3:\n",
    "           print(i + j+k, end=\" \")\n",
    "           if i+j+k=='XFD':\n",
    "              break\n",
    "        if i+j+k=='XFD':\n",
    "           break\n",
    "    if i+j+k=='XFD':\n",
    "       break"
   ]
  },
  {
   "cell_type": "code",
   "execution_count": 137,
   "id": "90de9a26-9de3-424e-afc6-ffb0a461ed58",
   "metadata": {},
   "outputs": [
    {
     "name": "stdout",
     "output_type": "stream",
     "text": [
      "Initial DataFrame:\n",
      "   OrderID Customer  Amount     Status\n",
      "0      101     Ajay     250  Completed\n",
      "1      102    Kiran     300    Pending\n",
      "2      103   Suresh     150  Completed\n",
      "   OrderID Customer  Amount     Status\n",
      "0      101     Ajay     250  Completed\n",
      "1      102    Kiran     300    Pending\n",
      "2      103   Suresh     150  Completed\n",
      "3      104     Ravi     400    Pending\n",
      "4      105  Kishore     500  Completed\n",
      "5      106     Amar     350    Pending\n",
      "   OrderID Customer  Amount     Status\n",
      "0      101     Ajay     250  Completed\n",
      "1      102    Kiran     300  Completed\n",
      "2      103   Suresh     150  Completed\n",
      "3      104     Ravi     400  Completed\n",
      "4      105  Kishore     450  Completed\n",
      "5      106     Amar     350  Completed\n",
      "0    1.25\n",
      "1    1.50\n",
      "2    0.75\n",
      "3    2.00\n",
      "4    2.25\n",
      "5    1.75\n",
      "Name: Tax, dtype: float64\n",
      "0    Medium\n",
      "1    Medium\n",
      "2       Low\n",
      "3    Medium\n",
      "4      High\n",
      "5    Medium\n",
      "Name: Category, dtype: object\n",
      "Category\n",
      "High       450\n",
      "Low        150\n",
      "Medium    1300\n",
      "Name: Amount, dtype: int64\n"
     ]
    }
   ],
   "source": [
    "import pandas as pd\n",
    "sales_data = {\n",
    "    'OrderID': [101, 102, 103],\n",
    "    'Customer': ['Ajay', 'Kiran', 'Suresh'],\n",
    "    'Amount': [250, 300, 150],\n",
    "    'Status': ['Completed', 'Pending', 'Completed']\n",
    "}\n",
    "\n",
    "df = pd.DataFrame(sales_data)\n",
    "print(\"Initial DataFrame:\")\n",
    "print(df)\n",
    "df.loc[len(df)] = [104,'Ravi',400,'Pending']\n",
    "new_orders = pd.DataFrame({\n",
    "    'OrderID':[105,106],\n",
    "    'Customer':['Kishore','Amar'],\n",
    "    'Amount':[500,350],\n",
    "    'Status':['Completed','Pending']  \n",
    "\n",
    "})\n",
    "df = pd.concat([df, new_orders], ignore_index=True)\n",
    "print(df)\n",
    "df.loc[df['Status']=='Pending','Status']='Completed'\n",
    "df.loc[df['Amount']>400,'Amount']*=0.9\n",
    "df=df[df['Status']!='Canceled']\n",
    "print(df)\n",
    "df['Tax']=df['Amount']*0.005\n",
    "print(df['Tax'])\n",
    "def categorize_order(amount):\n",
    "    if amount<=200:\n",
    "        return'Low'\n",
    "    elif 201<=amount<=400:\n",
    "        return 'Medium'\n",
    "    else:\n",
    "        return 'High'\n",
    "df['Category']=df['Amount'].apply(categorize_order)\n",
    "print(df['Category'])\n",
    "category_sales=df.groupby('Category')['Amount'].sum()\n",
    "print(category_sales)\n",
    "df.to_csv('sales_data.csv',index=False)"
   ]
  },
  {
   "cell_type": "code",
   "execution_count": 143,
   "id": "0f54c516-9243-4b9d-a755-8c7515fccaec",
   "metadata": {},
   "outputs": [
    {
     "name": "stdout",
     "output_type": "stream",
     "text": [
      "Initial DataFrame:\n",
      "   Order ID Customer  Amount     Status\n",
      "0       101     Ajay     250  Completed\n",
      "1       102    Kiran     300    Pending\n",
      "2       103   Suresh     150  Completed\n",
      "   Order ID Customer  Amount     Status\n",
      "0       101     Ajay     250  Completed\n",
      "1       102    Kiran     300    Pending\n",
      "   Order ID Customer  Amount   Status\n",
      "1       102    Kiran     300  Pending\n",
      "   Order ID Customer  Amount     Status\n",
      "0       101     Ajay     250  Completed\n"
     ]
    }
   ],
   "source": [
    "import pandas as pd\n",
    "sales_data={\n",
    "    'Order ID':[101,102,103],\n",
    "    'Customer':['Ajay','Kiran','Suresh'],\n",
    "    'Amount':[250,300,150],\n",
    "    'Status':['Completed','Pending','Completed']\n",
    "}\n",
    "df=pd.DataFrame(sales_data)\n",
    "print(\"Initial DataFrame:\")\n",
    "print(df)\n",
    "print(df[df['Amount']>200])\n",
    "print(df.query('Status==\"Pending\"'))\n",
    "print(df.query('Status==\"Completed\"&Amount>200')) \n",
    "#print(df['Order ID','Amount'])\n"
   ]
  },
  {
   "cell_type": "code",
   "execution_count": 145,
   "id": "1a15a389-a25d-48f1-ad0e-847859cdeda3",
   "metadata": {},
   "outputs": [
    {
     "ename": "AttributeError",
     "evalue": "'DataFrame' object has no attribute 'df2_aligned'",
     "output_type": "error",
     "traceback": [
      "\u001b[1;31m---------------------------------------------------------------------------\u001b[0m",
      "\u001b[1;31mAttributeError\u001b[0m                            Traceback (most recent call last)",
      "\u001b[1;32m~\\AppData\\Local\\Temp\\ipykernel_2108\\2376112010.py\u001b[0m in \u001b[0;36m?\u001b[1;34m()\u001b[0m\n\u001b[0;32m      1\u001b[0m \u001b[1;32mimport\u001b[0m \u001b[0mpandas\u001b[0m \u001b[1;32mas\u001b[0m \u001b[0mpd\u001b[0m\u001b[1;33m\u001b[0m\u001b[1;33m\u001b[0m\u001b[0m\n\u001b[0;32m      2\u001b[0m \u001b[0mdf1_aligned\u001b[0m\u001b[1;33m=\u001b[0m\u001b[0mpd\u001b[0m\u001b[1;33m.\u001b[0m\u001b[0mDataFrame\u001b[0m\u001b[1;33m(\u001b[0m\u001b[1;33m{\u001b[0m\u001b[1;34m'A'\u001b[0m\u001b[1;33m:\u001b[0m\u001b[1;33m[\u001b[0m\u001b[1;36m1\u001b[0m\u001b[1;33m,\u001b[0m\u001b[1;36m2\u001b[0m\u001b[1;33m]\u001b[0m\u001b[1;33m}\u001b[0m\u001b[1;33m,\u001b[0m\u001b[0mindex\u001b[0m\u001b[1;33m=\u001b[0m\u001b[1;33m[\u001b[0m\u001b[1;34m'a'\u001b[0m\u001b[1;33m,\u001b[0m\u001b[1;34m'b'\u001b[0m\u001b[1;33m]\u001b[0m\u001b[1;33m)\u001b[0m\u001b[1;33m\u001b[0m\u001b[1;33m\u001b[0m\u001b[0m\n\u001b[0;32m      3\u001b[0m \u001b[0mdf2_aligned\u001b[0m\u001b[1;33m=\u001b[0m\u001b[0mpd\u001b[0m\u001b[1;33m.\u001b[0m\u001b[0mDataFrame\u001b[0m\u001b[1;33m(\u001b[0m\u001b[1;33m{\u001b[0m\u001b[1;34m'B'\u001b[0m\u001b[1;33m:\u001b[0m\u001b[1;33m[\u001b[0m\u001b[1;36m3\u001b[0m\u001b[1;33m,\u001b[0m\u001b[1;36m4\u001b[0m\u001b[1;33m]\u001b[0m\u001b[1;33m}\u001b[0m\u001b[1;33m,\u001b[0m\u001b[0mindex\u001b[0m\u001b[1;33m=\u001b[0m\u001b[1;33m[\u001b[0m\u001b[1;34m'b'\u001b[0m\u001b[1;33m,\u001b[0m\u001b[1;34m'c'\u001b[0m\u001b[1;33m]\u001b[0m\u001b[1;33m)\u001b[0m\u001b[1;33m\u001b[0m\u001b[1;33m\u001b[0m\u001b[0m\n\u001b[1;32m----> 4\u001b[1;33m \u001b[0mdf1_aligned\u001b[0m\u001b[1;33m.\u001b[0m\u001b[0mdf2_aligned\u001b[0m\u001b[1;33m==\u001b[0m\u001b[0mdf1\u001b[0m\u001b[1;33m.\u001b[0m\u001b[0maligned\u001b[0m\u001b[1;33m[\u001b[0m\u001b[0mdf2\u001b[0m\u001b[1;33m,\u001b[0m\u001b[0mjoin\u001b[0m\u001b[1;33m==\u001b[0m\u001b[1;34m'Outer'\u001b[0m\u001b[1;33m]\u001b[0m\u001b[1;33m\u001b[0m\u001b[1;33m\u001b[0m\u001b[0m\n\u001b[0m\u001b[0;32m      5\u001b[0m \u001b[0mprint\u001b[0m\u001b[1;33m(\u001b[0m\u001b[0mdf1_aligned\u001b[0m\u001b[1;33m)\u001b[0m\u001b[1;33m\u001b[0m\u001b[1;33m\u001b[0m\u001b[0m\n\u001b[0;32m      6\u001b[0m \u001b[0mprint\u001b[0m\u001b[1;33m(\u001b[0m\u001b[0mdf2_aligned\u001b[0m\u001b[1;33m)\u001b[0m\u001b[1;33m\u001b[0m\u001b[1;33m\u001b[0m\u001b[0m\n",
      "\u001b[1;32m~\\anaconda3\\Lib\\site-packages\\pandas\\core\\generic.py\u001b[0m in \u001b[0;36m?\u001b[1;34m(self, name)\u001b[0m\n\u001b[0;32m   6295\u001b[0m             \u001b[1;32mand\u001b[0m \u001b[0mname\u001b[0m \u001b[1;32mnot\u001b[0m \u001b[1;32min\u001b[0m \u001b[0mself\u001b[0m\u001b[1;33m.\u001b[0m\u001b[0m_accessors\u001b[0m\u001b[1;33m\u001b[0m\u001b[1;33m\u001b[0m\u001b[0m\n\u001b[0;32m   6296\u001b[0m             \u001b[1;32mand\u001b[0m \u001b[0mself\u001b[0m\u001b[1;33m.\u001b[0m\u001b[0m_info_axis\u001b[0m\u001b[1;33m.\u001b[0m\u001b[0m_can_hold_identifiers_and_holds_name\u001b[0m\u001b[1;33m(\u001b[0m\u001b[0mname\u001b[0m\u001b[1;33m)\u001b[0m\u001b[1;33m\u001b[0m\u001b[1;33m\u001b[0m\u001b[0m\n\u001b[0;32m   6297\u001b[0m         \u001b[1;33m)\u001b[0m\u001b[1;33m:\u001b[0m\u001b[1;33m\u001b[0m\u001b[1;33m\u001b[0m\u001b[0m\n\u001b[0;32m   6298\u001b[0m             \u001b[1;32mreturn\u001b[0m \u001b[0mself\u001b[0m\u001b[1;33m[\u001b[0m\u001b[0mname\u001b[0m\u001b[1;33m]\u001b[0m\u001b[1;33m\u001b[0m\u001b[1;33m\u001b[0m\u001b[0m\n\u001b[1;32m-> 6299\u001b[1;33m         \u001b[1;32mreturn\u001b[0m \u001b[0mobject\u001b[0m\u001b[1;33m.\u001b[0m\u001b[0m__getattribute__\u001b[0m\u001b[1;33m(\u001b[0m\u001b[0mself\u001b[0m\u001b[1;33m,\u001b[0m \u001b[0mname\u001b[0m\u001b[1;33m)\u001b[0m\u001b[1;33m\u001b[0m\u001b[1;33m\u001b[0m\u001b[0m\n\u001b[0m",
      "\u001b[1;31mAttributeError\u001b[0m: 'DataFrame' object has no attribute 'df2_aligned'"
     ]
    }
   ],
   "source": [
    "import pandas as pd\n",
    "df1_aligned=pd.DataFrame({'A':[1,2]},index=['a','b'])\n",
    "df2_aligned=pd.DataFrame({'B':[3,4]},index=['b','c'])\n",
    "df1_aligned.df2_aligned==df1.aligned[df2,join=='Outer']\n",
    "print(df1_aligned)\n",
    "print(df2_aligned)\n"
   ]
  },
  {
   "cell_type": "code",
   "execution_count": 11,
   "id": "2e546f26-2438-4482-882e-af7b82d8f667",
   "metadata": {},
   "outputs": [
    {
     "name": "stdout",
     "output_type": "stream",
     "text": [
      "    deptno       dname       loc   empno   ename        job     mgr  \\\n",
      "0     10.0  ACCOUNTING  NEW YORK  7782.0   CLARK    MANAGER  7839.0   \n",
      "1     10.0  ACCOUNTING  NEW YORK  7839.0    KING  PRESIDENT     NaN   \n",
      "2     10.0  ACCOUNTING  NEW YORK  7934.0  MILLER      CLERK  7782.0   \n",
      "3     20.0    RESEARCH    DALLAS  7369.0   SMITH      CLERK  7902.0   \n",
      "4     20.0    RESEARCH    DALLAS  7566.0   JONES    MANAGER  7839.0   \n",
      "5     20.0    RESEARCH    DALLAS  7788.0   SCOTT    ANALYST  7566.0   \n",
      "6     20.0    RESEARCH    DALLAS  7876.0   ADAMS      CLERK  7788.0   \n",
      "7     20.0    RESEARCH    DALLAS  7902.0    FORD    ANALYST  7566.0   \n",
      "8     30.0       SALES   CHICAGO  7499.0   ALLEN   SALESMAN  7698.0   \n",
      "9     30.0       SALES   CHICAGO  7521.0    WARD   SALESMAN  7698.0   \n",
      "10    30.0       SALES   CHICAGO  7654.0  MARTIN   SALESMAN  7698.0   \n",
      "11    30.0       SALES   CHICAGO  7698.0   BLAKE    MANAGER  7839.0   \n",
      "12    30.0       SALES   CHICAGO  7844.0  TURNER   SALESMAN  7698.0   \n",
      "13    30.0       SALES   CHICAGO  7900.0   JAMES      CLERK  7698.0   \n",
      "14    75.0  accounting     gudur  7789.0  somesh  accoutant  7788.0   \n",
      "\n",
      "      hiredate      sal    comm  \n",
      "0   1981-06-09   2450.0     NaN  \n",
      "1   1981-11-17   5000.0     NaN  \n",
      "2   1982-01-23   1300.0     NaN  \n",
      "3   1980-12-17    800.0     NaN  \n",
      "4   1981-04-02   2975.0     NaN  \n",
      "5   1987-07-13   3000.0     NaN  \n",
      "6   1987-07-13   1100.0     NaN  \n",
      "7   1981-12-03   3000.0     NaN  \n",
      "8   1981-02-20   1600.0   300.0  \n",
      "9   1981-02-22   1250.0   500.0  \n",
      "10  1981-09-28   1250.0  1400.0  \n",
      "11  1981-05-01   2850.0     NaN  \n",
      "12  1981-09-08   1500.0     0.0  \n",
      "13  1981-12-03    950.0     NaN  \n",
      "14  2022-11-11  45000.0  2000.0  \n"
     ]
    },
    {
     "name": "stderr",
     "output_type": "stream",
     "text": [
      "C:\\Users\\ANB\\AppData\\Local\\Temp\\ipykernel_11032\\2675126218.py:13: UserWarning: pandas only supports SQLAlchemy connectable (engine/connection) or database string URI or sqlite3 DBAPI2 connection. Other DBAPI2 objects are not tested. Please consider using SQLAlchemy.\n",
      "  emp_df=pd.read_sql(equery,conn)\n",
      "C:\\Users\\ANB\\AppData\\Local\\Temp\\ipykernel_11032\\2675126218.py:14: UserWarning: pandas only supports SQLAlchemy connectable (engine/connection) or database string URI or sqlite3 DBAPI2 connection. Other DBAPI2 objects are not tested. Please consider using SQLAlchemy.\n",
      "  dept_df=pd.read_sql(dquery,conn)\n"
     ]
    }
   ],
   "source": [
    "import pandas as pd\n",
    "import pymysql\n",
    "db_name=\"employee\"\n",
    "db_host=\"localhost\"\n",
    "db_username=\"root\"\n",
    "db_password=\"sanMS123@\"\n",
    "conn=pymysql.connect(host=db_host,\n",
    "                     user=\"root\",\n",
    "                     password=\"sanMS123@\",\n",
    "                     db=db_name)\n",
    "equery=\"select * from emp\"\n",
    "dquery=\"select * from dept\"\n",
    "emp_df=pd.read_sql(equery,conn)\n",
    "dept_df=pd.read_sql(dquery,conn)\n",
    "conn.close()\n",
    "result=pd.merge(dept_df,emp_df,on=\"deptno\",how=\"inner\")\n",
    "print(result)"
   ]
  },
  {
   "cell_type": "code",
   "execution_count": 159,
   "id": "c51cbfb9-9b1e-4d8c-ab0a-1a8bfab17c11",
   "metadata": {},
   "outputs": [
    {
     "name": "stderr",
     "output_type": "stream",
     "text": [
      "C:\\Users\\ANB\\AppData\\Local\\Temp\\ipykernel_2108\\713594419.py:12: UserWarning: pandas only supports SQLAlchemy connectable (engine/connection) or database string URI or sqlite3 DBAPI2 connection. Other DBAPI2 objects are not tested. Please consider using SQLAlchemy.\n",
      "  emp_df=pd.read_sql(equery,connection)\n"
     ]
    },
    {
     "name": "stdout",
     "output_type": "stream",
     "text": [
      "deptno       10.0     20.0    30.0     75.0      All\n",
      "job                                                 \n",
      "ANALYST       NaN   6000.0     NaN      NaN   6000.0\n",
      "CLERK      1300.0   1900.0   950.0      NaN   4150.0\n",
      "MANAGER    2450.0   2975.0  2850.0      NaN   8275.0\n",
      "PRESIDENT  5000.0      NaN     NaN      NaN   5000.0\n",
      "SALESMAN      NaN      NaN  5600.0      NaN   5600.0\n",
      "accoutant     NaN      NaN     NaN  45000.0  45000.0\n",
      "All        8750.0  10875.0  9400.0  45000.0  74025.0\n",
      "           sum                                                         count  \\\n",
      "job    ANALYST   CLERK MANAGER PRESIDENT SALESMAN accoutant      All ANALYST   \n",
      "deptno                                                                         \n",
      "10.0       0.0  1300.0  2450.0    5000.0      0.0       0.0   8750.0       0   \n",
      "20.0    6000.0  1900.0  2975.0       0.0      0.0       0.0  10875.0       2   \n",
      "30.0       0.0   950.0  2850.0       0.0   5600.0       0.0   9400.0       0   \n",
      "75.0       0.0     0.0     0.0       0.0      0.0   45000.0  45000.0       0   \n",
      "All     6000.0  4150.0  8275.0    5000.0   5600.0   45000.0  74025.0       2   \n",
      "\n",
      "                                                       \n",
      "job    CLERK MANAGER PRESIDENT SALESMAN accoutant All  \n",
      "deptno                                                 \n",
      "10.0       1       1         1        0         0   3  \n",
      "20.0       2       1         0        0         0   5  \n",
      "30.0       1       1         0        4         0   6  \n",
      "75.0       0       0         0        0         1   1  \n",
      "All        4       3         1        4         1  15  \n"
     ]
    }
   ],
   "source": [
    "import pandas as pd\n",
    "db_name=\"employee\"\n",
    "db_host=\"localhost\"\n",
    "db_username=\"root\"\n",
    "db_password=\"sanMS123@\"\n",
    "connection=pymysql.connect(host=db_host,\n",
    "                     user=\"root\",\n",
    "                     password=\"sanMS123@\",\n",
    "                     db=db_name)\n",
    "equery=\"select * from emp\"\n",
    "#dquery=\"select * from dept\"\n",
    "emp_df=pd.read_sql(equery,connection)\n",
    "#dept_df=pd.read_sql(dquery,conn)\n",
    "connection.close()\n",
    "#emp_df=pd.read_sql(equery,emp_df)\n",
    "ct=pd.crosstab(emp_df['job'],emp_df['deptno'],values=emp_df['sal'],aggfunc='sum',margins=True)\n",
    "print(ct)\n",
    "pt=emp_df.pivot_table(values='sal',index='deptno',columns='job',aggfunc=['sum','count'],fill_value=0,margins=True)\n",
    "print(pt)\n"
   ]
  },
  {
   "cell_type": "code",
   "execution_count": 161,
   "id": "31e8bbd3-d8ce-4351-acc0-4aa5727e06ef",
   "metadata": {},
   "outputs": [
    {
     "name": "stdout",
     "output_type": "stream",
     "text": [
      "   A  B\n",
      "0  1  0\n",
      "1  0  5\n",
      "2  3  6\n"
     ]
    }
   ],
   "source": [
    "import pandas as pd\n",
    "\n",
    "df = pd.DataFrame({'A': [1, None, 3], 'B': [None, 5, 6]})\n",
    "df_filled = df.fillna(0).astype(int)  \n",
    "print(df_filled)"
   ]
  },
  {
   "cell_type": "code",
   "execution_count": 163,
   "id": "0614f564-de61-4516-b2a0-1735e218e4c3",
   "metadata": {},
   "outputs": [
    {
     "name": "stdout",
     "output_type": "stream",
     "text": [
      "     A    B\n",
      "0  1.0  NaN\n",
      "1  1.0  5.0\n",
      "2  3.0  6.0\n",
      "     A    B\n",
      "0  1.0  5.0\n",
      "1  3.0  5.0\n",
      "2  3.0  6.0\n"
     ]
    },
    {
     "name": "stderr",
     "output_type": "stream",
     "text": [
      "C:\\Users\\ANB\\AppData\\Local\\Temp\\ipykernel_2108\\828739072.py:4: FutureWarning: DataFrame.fillna with 'method' is deprecated and will raise in a future version. Use obj.ffill() or obj.bfill() instead.\n",
      "  df_forward = df.fillna(method='ffill')\n",
      "C:\\Users\\ANB\\AppData\\Local\\Temp\\ipykernel_2108\\828739072.py:5: FutureWarning: DataFrame.fillna with 'method' is deprecated and will raise in a future version. Use obj.ffill() or obj.bfill() instead.\n",
      "  df_backward = df.fillna(method='bfill')\n"
     ]
    }
   ],
   "source": [
    "import pandas as pd\n",
    "\n",
    "df = pd.DataFrame({'A': [1, None, 3], 'B': [None, 5, 6]})\n",
    "df_forward = df.fillna(method='ffill')  \n",
    "df_backward = df.fillna(method='bfill')  \n",
    "print(df_forward)\n",
    "print(df_backward)"
   ]
  },
  {
   "cell_type": "code",
   "execution_count": 165,
   "id": "fc4a4411-143b-4be1-b94e-9a771c804d50",
   "metadata": {},
   "outputs": [
    {
     "name": "stdout",
     "output_type": "stream",
     "text": [
      "     A    B\n",
      "2  3.0  6.0\n",
      "Empty DataFrame\n",
      "Columns: []\n",
      "Index: [0, 1, 2]\n",
      "     A    B\n",
      "0  1.0  NaN\n",
      "1  NaN  5.0\n",
      "2  3.0  6.0\n",
      "     A    B\n",
      "0  1.0  NaN\n",
      "1  NaN  5.0\n",
      "2  3.0  6.0\n",
      "   A  B\n",
      "0  1  4\n",
      "1  2  5\n",
      "3  3  6\n"
     ]
    }
   ],
   "source": [
    "import pandas as pd\n",
    "\n",
    "df = pd.DataFrame({'A': [1, None, 3], 'B': [None, 5, 6]})\n",
    "df_dropped_rows = df.dropna()\n",
    "print(df_dropped_rows)\n",
    "df_dropped_cols = df.dropna(axis=1)\n",
    "print(df_dropped_cols)\n",
    "df_thresh = df.dropna(thresh=1)\n",
    "print(df_thresh)\n",
    "df_thresh_cols = df.dropna(axis=1, thresh=2)\n",
    "print(df_thresh_cols)\n",
    "df = pd.DataFrame({'A': [1, 2, 2, 3], 'B': [4, 5, 5, 6]})\n",
    "df_no_duplicates = df.drop_duplicates() \n",
    "df_no_dup_col = df.drop_duplicates(subset=['A'])  \n",
    "print(df_no_dup_col)\n",
    "\n"
   ]
  },
  {
   "cell_type": "code",
   "execution_count": 167,
   "id": "58ed2cd9-10da-4dcc-ab84-992702692e65",
   "metadata": {},
   "outputs": [
    {
     "name": "stdout",
     "output_type": "stream",
     "text": [
      "0     1\n",
      "1     4\n",
      "2     9\n",
      "3    16\n",
      "4    25\n",
      "dtype: int64\n"
     ]
    }
   ],
   "source": [
    "import pandas as pd\n",
    "data = pd.Series([1, 2, 3, 4, 5])\n",
    "result = data.apply(lambda x: x ** 2)\n",
    "print(result)"
   ]
  },
  {
   "cell_type": "code",
   "execution_count": 169,
   "id": "a2cbc028-9626-44c9-afe0-fc8d8de29ae8",
   "metadata": {},
   "outputs": [
    {
     "name": "stdout",
     "output_type": "stream",
     "text": [
      "A     6\n",
      "B    15\n",
      "dtype: int64\n",
      "0    4\n",
      "1    5\n",
      "2    6\n",
      "dtype: int64\n",
      "   A   B\n",
      "0  1  16\n",
      "1  4  25\n",
      "2  9  36\n"
     ]
    },
    {
     "name": "stderr",
     "output_type": "stream",
     "text": [
      "C:\\Users\\ANB\\AppData\\Local\\Temp\\ipykernel_2108\\826433316.py:14: FutureWarning: DataFrame.applymap has been deprecated. Use DataFrame.map instead.\n",
      "  result = df.applymap(lambda x: x ** 2)\n"
     ]
    }
   ],
   "source": [
    "import pandas as pd\n",
    "df = pd.DataFrame({\n",
    "    'A': [1, 2, 3],\n",
    "    'B': [4, 5, 6]\n",
    "})\n",
    "\n",
    "# Applying a function along columns (axis=0)\n",
    "result = df.apply(lambda x: x.sum(), axis=0)\n",
    "print(result)\n",
    "\n",
    "# Applying a function along rows (axis=1)\n",
    "result = df.apply(lambda x: x.max(), axis=1)\n",
    "print(result)\n",
    "result = df.applymap(lambda x: x ** 2)\n",
    "print(result)"
   ]
  },
  {
   "cell_type": "code",
   "execution_count": 171,
   "id": "36802d92-8dd2-4712-8342-aacf05d18c6d",
   "metadata": {},
   "outputs": [
    {
     "name": "stdout",
     "output_type": "stream",
     "text": [
      "0    10\n",
      "1    20\n",
      "2    30\n",
      "3    40\n",
      "4    50\n",
      "dtype: int64\n",
      "0      One\n",
      "1      Two\n",
      "2    Three\n",
      "3      NaN\n",
      "4      NaN\n",
      "dtype: object\n",
      "0    1.000000\n",
      "1    1.414214\n",
      "2    1.732051\n",
      "Name: A, dtype: float64\n"
     ]
    }
   ],
   "source": [
    "import pandas as pd\n",
    "data = pd.Series([1, 2, 3, 4, 5])\n",
    "result = data.map(lambda x: x * 10)\n",
    "print(result)\n",
    "result = data.map({1: 'One', 2: 'Two', 3: 'Three'})\n",
    "print(result)\n",
    "import numpy as np\n",
    "\n",
    "# Using NumPy functions\n",
    "result = df['A'].apply(np.sqrt)\n",
    "print(result)\n",
    "\n"
   ]
  },
  {
   "cell_type": "code",
   "execution_count": 173,
   "id": "e8b811e7-7169-4f38-87d1-516416276b45",
   "metadata": {},
   "outputs": [
    {
     "name": "stdout",
     "output_type": "stream",
     "text": [
      "0    HELLO\n",
      "1    WORLD\n",
      "2     None\n",
      "Name: text_upper, dtype: object\n",
      "0    hexxo\n",
      "1    worxd\n",
      "2     None\n",
      "Name: text_replaced, dtype: object\n",
      "0     True\n",
      "1     True\n",
      "2    False\n",
      "Name: contains_o, dtype: bool\n",
      "0    hello\n",
      "1    world\n",
      "2     None\n",
      "Name: text_stripped, dtype: object\n"
     ]
    }
   ],
   "source": [
    "import pandas as pd\n",
    "df = pd.DataFrame({'text': ['hello', 'world', None]})\n",
    "df['text_upper'] = df['text'].str.upper()\n",
    "print(df['text_upper'])\n",
    "df['text_replaced'] = df['text'].str.replace('l', 'x')\n",
    "print(df['text_replaced'] )\n",
    "df['contains_o'] = df['text'].str.contains('o', na=False)\n",
    "print(df['contains_o'])\n",
    "df['text_stripped'] = df['text'].str.strip()\n",
    "print(df['text_stripped'])"
   ]
  },
  {
   "cell_type": "code",
   "execution_count": 175,
   "id": "242da482-39f8-4a98-ab47-c8557b27bea5",
   "metadata": {},
   "outputs": [
    {
     "name": "stdout",
     "output_type": "stream",
     "text": [
      "      Name  Subject  Score\n",
      "0     Ajay     Math     85\n",
      "1  Kishore     Math     92\n",
      "2   Suresh     Math     78\n",
      "3     Ajay  Science     88\n",
      "4  Kishore  Science     95\n",
      "5   Suresh  Science     80\n"
     ]
    }
   ],
   "source": [
    "import pandas as pd\n",
    "df=pd.DataFrame({\n",
    "    'Name':['Ajay','Kishore','Suresh'],\n",
    "    'Math':[85,92,78],\n",
    "    'Science':[88,95,80]\n",
    "})\n",
    "melted=pd.melt(df,id_vars=['Name'],var_name='Subject',value_name='Score')\n",
    "print(melted)\n",
    "    "
   ]
  },
  {
   "cell_type": "code",
   "execution_count": 177,
   "id": "de1c6774-8663-4683-9662-4e9931a442f9",
   "metadata": {},
   "outputs": [
    {
     "name": "stdout",
     "output_type": "stream",
     "text": [
      "Subject  Math  Science\n",
      "Name                  \n",
      "Ajay       85       88\n",
      "Kishore    92       95\n",
      "Suresh     78       80\n"
     ]
    }
   ],
   "source": [
    "import pandas as pd\n",
    "data={\n",
    "    'Name':['Ajay','Kishore','Suresh','Ajay','Kishore','Suresh'],\n",
    "    'Subject':['Math','Math','Math','Science','Science','Science'],\n",
    "    'Score':[85,92,78,88,95,80]\n",
    "}\n",
    "long_df=pd.DataFrame(data)\n",
    "pivoted=long_df.pivot(index='Name',columns='Subject',values='Score')\n",
    "print(pivoted)"
   ]
  },
  {
   "cell_type": "code",
   "execution_count": 179,
   "id": "d065584e-4abb-46b2-99ac-0f497ce0cf73",
   "metadata": {},
   "outputs": [
    {
     "name": "stdout",
     "output_type": "stream",
     "text": [
      "subject  Math  Science\n",
      "Name                  \n",
      "Ajay       85       88\n",
      "Suresh     78       80\n",
      "kishore    92       95\n"
     ]
    }
   ],
   "source": [
    "import pandas as pd\n",
    "wide_df=pd.DataFrame({\n",
    "    'Name':['Ajay','kishore','Suresh'],\n",
    "    'Math':[85,92,78],\n",
    "    'Science':[88,95,80]\n",
    "})\n",
    "melted=pd.melt(wide_df,id_vars=['Name'],var_name='subject',value_name='score')\n",
    "reshaped=melted.pivot(index='Name',columns='subject',values='score')\n",
    "print(reshaped)"
   ]
  },
  {
   "cell_type": "code",
   "execution_count": 181,
   "id": "20f75f36-4dac-4459-914e-b925b9acb7e4",
   "metadata": {},
   "outputs": [
    {
     "name": "stdout",
     "output_type": "stream",
     "text": [
      "      ORDERNUMBER  QUANTITYORDERED  PRICEEACH  ORDERLINENUMBER    SALES  \\\n",
      "0           10107               30      95.70                2  2871.00   \n",
      "1           10121               34      81.35                5  2765.90   \n",
      "2           10134               41      94.74                2  3884.34   \n",
      "3           10145               45      83.26                6  3746.70   \n",
      "4           10159               49     100.00               14  5205.27   \n",
      "...           ...              ...        ...              ...      ...   \n",
      "2818        10350               20     100.00               15  2244.40   \n",
      "2819        10373               29     100.00                1  3978.51   \n",
      "2820        10386               43     100.00                4  5417.57   \n",
      "2821        10397               34      62.24                1  2116.16   \n",
      "2822        10414               47      65.52                9  3079.44   \n",
      "\n",
      "       ORDERDATE    STATUS  QTR_ID  MONTH_ID  YEAR_ID  ...  \\\n",
      "0      2/24/2003   Shipped       1         2     2003  ...   \n",
      "1       5/7/2003   Shipped       2         5     2003  ...   \n",
      "2       7/1/2003   Shipped       3         7     2003  ...   \n",
      "3      8/25/2003   Shipped       3         8     2003  ...   \n",
      "4     10/10/2003   Shipped       4        10     2003  ...   \n",
      "...          ...       ...     ...       ...      ...  ...   \n",
      "2818   12/2/2004   Shipped       4        12     2004  ...   \n",
      "2819   1/31/2005   Shipped       1         1     2005  ...   \n",
      "2820    3/1/2005  Resolved       1         3     2005  ...   \n",
      "2821   3/28/2005   Shipped       1         3     2005  ...   \n",
      "2822    5/6/2005   On Hold       2         5     2005  ...   \n",
      "\n",
      "                       ADDRESSLINE1  ADDRESSLINE2           CITY STATE  \\\n",
      "0           897 Long Airport Avenue       Level 3            NYC    NY   \n",
      "1                59 rue de l'Abbaye       Level 3          Reims    NY   \n",
      "2     27 rue du Colonel Pierre Avia       Level 3          Paris    NY   \n",
      "3                78934 Hillside Dr.       Level 3       Pasadena    CA   \n",
      "4                   7734 Strong St.       Level 3  San Francisco    CA   \n",
      "...                             ...           ...            ...   ...   \n",
      "2818             C/ Moralzarzal, 86     Suite 750         Madrid    NY   \n",
      "2819                    Torikatu 38     Suite 750           Oulu    NY   \n",
      "2820             C/ Moralzarzal, 86     Suite 750         Madrid    NY   \n",
      "2821          1 rue Alsace-Lorraine     Suite 750       Toulouse    NY   \n",
      "2822             8616 Spinnaker Dr.     Suite 750         Boston    MA   \n",
      "\n",
      "     POSTALCODE  COUNTRY TERRITORY CONTACTLASTNAME CONTACTFIRSTNAME DEALSIZE  \n",
      "0         10022      USA      EMEA              Yu             Kwai    Small  \n",
      "1         51100   France      EMEA         Henriot             Paul    Small  \n",
      "2         75508   France      EMEA        Da Cunha           Daniel   Medium  \n",
      "3         90003      USA      EMEA           Young            Julie   Medium  \n",
      "4         90003      USA      EMEA           Brown            Julie   Medium  \n",
      "...         ...      ...       ...             ...              ...      ...  \n",
      "2818      28034    Spain      EMEA          Freyre            Diego    Small  \n",
      "2819      90110  Finland      EMEA       Koskitalo           Pirkko   Medium  \n",
      "2820      28034    Spain      EMEA          Freyre            Diego   Medium  \n",
      "2821      31000   France      EMEA          Roulet          Annette    Small  \n",
      "2822      51003      USA      EMEA         Yoshido             Juri   Medium  \n",
      "\n",
      "[2823 rows x 25 columns]\n",
      "DEALSIZE  COUNTRY    \n",
      "Large     Australia        60252.04\n",
      "          Austria          32792.08\n",
      "          Canada            9064.89\n",
      "          Denmark          49886.67\n",
      "          Finland          40012.32\n",
      "          France          179004.87\n",
      "          Germany          30496.06\n",
      "          Ireland          15439.44\n",
      "          Italy            57565.43\n",
      "          Japan            25470.16\n",
      "          Norway           41042.70\n",
      "          Philippines       7483.98\n",
      "          Singapore        35363.19\n",
      "          Spain           141042.51\n",
      "          Sweden           14345.30\n",
      "          UK               35155.24\n",
      "          USA             527702.38\n",
      "Medium    Australia       381245.00\n",
      "          Austria         125314.10\n",
      "          Belgium          71531.37\n",
      "          Canada          137430.48\n",
      "          Denmark         140050.70\n",
      "          Finland         201741.96\n",
      "          France          643606.22\n",
      "          Germany         133151.79\n",
      "          Ireland          26822.87\n",
      "          Italy           184133.88\n",
      "          Japan           101097.22\n",
      "          Norway          190502.23\n",
      "          Philippines      62415.84\n",
      "          Singapore       178562.94\n",
      "          Spain           757927.09\n",
      "          Sweden          143685.97\n",
      "          Switzerland      98617.40\n",
      "          UK              301233.02\n",
      "          USA            2208362.16\n",
      "Small     Australia       189126.06\n",
      "          Austria          43956.35\n",
      "          Belgium          36881.25\n",
      "          Canada           77583.19\n",
      "          Denmark          55699.78\n",
      "          Finland          87827.63\n",
      "          France          288305.43\n",
      "          Germany          56824.24\n",
      "          Ireland          15494.12\n",
      "          Italy           132975.00\n",
      "          Japan            61600.43\n",
      "          Norway           75918.77\n",
      "          Philippines      24115.91\n",
      "          Singapore        74562.28\n",
      "          Spain           316717.32\n",
      "          Sweden           51982.94\n",
      "          Switzerland      19096.16\n",
      "          UK              142492.20\n",
      "          USA             891918.29\n",
      "Name: SALES, dtype: float64\n"
     ]
    },
    {
     "name": "stderr",
     "output_type": "stream",
     "text": [
      "C:\\Users\\ANB\\AppData\\Local\\Temp\\ipykernel_2108\\3093254098.py:4: FutureWarning: A value is trying to be set on a copy of a DataFrame or Series through chained assignment using an inplace method.\n",
      "The behavior will change in pandas 3.0. This inplace method will never work because the intermediate object on which we are setting values always behaves as a copy.\n",
      "\n",
      "For example, when doing 'df[col].method(value, inplace=True)', try using 'df.method({col: value}, inplace=True)' or df[col] = df[col].method(value) instead, to perform the operation inplace on the original object.\n",
      "\n",
      "\n",
      "  df['ADDRESSLINE2'].fillna(method='bfill', inplace=True)\n",
      "C:\\Users\\ANB\\AppData\\Local\\Temp\\ipykernel_2108\\3093254098.py:4: FutureWarning: Series.fillna with 'method' is deprecated and will raise in a future version. Use obj.ffill() or obj.bfill() instead.\n",
      "  df['ADDRESSLINE2'].fillna(method='bfill', inplace=True)\n",
      "C:\\Users\\ANB\\AppData\\Local\\Temp\\ipykernel_2108\\3093254098.py:5: FutureWarning: Series.fillna with 'method' is deprecated and will raise in a future version. Use obj.ffill() or obj.bfill() instead.\n",
      "  df['ADDRESSLINE2'].fillna(method='ffill',inplace=True)\n",
      "C:\\Users\\ANB\\AppData\\Local\\Temp\\ipykernel_2108\\3093254098.py:6: FutureWarning: A value is trying to be set on a copy of a DataFrame or Series through chained assignment using an inplace method.\n",
      "The behavior will change in pandas 3.0. This inplace method will never work because the intermediate object on which we are setting values always behaves as a copy.\n",
      "\n",
      "For example, when doing 'df[col].method(value, inplace=True)', try using 'df.method({col: value}, inplace=True)' or df[col] = df[col].method(value) instead, to perform the operation inplace on the original object.\n",
      "\n",
      "\n",
      "  df['STATE'].fillna(method='ffill',inplace=True)\n",
      "C:\\Users\\ANB\\AppData\\Local\\Temp\\ipykernel_2108\\3093254098.py:6: FutureWarning: Series.fillna with 'method' is deprecated and will raise in a future version. Use obj.ffill() or obj.bfill() instead.\n",
      "  df['STATE'].fillna(method='ffill',inplace=True)\n",
      "C:\\Users\\ANB\\AppData\\Local\\Temp\\ipykernel_2108\\3093254098.py:7: FutureWarning: A value is trying to be set on a copy of a DataFrame or Series through chained assignment using an inplace method.\n",
      "The behavior will change in pandas 3.0. This inplace method will never work because the intermediate object on which we are setting values always behaves as a copy.\n",
      "\n",
      "For example, when doing 'df[col].method(value, inplace=True)', try using 'df.method({col: value}, inplace=True)' or df[col] = df[col].method(value) instead, to perform the operation inplace on the original object.\n",
      "\n",
      "\n",
      "  df['POSTALCODE'].fillna(method='ffill',inplace=True)\n",
      "C:\\Users\\ANB\\AppData\\Local\\Temp\\ipykernel_2108\\3093254098.py:7: FutureWarning: Series.fillna with 'method' is deprecated and will raise in a future version. Use obj.ffill() or obj.bfill() instead.\n",
      "  df['POSTALCODE'].fillna(method='ffill',inplace=True)\n",
      "C:\\Users\\ANB\\AppData\\Local\\Temp\\ipykernel_2108\\3093254098.py:8: FutureWarning: A value is trying to be set on a copy of a DataFrame or Series through chained assignment using an inplace method.\n",
      "The behavior will change in pandas 3.0. This inplace method will never work because the intermediate object on which we are setting values always behaves as a copy.\n",
      "\n",
      "For example, when doing 'df[col].method(value, inplace=True)', try using 'df.method({col: value}, inplace=True)' or df[col] = df[col].method(value) instead, to perform the operation inplace on the original object.\n",
      "\n",
      "\n",
      "  df['TERRITORY'].fillna(method='ffill',inplace=True)\n",
      "C:\\Users\\ANB\\AppData\\Local\\Temp\\ipykernel_2108\\3093254098.py:8: FutureWarning: Series.fillna with 'method' is deprecated and will raise in a future version. Use obj.ffill() or obj.bfill() instead.\n",
      "  df['TERRITORY'].fillna(method='ffill',inplace=True)\n",
      "C:\\Users\\ANB\\AppData\\Local\\Temp\\ipykernel_2108\\3093254098.py:9: FutureWarning: Series.fillna with 'method' is deprecated and will raise in a future version. Use obj.ffill() or obj.bfill() instead.\n",
      "  df['TERRITORY'].fillna(method='bfill',inplace=True)\n"
     ]
    }
   ],
   "source": [
    "\n",
    "import pandas as pd\n",
    "file_path =\"C:\\\\Users\\\\ANB\\\\Downloads\\\\sales_data_sample.csv\"\n",
    "df = pd.read_csv(file_path,encoding='Windows-1252')\n",
    "df['ADDRESSLINE2'].fillna(method='bfill', inplace=True)\n",
    "df['ADDRESSLINE2'].fillna(method='ffill',inplace=True)\n",
    "df['STATE'].fillna(method='ffill',inplace=True)\n",
    "df['POSTALCODE'].fillna(method='ffill',inplace=True)\n",
    "df['TERRITORY'].fillna(method='ffill',inplace=True)\n",
    "df['TERRITORY'].fillna(method='bfill',inplace=True)\n",
    "print(df)\n",
    "# Q1=df['PRICEEACH'].quantile(0.25)\n",
    "# Q3=df['PRICEEACH'].quantile(0.75)\n",
    "# IQR=Q1-Q3\n",
    "# print(Q1,Q3)\n",
    "# print(IQR)\n",
    "# lower_bound=Q1-1.5*IQR\n",
    "# upper_bound=Q3+1.5*IQR\n",
    "# print(lower_bound,upper_bound)\n",
    "aggregated_data = df.groupby(['DEALSIZE','COUNTRY'])['SALES'].sum()\n",
    "print(aggregated_data)"
   ]
  },
  {
   "cell_type": "code",
   "execution_count": 183,
   "id": "e45d8895-09b3-4029-b15b-304ec03020bb",
   "metadata": {},
   "outputs": [
    {
     "name": "stdout",
     "output_type": "stream",
     "text": [
      "DEALSIZE  COUNTRY    \n",
      "Large     Australia        60252.04\n",
      "          Austria          32792.08\n",
      "          Canada            9064.89\n",
      "          Denmark          49886.67\n",
      "          Finland          40012.32\n",
      "          France          179004.87\n",
      "          Germany          30496.06\n",
      "          Ireland          15439.44\n",
      "          Italy            57565.43\n",
      "          Japan            25470.16\n",
      "          Norway           41042.70\n",
      "          Philippines       7483.98\n",
      "          Singapore        35363.19\n",
      "          Spain           141042.51\n",
      "          Sweden           14345.30\n",
      "          UK               35155.24\n",
      "          USA             527702.38\n",
      "Medium    Australia       381245.00\n",
      "          Austria         125314.10\n",
      "          Belgium          71531.37\n",
      "          Canada          137430.48\n",
      "          Denmark         140050.70\n",
      "          Finland         201741.96\n",
      "          France          643606.22\n",
      "          Germany         133151.79\n",
      "          Ireland          26822.87\n",
      "          Italy           184133.88\n",
      "          Japan           101097.22\n",
      "          Norway          190502.23\n",
      "          Philippines      62415.84\n",
      "          Singapore       178562.94\n",
      "          Spain           757927.09\n",
      "          Sweden          143685.97\n",
      "          Switzerland      98617.40\n",
      "          UK              301233.02\n",
      "          USA            2208362.16\n",
      "Small     Australia       189126.06\n",
      "          Austria          43956.35\n",
      "          Belgium          36881.25\n",
      "          Canada           77583.19\n",
      "          Denmark          55699.78\n",
      "          Finland          87827.63\n",
      "          France          288305.43\n",
      "          Germany          56824.24\n",
      "          Ireland          15494.12\n",
      "          Italy           132975.00\n",
      "          Japan            61600.43\n",
      "          Norway           75918.77\n",
      "          Philippines      24115.91\n",
      "          Singapore        74562.28\n",
      "          Spain           316717.32\n",
      "          Sweden           51982.94\n",
      "          Switzerland      19096.16\n",
      "          UK              142492.20\n",
      "          USA             891918.29\n",
      "Name: SALES, dtype: float64\n",
      "***\n",
      "2208362.16\n"
     ]
    }
   ],
   "source": [
    "import pandas as pd\n",
    "# mean_data=df.groupby(['DEALSIZE','COUNTRY'])['SALES'].mean()\n",
    "# print(mean_data)\n",
    "\n",
    "# median_data=df.groupby(['DEALSIZE','COUNTRY'])['SALES'].median()\n",
    "# print(median_data)\n",
    "\n",
    "# st_d=df.groupby(['DEALSIZE','COUNTRY'])['SALES'].std()\n",
    "# print(st_d)\n",
    "\n",
    "top_performer=df.groupby(['DEALSIZE','COUNTRY'])['SALES'].sum()\n",
    "print(top_performer)\n",
    "print(\"***\")\n",
    "print(top_performer.max())"
   ]
  },
  {
   "cell_type": "code",
   "execution_count": 185,
   "id": "0aba22b6-b7f4-4411-a21a-6bf08455f4d6",
   "metadata": {},
   "outputs": [
    {
     "data": {
      "image/png": "[encoded data removed]",
      "text/plain": [
       "<Figure size 640x480 with 1 Axes>"
      ]
     },
     "metadata": {},
     "output_type": "display_data"
    }
   ],
   "source": [
    "import matplotlib.pyplot as plt\n",
    "# plt.plot(df['SALES'],df['COUNTRY'],linestyle='-')\n",
    "# plt.xlabel(\"SALES\")\n",
    "# plt.ylabel(\"COUNTRY\")\n",
    "# plt.show()\n",
    "\n",
    "plt.scatter(df['SALES'],df['QUANTITYORDERED'])\n",
    "plt.xlabel(\"SALES\")\n",
    "plt.ylabel(\"QUANTITY\")\n",
    "plt.show()"
   ]
  },
  {
   "cell_type": "code",
   "execution_count": 186,
   "id": "f62c6709-5f3c-41e0-983d-1a11cb3bcf67",
   "metadata": {},
   "outputs": [
    {
     "name": "stdout",
     "output_type": "stream",
     "text": [
      "Category\n",
      "A    35\n",
      "B    45\n",
      "C    65\n",
      "Name: Values, dtype: int64\n"
     ]
    }
   ],
   "source": [
    "import pandas as pd\n",
    "data={\n",
    "    'Category':['A','B','A','B','A','C','C'],\n",
    "    'Values':[10,20,15,25,10,30,35]\n",
    "}\n",
    "df=pd.DataFrame(data)\n",
    "grouped=df.groupby('Category')['Values'].sum()\n",
    "print(grouped)\n",
    "    "
   ]
  },
  {
   "cell_type": "code",
   "execution_count": 187,
   "id": "963cc882-8f13-4afe-a945-90fa6e577f56",
   "metadata": {},
   "outputs": [
    {
     "name": "stdout",
     "output_type": "stream",
     "text": [
      "Category  Subcategory\n",
      "A         x              10\n",
      "          y              20\n",
      "B         x              30\n",
      "          y              40\n",
      "Name: Values, dtype: int64\n"
     ]
    }
   ],
   "source": [
    "data={\n",
    "    'Category':['A','A','B','B'],\n",
    "    'Subcategory':['x','y','x','y'],\n",
    "    'Values':[10,20,30,40]\n",
    "}\n",
    "df=pd.DataFrame(data)\n",
    "grouped=df.groupby(['Category','Subcategory'])['Values'].sum()\n",
    "print(grouped)\n",
    "    "
   ]
  },
  {
   "cell_type": "code",
   "execution_count": 191,
   "id": "5c8f6f80-7239-41fa-9ad2-92618dfcb05e",
   "metadata": {},
   "outputs": [
    {
     "name": "stdout",
     "output_type": "stream",
     "text": [
      "Category\n",
      "A    10\n",
      "B    10\n",
      "Name: Values, dtype: int64\n"
     ]
    }
   ],
   "source": [
    "def custom_agg(x):\n",
    "    return x.max()-x.min()\n",
    "grouped=df.groupby('Category')['Values'].agg(custom_agg)\n",
    "print(grouped)"
   ]
  },
  {
   "cell_type": "code",
   "execution_count": 193,
   "id": "4ae02a56-552c-4045-8720-392f8085d757",
   "metadata": {},
   "outputs": [
    {
     "name": "stdout",
     "output_type": "stream",
     "text": [
      "  Category  Values\n",
      "0        A      35\n",
      "1        B      45\n",
      "2        C      65\n"
     ]
    }
   ],
   "source": [
    "import pandas as pd\n",
    "data={\n",
    "    'Category':['A','B','A','B','A','C','C'],\n",
    "    'Values':[10,20,15,25,10,30,35]\n",
    "}\n",
    "df=pd.DataFrame(data)\n",
    "grouped=df.groupby('Category')['Values'].sum()\n",
    "result=grouped.reset_index()\n",
    "print(result)"
   ]
  },
  {
   "cell_type": "code",
   "execution_count": 195,
   "id": "d4772e95-03d2-45e1-941f-67322f86a8bb",
   "metadata": {},
   "outputs": [
    {
     "name": "stdout",
     "output_type": "stream",
     "text": [
      "job\n",
      "ANALYST       6000.0\n",
      "CLERK         4150.0\n",
      "MANAGER       8275.0\n",
      "PRESIDENT     5000.0\n",
      "SALESMAN      5600.0\n",
      "accoutant    45000.0\n",
      "Name: sal, dtype: float64\n",
      "job\n",
      "ANALYST        0.0\n",
      "CLERK        500.0\n",
      "MANAGER      525.0\n",
      "PRESIDENT      0.0\n",
      "SALESMAN     350.0\n",
      "accoutant      0.0\n",
      "Name: sal, dtype: float64\n",
      "job        ename \n",
      "ANALYST    FORD       3000.0\n",
      "           SCOTT      3000.0\n",
      "CLERK      ADAMS      1100.0\n",
      "           JAMES       950.0\n",
      "           MILLER     1300.0\n",
      "           SMITH       800.0\n",
      "MANAGER    BLAKE      2850.0\n",
      "           CLARK      2450.0\n",
      "           JONES      2975.0\n",
      "PRESIDENT  KING       5000.0\n",
      "SALESMAN   ALLEN      1600.0\n",
      "           MARTIN     1250.0\n",
      "           TURNER     1500.0\n",
      "           WARD       1250.0\n",
      "accoutant  somesh    45000.0\n",
      "Name: sal, dtype: float64\n",
      "         job      sal\n",
      "0    ANALYST   6000.0\n",
      "1      CLERK   4150.0\n",
      "2    MANAGER   8275.0\n",
      "3  PRESIDENT   5000.0\n",
      "4   SALESMAN   5600.0\n",
      "5  accoutant  45000.0\n"
     ]
    },
    {
     "name": "stderr",
     "output_type": "stream",
     "text": [
      "C:\\Users\\ANB\\AppData\\Local\\Temp\\ipykernel_2108\\3419815819.py:12: UserWarning: pandas only supports SQLAlchemy connectable (engine/connection) or database string URI or sqlite3 DBAPI2 connection. Other DBAPI2 objects are not tested. Please consider using SQLAlchemy.\n",
      "  df=pd.read_sql(query,conn)\n"
     ]
    }
   ],
   "source": [
    "import pandas as pd\n",
    "import pymysql\n",
    "db_name=\"employee\"\n",
    "db_host=\"localhost\"\n",
    "db_username=\"root\"\n",
    "db_password=\"sanMS123@\"\n",
    "conn=pymysql.connect(host=db_host,\n",
    "                     user=\"root\",\n",
    "                     password=\"sanMS123@\",\n",
    "                     db=db_name)\n",
    "query=\"select * from emp\"\n",
    "df=pd.read_sql(query,conn)\n",
    "conn.close()\n",
    "grouped=df.groupby('job')['sal'].sum()\n",
    "print(grouped)\n",
    "grouped=df.groupby('job')['sal'].agg(custom_agg)\n",
    "print(grouped)\n",
    "grouped=df.groupby(['job','ename'])['sal'].sum()\n",
    "print(grouped)\n",
    "grouped=df.groupby('job')['sal'].sum()\n",
    "result=grouped.reset_index()\n",
    "print(result)\n"
   ]
  },
  {
   "cell_type": "code",
   "execution_count": null,
   "id": "5f0fc45e-366d-4201-8f60-bc0ecb374424",
   "metadata": {},
   "outputs": [],
   "source": []
  },
  {
   "cell_type": "code",
   "execution_count": null,
   "id": "67943913-7773-4b00-ae49-792b6d220ad2",
   "metadata": {},
   "outputs": [],
   "source": []
  },
  {
   "cell_type": "code",
   "execution_count": null,
   "id": "32b94cf0-e97b-47e8-bf28-ac24d6ae3b97",
   "metadata": {},
   "outputs": [],
   "source": []
  }
 ],
 "metadata": {
  "kernelspec": {
   "display_name": "Python 3 (ipykernel)",
   "language": "python",
   "name": "python3"
  },
  "language_info": {
   "codemirror_mode": {
    "name": "ipython",
    "version": 3
   },
   "file_extension": ".py",
   "mimetype": "text/x-python",
   "name": "python",
   "nbconvert_exporter": "python",
   "pygments_lexer": "ipython3",
   "version": "3.12.7"
  }
 },
 "nbformat": 4,
 "nbformat_minor": 5
}
